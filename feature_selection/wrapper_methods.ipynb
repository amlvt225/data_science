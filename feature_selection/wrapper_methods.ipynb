{
 "cells": [
  {
   "cell_type": "markdown",
   "id": "2c44cfc1",
   "metadata": {},
   "source": [
    "## WRAPPER METHODS"
   ]
  },
  {
   "cell_type": "markdown",
   "id": "6a604ae5",
   "metadata": {},
   "source": [
    "https://www.codecademy.com/paths/data-science/tracks/dsml-feature-engineeering-for-ds/modules/dsml-wrapper-methods/lessons/fe-wrapper-methods-lesson/exercises/fe-review"
   ]
  },
  {
   "cell_type": "markdown",
   "id": "a09a9e9b",
   "metadata": {},
   "source": [
    "Wrapper methods for feature selection are algorithms that select features by evaluating the performance of a machine learning model on different subsets of features. Here are some advantages of wrapper methods.\n",
    "\n",
    "They can detect relationships between features that might be relevant to the machine learning model.\n",
    "Unlike filter methods, they are designed to choose features that are relevant to whatever machine learning model you are using.\n",
    "We covered four different greedy wrapper methods and implemented them using mlextend in Python.\n",
    "\n",
    "- Sequential forward selection adds one feature at a time.\n",
    "- Sequential backward selection removes one feature at a time.\n",
    "- Sequential forward floating selection adds (and sometimes removes) one feature at a time.\n",
    "- Sequential backward floating selection removes (and sometimes adds) one feature at a time.\n",
    "\n",
    "- We also covered recursive feature elimination, which ranks features by importance and removes the least important feature at every step. We used the scikit-learn library to implement that algorithm and investigate the results."
   ]
  },
  {
   "cell_type": "code",
   "execution_count": null,
   "id": "a0a0f5a2",
   "metadata": {},
   "outputs": [],
   "source": []
  },
  {
   "cell_type": "code",
   "execution_count": null,
   "id": "31d93e7b",
   "metadata": {},
   "outputs": [],
   "source": []
  },
  {
   "cell_type": "code",
   "execution_count": null,
   "id": "221ba54c",
   "metadata": {},
   "outputs": [],
   "source": []
  },
  {
   "cell_type": "code",
   "execution_count": 45,
   "id": "519e4e32",
   "metadata": {},
   "outputs": [],
   "source": [
    "import pandas as pd\n",
    "from sklearn.datasets import load_breast_cancer\n",
    "from sklearn.linear_model import LogisticRegression\n",
    "from sklearn.feature_selection import RFE\n",
    "from sklearn.preprocessing import StandardScaler\n",
    "\n",
    "from mlxtend.feature_selection import SequentialFeatureSelector as SFS\n",
    "from mlxtend.plotting import plot_sequential_feature_selection as plot_sfs\n",
    "import matplotlib.pyplot as plt"
   ]
  },
  {
   "cell_type": "code",
   "execution_count": 43,
   "id": "3e0acd88",
   "metadata": {},
   "outputs": [],
   "source": [
    "import numpy as np"
   ]
  },
  {
   "cell_type": "code",
   "execution_count": 3,
   "id": "ccf08615",
   "metadata": {},
   "outputs": [],
   "source": [
    "# Load the data\n",
    "health = pd.read_csv(\"data_breast_cancer.csv\")\n",
    "# Split independent and dependent variables\n",
    "X = health.iloc[:,:-1]\n",
    "y = health.iloc[:,-1]"
   ]
  },
  {
   "cell_type": "code",
   "execution_count": 4,
   "id": "5aa746f3",
   "metadata": {},
   "outputs": [
    {
     "data": {
      "text/plain": [
       "(116, 9)"
      ]
     },
     "execution_count": 4,
     "metadata": {},
     "output_type": "execute_result"
    }
   ],
   "source": [
    "X.shape"
   ]
  },
  {
   "cell_type": "code",
   "execution_count": 5,
   "id": "ebcdd10f",
   "metadata": {
    "scrolled": true
   },
   "outputs": [
    {
     "data": {
      "text/html": [
       "<div>\n",
       "<style scoped>\n",
       "    .dataframe tbody tr th:only-of-type {\n",
       "        vertical-align: middle;\n",
       "    }\n",
       "\n",
       "    .dataframe tbody tr th {\n",
       "        vertical-align: top;\n",
       "    }\n",
       "\n",
       "    .dataframe thead th {\n",
       "        text-align: right;\n",
       "    }\n",
       "</style>\n",
       "<table border=\"1\" class=\"dataframe\">\n",
       "  <thead>\n",
       "    <tr style=\"text-align: right;\">\n",
       "      <th></th>\n",
       "      <th>Age</th>\n",
       "      <th>BMI</th>\n",
       "      <th>Glucose</th>\n",
       "      <th>Insulin</th>\n",
       "      <th>HOMA</th>\n",
       "      <th>Leptin</th>\n",
       "      <th>Adiponectin</th>\n",
       "      <th>Resistin</th>\n",
       "      <th>MCP.1</th>\n",
       "    </tr>\n",
       "  </thead>\n",
       "  <tbody>\n",
       "    <tr>\n",
       "      <th>0</th>\n",
       "      <td>48</td>\n",
       "      <td>23.500000</td>\n",
       "      <td>70</td>\n",
       "      <td>2.707</td>\n",
       "      <td>0.467409</td>\n",
       "      <td>8.8071</td>\n",
       "      <td>9.702400</td>\n",
       "      <td>7.99585</td>\n",
       "      <td>417.114</td>\n",
       "    </tr>\n",
       "    <tr>\n",
       "      <th>1</th>\n",
       "      <td>83</td>\n",
       "      <td>20.690495</td>\n",
       "      <td>92</td>\n",
       "      <td>3.115</td>\n",
       "      <td>0.706897</td>\n",
       "      <td>8.8438</td>\n",
       "      <td>5.429285</td>\n",
       "      <td>4.06405</td>\n",
       "      <td>468.786</td>\n",
       "    </tr>\n",
       "    <tr>\n",
       "      <th>2</th>\n",
       "      <td>82</td>\n",
       "      <td>23.124670</td>\n",
       "      <td>91</td>\n",
       "      <td>4.498</td>\n",
       "      <td>1.009651</td>\n",
       "      <td>17.9393</td>\n",
       "      <td>22.432040</td>\n",
       "      <td>9.27715</td>\n",
       "      <td>554.697</td>\n",
       "    </tr>\n",
       "    <tr>\n",
       "      <th>3</th>\n",
       "      <td>68</td>\n",
       "      <td>21.367521</td>\n",
       "      <td>77</td>\n",
       "      <td>3.226</td>\n",
       "      <td>0.612725</td>\n",
       "      <td>9.8827</td>\n",
       "      <td>7.169560</td>\n",
       "      <td>12.76600</td>\n",
       "      <td>928.220</td>\n",
       "    </tr>\n",
       "    <tr>\n",
       "      <th>4</th>\n",
       "      <td>86</td>\n",
       "      <td>21.111111</td>\n",
       "      <td>92</td>\n",
       "      <td>3.549</td>\n",
       "      <td>0.805386</td>\n",
       "      <td>6.6994</td>\n",
       "      <td>4.819240</td>\n",
       "      <td>10.57635</td>\n",
       "      <td>773.920</td>\n",
       "    </tr>\n",
       "  </tbody>\n",
       "</table>\n",
       "</div>"
      ],
      "text/plain": [
       "   Age        BMI  Glucose  Insulin      HOMA   Leptin  Adiponectin  Resistin  \\\n",
       "0   48  23.500000       70    2.707  0.467409   8.8071     9.702400   7.99585   \n",
       "1   83  20.690495       92    3.115  0.706897   8.8438     5.429285   4.06405   \n",
       "2   82  23.124670       91    4.498  1.009651  17.9393    22.432040   9.27715   \n",
       "3   68  21.367521       77    3.226  0.612725   9.8827     7.169560  12.76600   \n",
       "4   86  21.111111       92    3.549  0.805386   6.6994     4.819240  10.57635   \n",
       "\n",
       "     MCP.1  \n",
       "0  417.114  \n",
       "1  468.786  \n",
       "2  554.697  \n",
       "3  928.220  \n",
       "4  773.920  "
      ]
     },
     "execution_count": 5,
     "metadata": {},
     "output_type": "execute_result"
    }
   ],
   "source": [
    "X.head()"
   ]
  },
  {
   "cell_type": "code",
   "execution_count": 6,
   "id": "4dbf01b0",
   "metadata": {},
   "outputs": [
    {
     "data": {
      "text/plain": [
       "0    1\n",
       "1    1\n",
       "2    1\n",
       "3    1\n",
       "4    1\n",
       "Name: Classification, dtype: int64"
      ]
     },
     "execution_count": 6,
     "metadata": {},
     "output_type": "execute_result"
    }
   ],
   "source": [
    "y.head()"
   ]
  },
  {
   "cell_type": "code",
   "execution_count": 7,
   "id": "7d611e5e",
   "metadata": {},
   "outputs": [],
   "source": [
    "# Logistic regression model\n",
    "lr = LogisticRegression(max_iter=1000)"
   ]
  },
  {
   "cell_type": "code",
   "execution_count": 8,
   "id": "9c72c918",
   "metadata": {},
   "outputs": [
    {
     "data": {
      "text/html": [
       "<style>#sk-container-id-1 {color: black;background-color: white;}#sk-container-id-1 pre{padding: 0;}#sk-container-id-1 div.sk-toggleable {background-color: white;}#sk-container-id-1 label.sk-toggleable__label {cursor: pointer;display: block;width: 100%;margin-bottom: 0;padding: 0.3em;box-sizing: border-box;text-align: center;}#sk-container-id-1 label.sk-toggleable__label-arrow:before {content: \"▸\";float: left;margin-right: 0.25em;color: #696969;}#sk-container-id-1 label.sk-toggleable__label-arrow:hover:before {color: black;}#sk-container-id-1 div.sk-estimator:hover label.sk-toggleable__label-arrow:before {color: black;}#sk-container-id-1 div.sk-toggleable__content {max-height: 0;max-width: 0;overflow: hidden;text-align: left;background-color: #f0f8ff;}#sk-container-id-1 div.sk-toggleable__content pre {margin: 0.2em;color: black;border-radius: 0.25em;background-color: #f0f8ff;}#sk-container-id-1 input.sk-toggleable__control:checked~div.sk-toggleable__content {max-height: 200px;max-width: 100%;overflow: auto;}#sk-container-id-1 input.sk-toggleable__control:checked~label.sk-toggleable__label-arrow:before {content: \"▾\";}#sk-container-id-1 div.sk-estimator input.sk-toggleable__control:checked~label.sk-toggleable__label {background-color: #d4ebff;}#sk-container-id-1 div.sk-label input.sk-toggleable__control:checked~label.sk-toggleable__label {background-color: #d4ebff;}#sk-container-id-1 input.sk-hidden--visually {border: 0;clip: rect(1px 1px 1px 1px);clip: rect(1px, 1px, 1px, 1px);height: 1px;margin: -1px;overflow: hidden;padding: 0;position: absolute;width: 1px;}#sk-container-id-1 div.sk-estimator {font-family: monospace;background-color: #f0f8ff;border: 1px dotted black;border-radius: 0.25em;box-sizing: border-box;margin-bottom: 0.5em;}#sk-container-id-1 div.sk-estimator:hover {background-color: #d4ebff;}#sk-container-id-1 div.sk-parallel-item::after {content: \"\";width: 100%;border-bottom: 1px solid gray;flex-grow: 1;}#sk-container-id-1 div.sk-label:hover label.sk-toggleable__label {background-color: #d4ebff;}#sk-container-id-1 div.sk-serial::before {content: \"\";position: absolute;border-left: 1px solid gray;box-sizing: border-box;top: 0;bottom: 0;left: 50%;z-index: 0;}#sk-container-id-1 div.sk-serial {display: flex;flex-direction: column;align-items: center;background-color: white;padding-right: 0.2em;padding-left: 0.2em;position: relative;}#sk-container-id-1 div.sk-item {position: relative;z-index: 1;}#sk-container-id-1 div.sk-parallel {display: flex;align-items: stretch;justify-content: center;background-color: white;position: relative;}#sk-container-id-1 div.sk-item::before, #sk-container-id-1 div.sk-parallel-item::before {content: \"\";position: absolute;border-left: 1px solid gray;box-sizing: border-box;top: 0;bottom: 0;left: 50%;z-index: -1;}#sk-container-id-1 div.sk-parallel-item {display: flex;flex-direction: column;z-index: 1;position: relative;background-color: white;}#sk-container-id-1 div.sk-parallel-item:first-child::after {align-self: flex-end;width: 50%;}#sk-container-id-1 div.sk-parallel-item:last-child::after {align-self: flex-start;width: 50%;}#sk-container-id-1 div.sk-parallel-item:only-child::after {width: 0;}#sk-container-id-1 div.sk-dashed-wrapped {border: 1px dashed gray;margin: 0 0.4em 0.5em 0.4em;box-sizing: border-box;padding-bottom: 0.4em;background-color: white;}#sk-container-id-1 div.sk-label label {font-family: monospace;font-weight: bold;display: inline-block;line-height: 1.2em;}#sk-container-id-1 div.sk-label-container {text-align: center;}#sk-container-id-1 div.sk-container {/* jupyter's `normalize.less` sets `[hidden] { display: none; }` but bootstrap.min.css set `[hidden] { display: none !important; }` so we also need the `!important` here to be able to override the default hidden behavior on the sphinx rendered scikit-learn.org. See: https://github.com/scikit-learn/scikit-learn/issues/21755 */display: inline-block !important;position: relative;}#sk-container-id-1 div.sk-text-repr-fallback {display: none;}</style><div id=\"sk-container-id-1\" class=\"sk-top-container\"><div class=\"sk-text-repr-fallback\"><pre>LogisticRegression(max_iter=1000)</pre><b>In a Jupyter environment, please rerun this cell to show the HTML representation or trust the notebook. <br />On GitHub, the HTML representation is unable to render, please try loading this page with nbviewer.org.</b></div><div class=\"sk-container\" hidden><div class=\"sk-item\"><div class=\"sk-estimator sk-toggleable\"><input class=\"sk-toggleable__control sk-hidden--visually\" id=\"sk-estimator-id-1\" type=\"checkbox\" checked><label for=\"sk-estimator-id-1\" class=\"sk-toggleable__label sk-toggleable__label-arrow\">LogisticRegression</label><div class=\"sk-toggleable__content\"><pre>LogisticRegression(max_iter=1000)</pre></div></div></div></div></div>"
      ],
      "text/plain": [
       "LogisticRegression(max_iter=1000)"
      ]
     },
     "execution_count": 8,
     "metadata": {},
     "output_type": "execute_result"
    }
   ],
   "source": [
    "lr.fit(X, y)"
   ]
  },
  {
   "cell_type": "code",
   "execution_count": 9,
   "id": "6f8c5ad4",
   "metadata": {},
   "outputs": [
    {
     "data": {
      "text/plain": [
       "0.8017241379310345"
      ]
     },
     "execution_count": 9,
     "metadata": {},
     "output_type": "execute_result"
    }
   ],
   "source": [
    "lr.score(X, y)"
   ]
  },
  {
   "cell_type": "code",
   "execution_count": 10,
   "id": "17e19b42",
   "metadata": {},
   "outputs": [
    {
     "data": {
      "text/html": [
       "<div>\n",
       "<style scoped>\n",
       "    .dataframe tbody tr th:only-of-type {\n",
       "        vertical-align: middle;\n",
       "    }\n",
       "\n",
       "    .dataframe tbody tr th {\n",
       "        vertical-align: top;\n",
       "    }\n",
       "\n",
       "    .dataframe thead th {\n",
       "        text-align: right;\n",
       "    }\n",
       "</style>\n",
       "<table border=\"1\" class=\"dataframe\">\n",
       "  <thead>\n",
       "    <tr style=\"text-align: right;\">\n",
       "      <th></th>\n",
       "      <th>COEF</th>\n",
       "      <th>NAMES</th>\n",
       "    </tr>\n",
       "  </thead>\n",
       "  <tbody>\n",
       "    <tr>\n",
       "      <th>4</th>\n",
       "      <td>-0.227798</td>\n",
       "      <td>HOMA</td>\n",
       "    </tr>\n",
       "    <tr>\n",
       "      <th>1</th>\n",
       "      <td>-0.145462</td>\n",
       "      <td>BMI</td>\n",
       "    </tr>\n",
       "    <tr>\n",
       "      <th>0</th>\n",
       "      <td>-0.023319</td>\n",
       "      <td>Age</td>\n",
       "    </tr>\n",
       "    <tr>\n",
       "      <th>5</th>\n",
       "      <td>-0.011065</td>\n",
       "      <td>Leptin</td>\n",
       "    </tr>\n",
       "    <tr>\n",
       "      <th>6</th>\n",
       "      <td>-0.005576</td>\n",
       "      <td>Adiponectin</td>\n",
       "    </tr>\n",
       "    <tr>\n",
       "      <th>8</th>\n",
       "      <td>0.000687</td>\n",
       "      <td>MCP.1</td>\n",
       "    </tr>\n",
       "    <tr>\n",
       "      <th>7</th>\n",
       "      <td>0.058573</td>\n",
       "      <td>Resistin</td>\n",
       "    </tr>\n",
       "    <tr>\n",
       "      <th>2</th>\n",
       "      <td>0.097191</td>\n",
       "      <td>Glucose</td>\n",
       "    </tr>\n",
       "    <tr>\n",
       "      <th>3</th>\n",
       "      <td>0.119650</td>\n",
       "      <td>Insulin</td>\n",
       "    </tr>\n",
       "  </tbody>\n",
       "</table>\n",
       "</div>"
      ],
      "text/plain": [
       "       COEF        NAMES\n",
       "4 -0.227798         HOMA\n",
       "1 -0.145462          BMI\n",
       "0 -0.023319          Age\n",
       "5 -0.011065       Leptin\n",
       "6 -0.005576  Adiponectin\n",
       "8  0.000687        MCP.1\n",
       "7  0.058573     Resistin\n",
       "2  0.097191      Glucose\n",
       "3  0.119650      Insulin"
      ]
     },
     "execution_count": 10,
     "metadata": {},
     "output_type": "execute_result"
    }
   ],
   "source": [
    "df_coef = pd.DataFrame({\"COEF\": lr.coef_[0],\n",
    "              \"NAMES\": lr.feature_names_in_}).sort_values(\"COEF\")\n",
    "df_coef"
   ]
  },
  {
   "cell_type": "markdown",
   "id": "b9167b77",
   "metadata": {},
   "source": [
    "# NOW LETS WRAP "
   ]
  },
  {
   "cell_type": "markdown",
   "id": "c10233d8",
   "metadata": {},
   "source": [
    "### SFS - SQEUENTIAL FORWARD SELECTION "
   ]
  },
  {
   "cell_type": "code",
   "execution_count": 11,
   "id": "3dc93412",
   "metadata": {},
   "outputs": [
    {
     "data": {
      "text/html": [
       "<style>#sk-container-id-2 {color: black;background-color: white;}#sk-container-id-2 pre{padding: 0;}#sk-container-id-2 div.sk-toggleable {background-color: white;}#sk-container-id-2 label.sk-toggleable__label {cursor: pointer;display: block;width: 100%;margin-bottom: 0;padding: 0.3em;box-sizing: border-box;text-align: center;}#sk-container-id-2 label.sk-toggleable__label-arrow:before {content: \"▸\";float: left;margin-right: 0.25em;color: #696969;}#sk-container-id-2 label.sk-toggleable__label-arrow:hover:before {color: black;}#sk-container-id-2 div.sk-estimator:hover label.sk-toggleable__label-arrow:before {color: black;}#sk-container-id-2 div.sk-toggleable__content {max-height: 0;max-width: 0;overflow: hidden;text-align: left;background-color: #f0f8ff;}#sk-container-id-2 div.sk-toggleable__content pre {margin: 0.2em;color: black;border-radius: 0.25em;background-color: #f0f8ff;}#sk-container-id-2 input.sk-toggleable__control:checked~div.sk-toggleable__content {max-height: 200px;max-width: 100%;overflow: auto;}#sk-container-id-2 input.sk-toggleable__control:checked~label.sk-toggleable__label-arrow:before {content: \"▾\";}#sk-container-id-2 div.sk-estimator input.sk-toggleable__control:checked~label.sk-toggleable__label {background-color: #d4ebff;}#sk-container-id-2 div.sk-label input.sk-toggleable__control:checked~label.sk-toggleable__label {background-color: #d4ebff;}#sk-container-id-2 input.sk-hidden--visually {border: 0;clip: rect(1px 1px 1px 1px);clip: rect(1px, 1px, 1px, 1px);height: 1px;margin: -1px;overflow: hidden;padding: 0;position: absolute;width: 1px;}#sk-container-id-2 div.sk-estimator {font-family: monospace;background-color: #f0f8ff;border: 1px dotted black;border-radius: 0.25em;box-sizing: border-box;margin-bottom: 0.5em;}#sk-container-id-2 div.sk-estimator:hover {background-color: #d4ebff;}#sk-container-id-2 div.sk-parallel-item::after {content: \"\";width: 100%;border-bottom: 1px solid gray;flex-grow: 1;}#sk-container-id-2 div.sk-label:hover label.sk-toggleable__label {background-color: #d4ebff;}#sk-container-id-2 div.sk-serial::before {content: \"\";position: absolute;border-left: 1px solid gray;box-sizing: border-box;top: 0;bottom: 0;left: 50%;z-index: 0;}#sk-container-id-2 div.sk-serial {display: flex;flex-direction: column;align-items: center;background-color: white;padding-right: 0.2em;padding-left: 0.2em;position: relative;}#sk-container-id-2 div.sk-item {position: relative;z-index: 1;}#sk-container-id-2 div.sk-parallel {display: flex;align-items: stretch;justify-content: center;background-color: white;position: relative;}#sk-container-id-2 div.sk-item::before, #sk-container-id-2 div.sk-parallel-item::before {content: \"\";position: absolute;border-left: 1px solid gray;box-sizing: border-box;top: 0;bottom: 0;left: 50%;z-index: -1;}#sk-container-id-2 div.sk-parallel-item {display: flex;flex-direction: column;z-index: 1;position: relative;background-color: white;}#sk-container-id-2 div.sk-parallel-item:first-child::after {align-self: flex-end;width: 50%;}#sk-container-id-2 div.sk-parallel-item:last-child::after {align-self: flex-start;width: 50%;}#sk-container-id-2 div.sk-parallel-item:only-child::after {width: 0;}#sk-container-id-2 div.sk-dashed-wrapped {border: 1px dashed gray;margin: 0 0.4em 0.5em 0.4em;box-sizing: border-box;padding-bottom: 0.4em;background-color: white;}#sk-container-id-2 div.sk-label label {font-family: monospace;font-weight: bold;display: inline-block;line-height: 1.2em;}#sk-container-id-2 div.sk-label-container {text-align: center;}#sk-container-id-2 div.sk-container {/* jupyter's `normalize.less` sets `[hidden] { display: none; }` but bootstrap.min.css set `[hidden] { display: none !important; }` so we also need the `!important` here to be able to override the default hidden behavior on the sphinx rendered scikit-learn.org. See: https://github.com/scikit-learn/scikit-learn/issues/21755 */display: inline-block !important;position: relative;}#sk-container-id-2 div.sk-text-repr-fallback {display: none;}</style><div id=\"sk-container-id-2\" class=\"sk-top-container\"><div class=\"sk-text-repr-fallback\"><pre>SequentialFeatureSelector(cv=0, estimator=LogisticRegression(max_iter=1000),\n",
       "                          k_features=3, scoring=&#x27;accuracy&#x27;)</pre><b>In a Jupyter environment, please rerun this cell to show the HTML representation or trust the notebook. <br />On GitHub, the HTML representation is unable to render, please try loading this page with nbviewer.org.</b></div><div class=\"sk-container\" hidden><div class=\"sk-item sk-dashed-wrapped\"><div class=\"sk-label-container\"><div class=\"sk-label sk-toggleable\"><input class=\"sk-toggleable__control sk-hidden--visually\" id=\"sk-estimator-id-2\" type=\"checkbox\" ><label for=\"sk-estimator-id-2\" class=\"sk-toggleable__label sk-toggleable__label-arrow\">SequentialFeatureSelector</label><div class=\"sk-toggleable__content\"><pre>SequentialFeatureSelector(cv=0, estimator=LogisticRegression(max_iter=1000),\n",
       "                          k_features=3, scoring=&#x27;accuracy&#x27;)</pre></div></div></div><div class=\"sk-parallel\"><div class=\"sk-parallel-item\"><div class=\"sk-item\"><div class=\"sk-label-container\"><div class=\"sk-label sk-toggleable\"><input class=\"sk-toggleable__control sk-hidden--visually\" id=\"sk-estimator-id-3\" type=\"checkbox\" ><label for=\"sk-estimator-id-3\" class=\"sk-toggleable__label sk-toggleable__label-arrow\">estimator: LogisticRegression</label><div class=\"sk-toggleable__content\"><pre>LogisticRegression(max_iter=1000)</pre></div></div></div><div class=\"sk-serial\"><div class=\"sk-item\"><div class=\"sk-estimator sk-toggleable\"><input class=\"sk-toggleable__control sk-hidden--visually\" id=\"sk-estimator-id-4\" type=\"checkbox\" ><label for=\"sk-estimator-id-4\" class=\"sk-toggleable__label sk-toggleable__label-arrow\">LogisticRegression</label><div class=\"sk-toggleable__content\"><pre>LogisticRegression(max_iter=1000)</pre></div></div></div></div></div></div></div></div></div></div>"
      ],
      "text/plain": [
       "SequentialFeatureSelector(cv=0, estimator=LogisticRegression(max_iter=1000),\n",
       "                          k_features=3, scoring='accuracy')"
      ]
     },
     "execution_count": 11,
     "metadata": {},
     "output_type": "execute_result"
    }
   ],
   "source": [
    "# Set up SFS parameters\n",
    "sfs = SFS(lr,\n",
    "           k_features=3, # number of features to select\n",
    "           forward=True,\n",
    "           floating=False,\n",
    "           scoring='accuracy',\n",
    "           cv=0)\n",
    "# Fit SFS to our features X and outcome y   \n",
    "sfs.fit(X, y)"
   ]
  },
  {
   "cell_type": "code",
   "execution_count": 13,
   "id": "954f8472",
   "metadata": {},
   "outputs": [
    {
     "data": {
      "text/plain": [
       "('Age', 'Glucose', 'Insulin')"
      ]
     },
     "execution_count": 13,
     "metadata": {},
     "output_type": "execute_result"
    }
   ],
   "source": [
    "sfs.k_feature_names_"
   ]
  },
  {
   "cell_type": "code",
   "execution_count": 17,
   "id": "f083e746",
   "metadata": {},
   "outputs": [
    {
     "name": "stderr",
     "output_type": "stream",
     "text": [
      "/Users/amlvt225/anaconda3/envs/data_science_env/lib/python3.10/site-packages/numpy/core/_methods.py:265: RuntimeWarning: Degrees of freedom <= 0 for slice\n",
      "  ret = _var(a, axis=axis, dtype=dtype, out=out, ddof=ddof,\n",
      "/Users/amlvt225/anaconda3/envs/data_science_env/lib/python3.10/site-packages/numpy/core/_methods.py:257: RuntimeWarning: invalid value encountered in double_scalars\n",
      "  ret = ret.dtype.type(ret / rcount)\n"
     ]
    },
    {
     "data": {
      "text/plain": [
       "{1: {'feature_idx': (2,),\n",
       "  'cv_scores': array([0.72413793]),\n",
       "  'avg_score': 0.7241379310344828,\n",
       "  'feature_names': ('Glucose',),\n",
       "  'ci_bound': nan,\n",
       "  'std_dev': 0.0,\n",
       "  'std_err': nan},\n",
       " 2: {'feature_idx': (0, 2),\n",
       "  'cv_scores': array([0.73275862]),\n",
       "  'avg_score': 0.7327586206896551,\n",
       "  'feature_names': ('Age', 'Glucose'),\n",
       "  'ci_bound': nan,\n",
       "  'std_dev': 0.0,\n",
       "  'std_err': nan},\n",
       " 3: {'feature_idx': (0, 2, 3),\n",
       "  'cv_scores': array([0.76724138]),\n",
       "  'avg_score': 0.7672413793103449,\n",
       "  'feature_names': ('Age', 'Glucose', 'Insulin'),\n",
       "  'ci_bound': nan,\n",
       "  'std_dev': 0.0,\n",
       "  'std_err': nan}}"
      ]
     },
     "execution_count": 17,
     "metadata": {},
     "output_type": "execute_result"
    }
   ],
   "source": [
    "sfs.get_metric_dict()"
   ]
  },
  {
   "cell_type": "markdown",
   "id": "9747e8be",
   "metadata": {},
   "source": [
    "## This details how each iteration worked and what was added "
   ]
  },
  {
   "cell_type": "code",
   "execution_count": 18,
   "id": "7e1147c2",
   "metadata": {},
   "outputs": [
    {
     "data": {
      "text/plain": [
       "{1: {'feature_idx': (2,),\n",
       "  'cv_scores': array([0.72413793]),\n",
       "  'avg_score': 0.7241379310344828,\n",
       "  'feature_names': ('Glucose',)},\n",
       " 2: {'feature_idx': (0, 2),\n",
       "  'cv_scores': array([0.73275862]),\n",
       "  'avg_score': 0.7327586206896551,\n",
       "  'feature_names': ('Age', 'Glucose')},\n",
       " 3: {'feature_idx': (0, 2, 3),\n",
       "  'cv_scores': array([0.76724138]),\n",
       "  'avg_score': 0.7672413793103449,\n",
       "  'feature_names': ('Age', 'Glucose', 'Insulin')}}"
      ]
     },
     "execution_count": 18,
     "metadata": {},
     "output_type": "execute_result"
    }
   ],
   "source": [
    "sfs.subsets_"
   ]
  },
  {
   "cell_type": "code",
   "execution_count": 19,
   "id": "d5535219",
   "metadata": {},
   "outputs": [
    {
     "name": "stdout",
     "output_type": "stream",
     "text": [
      "('Age', 'Glucose', 'Insulin')\n"
     ]
    }
   ],
   "source": [
    "# Print a tuple of feature names after 3 features are added\n",
    "print(sfs.subsets_[3]['feature_names'])"
   ]
  },
  {
   "cell_type": "code",
   "execution_count": 20,
   "id": "2c88129a",
   "metadata": {},
   "outputs": [
    {
     "name": "stdout",
     "output_type": "stream",
     "text": [
      "0.7672413793103449\n"
     ]
    }
   ],
   "source": [
    "# Print the accuracy of the model after 3 features are added\n",
    "print(sfs.subsets_[3]['avg_score'])"
   ]
  },
  {
   "cell_type": "code",
   "execution_count": 23,
   "id": "2254347e",
   "metadata": {},
   "outputs": [
    {
     "data": {
      "image/png": "[encoded data removed]",
      "text/plain": [
       "<Figure size 432x288 with 1 Axes>"
      ]
     },
     "metadata": {
      "needs_background": "light"
     },
     "output_type": "display_data"
    }
   ],
   "source": [
    "# Plot the accuracy of the model as a function of the number of features\n",
    "plot_sfs(sfs.get_metric_dict())\n",
    "plt.show()"
   ]
  },
  {
   "cell_type": "markdown",
   "id": "93ef12a8",
   "metadata": {},
   "source": [
    "## SBS "
   ]
  },
  {
   "cell_type": "code",
   "execution_count": 24,
   "id": "3fd4687f",
   "metadata": {},
   "outputs": [],
   "source": [
    "# Sequential backward selection\n",
    "sbs = SFS(lr,\n",
    "          k_features=3,\n",
    "          forward=False,\n",
    "          floating=False,\n",
    "          scoring='accuracy',\n",
    "          cv=0)"
   ]
  },
  {
   "cell_type": "code",
   "execution_count": 25,
   "id": "71131330",
   "metadata": {},
   "outputs": [
    {
     "data": {
      "text/html": [
       "<style>#sk-container-id-3 {color: black;background-color: white;}#sk-container-id-3 pre{padding: 0;}#sk-container-id-3 div.sk-toggleable {background-color: white;}#sk-container-id-3 label.sk-toggleable__label {cursor: pointer;display: block;width: 100%;margin-bottom: 0;padding: 0.3em;box-sizing: border-box;text-align: center;}#sk-container-id-3 label.sk-toggleable__label-arrow:before {content: \"▸\";float: left;margin-right: 0.25em;color: #696969;}#sk-container-id-3 label.sk-toggleable__label-arrow:hover:before {color: black;}#sk-container-id-3 div.sk-estimator:hover label.sk-toggleable__label-arrow:before {color: black;}#sk-container-id-3 div.sk-toggleable__content {max-height: 0;max-width: 0;overflow: hidden;text-align: left;background-color: #f0f8ff;}#sk-container-id-3 div.sk-toggleable__content pre {margin: 0.2em;color: black;border-radius: 0.25em;background-color: #f0f8ff;}#sk-container-id-3 input.sk-toggleable__control:checked~div.sk-toggleable__content {max-height: 200px;max-width: 100%;overflow: auto;}#sk-container-id-3 input.sk-toggleable__control:checked~label.sk-toggleable__label-arrow:before {content: \"▾\";}#sk-container-id-3 div.sk-estimator input.sk-toggleable__control:checked~label.sk-toggleable__label {background-color: #d4ebff;}#sk-container-id-3 div.sk-label input.sk-toggleable__control:checked~label.sk-toggleable__label {background-color: #d4ebff;}#sk-container-id-3 input.sk-hidden--visually {border: 0;clip: rect(1px 1px 1px 1px);clip: rect(1px, 1px, 1px, 1px);height: 1px;margin: -1px;overflow: hidden;padding: 0;position: absolute;width: 1px;}#sk-container-id-3 div.sk-estimator {font-family: monospace;background-color: #f0f8ff;border: 1px dotted black;border-radius: 0.25em;box-sizing: border-box;margin-bottom: 0.5em;}#sk-container-id-3 div.sk-estimator:hover {background-color: #d4ebff;}#sk-container-id-3 div.sk-parallel-item::after {content: \"\";width: 100%;border-bottom: 1px solid gray;flex-grow: 1;}#sk-container-id-3 div.sk-label:hover label.sk-toggleable__label {background-color: #d4ebff;}#sk-container-id-3 div.sk-serial::before {content: \"\";position: absolute;border-left: 1px solid gray;box-sizing: border-box;top: 0;bottom: 0;left: 50%;z-index: 0;}#sk-container-id-3 div.sk-serial {display: flex;flex-direction: column;align-items: center;background-color: white;padding-right: 0.2em;padding-left: 0.2em;position: relative;}#sk-container-id-3 div.sk-item {position: relative;z-index: 1;}#sk-container-id-3 div.sk-parallel {display: flex;align-items: stretch;justify-content: center;background-color: white;position: relative;}#sk-container-id-3 div.sk-item::before, #sk-container-id-3 div.sk-parallel-item::before {content: \"\";position: absolute;border-left: 1px solid gray;box-sizing: border-box;top: 0;bottom: 0;left: 50%;z-index: -1;}#sk-container-id-3 div.sk-parallel-item {display: flex;flex-direction: column;z-index: 1;position: relative;background-color: white;}#sk-container-id-3 div.sk-parallel-item:first-child::after {align-self: flex-end;width: 50%;}#sk-container-id-3 div.sk-parallel-item:last-child::after {align-self: flex-start;width: 50%;}#sk-container-id-3 div.sk-parallel-item:only-child::after {width: 0;}#sk-container-id-3 div.sk-dashed-wrapped {border: 1px dashed gray;margin: 0 0.4em 0.5em 0.4em;box-sizing: border-box;padding-bottom: 0.4em;background-color: white;}#sk-container-id-3 div.sk-label label {font-family: monospace;font-weight: bold;display: inline-block;line-height: 1.2em;}#sk-container-id-3 div.sk-label-container {text-align: center;}#sk-container-id-3 div.sk-container {/* jupyter's `normalize.less` sets `[hidden] { display: none; }` but bootstrap.min.css set `[hidden] { display: none !important; }` so we also need the `!important` here to be able to override the default hidden behavior on the sphinx rendered scikit-learn.org. See: https://github.com/scikit-learn/scikit-learn/issues/21755 */display: inline-block !important;position: relative;}#sk-container-id-3 div.sk-text-repr-fallback {display: none;}</style><div id=\"sk-container-id-3\" class=\"sk-top-container\"><div class=\"sk-text-repr-fallback\"><pre>SequentialFeatureSelector(cv=0, estimator=LogisticRegression(max_iter=1000),\n",
       "                          forward=False, k_features=3, scoring=&#x27;accuracy&#x27;)</pre><b>In a Jupyter environment, please rerun this cell to show the HTML representation or trust the notebook. <br />On GitHub, the HTML representation is unable to render, please try loading this page with nbviewer.org.</b></div><div class=\"sk-container\" hidden><div class=\"sk-item sk-dashed-wrapped\"><div class=\"sk-label-container\"><div class=\"sk-label sk-toggleable\"><input class=\"sk-toggleable__control sk-hidden--visually\" id=\"sk-estimator-id-5\" type=\"checkbox\" ><label for=\"sk-estimator-id-5\" class=\"sk-toggleable__label sk-toggleable__label-arrow\">SequentialFeatureSelector</label><div class=\"sk-toggleable__content\"><pre>SequentialFeatureSelector(cv=0, estimator=LogisticRegression(max_iter=1000),\n",
       "                          forward=False, k_features=3, scoring=&#x27;accuracy&#x27;)</pre></div></div></div><div class=\"sk-parallel\"><div class=\"sk-parallel-item\"><div class=\"sk-item\"><div class=\"sk-label-container\"><div class=\"sk-label sk-toggleable\"><input class=\"sk-toggleable__control sk-hidden--visually\" id=\"sk-estimator-id-6\" type=\"checkbox\" ><label for=\"sk-estimator-id-6\" class=\"sk-toggleable__label sk-toggleable__label-arrow\">estimator: LogisticRegression</label><div class=\"sk-toggleable__content\"><pre>LogisticRegression(max_iter=1000)</pre></div></div></div><div class=\"sk-serial\"><div class=\"sk-item\"><div class=\"sk-estimator sk-toggleable\"><input class=\"sk-toggleable__control sk-hidden--visually\" id=\"sk-estimator-id-7\" type=\"checkbox\" ><label for=\"sk-estimator-id-7\" class=\"sk-toggleable__label sk-toggleable__label-arrow\">LogisticRegression</label><div class=\"sk-toggleable__content\"><pre>LogisticRegression(max_iter=1000)</pre></div></div></div></div></div></div></div></div></div></div>"
      ],
      "text/plain": [
       "SequentialFeatureSelector(cv=0, estimator=LogisticRegression(max_iter=1000),\n",
       "                          forward=False, k_features=3, scoring='accuracy')"
      ]
     },
     "execution_count": 25,
     "metadata": {},
     "output_type": "execute_result"
    }
   ],
   "source": [
    "sbs.fit(X, y)"
   ]
  },
  {
   "cell_type": "code",
   "execution_count": 26,
   "id": "d2ef9d1f",
   "metadata": {},
   "outputs": [
    {
     "name": "stdout",
     "output_type": "stream",
     "text": [
      "{9: {'feature_idx': (0, 1, 2, 3, 4, 5, 6, 7, 8), 'cv_scores': array([0.80172414]), 'avg_score': 0.8017241379310345, 'feature_names': ('Age', 'BMI', 'Glucose', 'Insulin', 'HOMA', 'Leptin', 'Adiponectin', 'Resistin', 'MCP.1')}, 8: {'feature_idx': (0, 1, 2, 3, 4, 5, 6, 7), 'cv_scores': array([0.80172414]), 'avg_score': 0.8017241379310345, 'feature_names': ('Age', 'BMI', 'Glucose', 'Insulin', 'HOMA', 'Leptin', 'Adiponectin', 'Resistin')}, 7: {'feature_idx': (0, 1, 2, 3, 4, 5, 7), 'cv_scores': array([0.80172414]), 'avg_score': 0.8017241379310345, 'feature_names': ('Age', 'BMI', 'Glucose', 'Insulin', 'HOMA', 'Leptin', 'Resistin')}, 6: {'feature_idx': (0, 1, 2, 3, 5, 7), 'cv_scores': array([0.80172414]), 'avg_score': 0.8017241379310345, 'feature_names': ('Age', 'BMI', 'Glucose', 'Insulin', 'Leptin', 'Resistin')}, 5: {'feature_idx': (0, 1, 2, 3, 7), 'cv_scores': array([0.79310345]), 'avg_score': 0.7931034482758621, 'feature_names': ('Age', 'BMI', 'Glucose', 'Insulin', 'Resistin')}, 4: {'feature_idx': (0, 1, 2, 7), 'cv_scores': array([0.76724138]), 'avg_score': 0.7672413793103449, 'feature_names': ('Age', 'BMI', 'Glucose', 'Resistin')}, 3: {'feature_idx': (0, 2, 7), 'cv_scores': array([0.74137931]), 'avg_score': 0.7413793103448276, 'feature_names': ('Age', 'Glucose', 'Resistin')}}\n"
     ]
    }
   ],
   "source": [
    "print(sbs.subsets_)"
   ]
  },
  {
   "cell_type": "code",
   "execution_count": 27,
   "id": "114b5f90",
   "metadata": {},
   "outputs": [
    {
     "name": "stderr",
     "output_type": "stream",
     "text": [
      "/Users/amlvt225/anaconda3/envs/data_science_env/lib/python3.10/site-packages/numpy/core/_methods.py:265: RuntimeWarning: Degrees of freedom <= 0 for slice\n",
      "  ret = _var(a, axis=axis, dtype=dtype, out=out, ddof=ddof,\n",
      "/Users/amlvt225/anaconda3/envs/data_science_env/lib/python3.10/site-packages/numpy/core/_methods.py:257: RuntimeWarning: invalid value encountered in double_scalars\n",
      "  ret = ret.dtype.type(ret / rcount)\n"
     ]
    },
    {
     "data": {
      "image/png": "[encoded data removed]",
      "text/plain": [
       "<Figure size 432x288 with 1 Axes>"
      ]
     },
     "metadata": {
      "needs_background": "light"
     },
     "output_type": "display_data"
    }
   ],
   "source": [
    "# Plot the accuracy of the model as a function of the number of features\n",
    "plot_sfs(sbs.get_metric_dict())\n",
    "plt.show()"
   ]
  },
  {
   "cell_type": "code",
   "execution_count": 28,
   "id": "cf2d5af6",
   "metadata": {},
   "outputs": [
    {
     "name": "stdout",
     "output_type": "stream",
     "text": [
      "('Age', 'Glucose', 'Resistin')\n"
     ]
    }
   ],
   "source": [
    "# Print a tuple of feature names after 3 features are added\n",
    "print(sbs.subsets_[3]['feature_names'])"
   ]
  },
  {
   "cell_type": "code",
   "execution_count": 29,
   "id": "1a16a056",
   "metadata": {},
   "outputs": [
    {
     "name": "stdout",
     "output_type": "stream",
     "text": [
      "0.7413793103448276\n"
     ]
    }
   ],
   "source": [
    "# Print the accuracy of the model after 3 features are added\n",
    "print(sbs.subsets_[3]['avg_score'])"
   ]
  },
  {
   "cell_type": "code",
   "execution_count": 30,
   "id": "d9153c94",
   "metadata": {},
   "outputs": [
    {
     "data": {
      "text/plain": [
       "(<Figure size 432x288 with 1 Axes>,\n",
       " <AxesSubplot:xlabel='Number of Features', ylabel='Performance'>)"
      ]
     },
     "execution_count": 30,
     "metadata": {},
     "output_type": "execute_result"
    },
    {
     "data": {
      "image/png": "[encoded data removed]",
      "text/plain": [
       "<Figure size 432x288 with 1 Axes>"
      ]
     },
     "metadata": {
      "needs_background": "light"
     },
     "output_type": "display_data"
    }
   ],
   "source": [
    "plot_sfs(sbs.get_metric_dict())"
   ]
  },
  {
   "cell_type": "markdown",
   "id": "33cef99f",
   "metadata": {},
   "source": [
    "# SFFS - Floating Forward "
   ]
  },
  {
   "cell_type": "code",
   "execution_count": 33,
   "id": "f7df9e86",
   "metadata": {},
   "outputs": [
    {
     "data": {
      "text/html": [
       "<style>#sk-container-id-5 {color: black;background-color: white;}#sk-container-id-5 pre{padding: 0;}#sk-container-id-5 div.sk-toggleable {background-color: white;}#sk-container-id-5 label.sk-toggleable__label {cursor: pointer;display: block;width: 100%;margin-bottom: 0;padding: 0.3em;box-sizing: border-box;text-align: center;}#sk-container-id-5 label.sk-toggleable__label-arrow:before {content: \"▸\";float: left;margin-right: 0.25em;color: #696969;}#sk-container-id-5 label.sk-toggleable__label-arrow:hover:before {color: black;}#sk-container-id-5 div.sk-estimator:hover label.sk-toggleable__label-arrow:before {color: black;}#sk-container-id-5 div.sk-toggleable__content {max-height: 0;max-width: 0;overflow: hidden;text-align: left;background-color: #f0f8ff;}#sk-container-id-5 div.sk-toggleable__content pre {margin: 0.2em;color: black;border-radius: 0.25em;background-color: #f0f8ff;}#sk-container-id-5 input.sk-toggleable__control:checked~div.sk-toggleable__content {max-height: 200px;max-width: 100%;overflow: auto;}#sk-container-id-5 input.sk-toggleable__control:checked~label.sk-toggleable__label-arrow:before {content: \"▾\";}#sk-container-id-5 div.sk-estimator input.sk-toggleable__control:checked~label.sk-toggleable__label {background-color: #d4ebff;}#sk-container-id-5 div.sk-label input.sk-toggleable__control:checked~label.sk-toggleable__label {background-color: #d4ebff;}#sk-container-id-5 input.sk-hidden--visually {border: 0;clip: rect(1px 1px 1px 1px);clip: rect(1px, 1px, 1px, 1px);height: 1px;margin: -1px;overflow: hidden;padding: 0;position: absolute;width: 1px;}#sk-container-id-5 div.sk-estimator {font-family: monospace;background-color: #f0f8ff;border: 1px dotted black;border-radius: 0.25em;box-sizing: border-box;margin-bottom: 0.5em;}#sk-container-id-5 div.sk-estimator:hover {background-color: #d4ebff;}#sk-container-id-5 div.sk-parallel-item::after {content: \"\";width: 100%;border-bottom: 1px solid gray;flex-grow: 1;}#sk-container-id-5 div.sk-label:hover label.sk-toggleable__label {background-color: #d4ebff;}#sk-container-id-5 div.sk-serial::before {content: \"\";position: absolute;border-left: 1px solid gray;box-sizing: border-box;top: 0;bottom: 0;left: 50%;z-index: 0;}#sk-container-id-5 div.sk-serial {display: flex;flex-direction: column;align-items: center;background-color: white;padding-right: 0.2em;padding-left: 0.2em;position: relative;}#sk-container-id-5 div.sk-item {position: relative;z-index: 1;}#sk-container-id-5 div.sk-parallel {display: flex;align-items: stretch;justify-content: center;background-color: white;position: relative;}#sk-container-id-5 div.sk-item::before, #sk-container-id-5 div.sk-parallel-item::before {content: \"\";position: absolute;border-left: 1px solid gray;box-sizing: border-box;top: 0;bottom: 0;left: 50%;z-index: -1;}#sk-container-id-5 div.sk-parallel-item {display: flex;flex-direction: column;z-index: 1;position: relative;background-color: white;}#sk-container-id-5 div.sk-parallel-item:first-child::after {align-self: flex-end;width: 50%;}#sk-container-id-5 div.sk-parallel-item:last-child::after {align-self: flex-start;width: 50%;}#sk-container-id-5 div.sk-parallel-item:only-child::after {width: 0;}#sk-container-id-5 div.sk-dashed-wrapped {border: 1px dashed gray;margin: 0 0.4em 0.5em 0.4em;box-sizing: border-box;padding-bottom: 0.4em;background-color: white;}#sk-container-id-5 div.sk-label label {font-family: monospace;font-weight: bold;display: inline-block;line-height: 1.2em;}#sk-container-id-5 div.sk-label-container {text-align: center;}#sk-container-id-5 div.sk-container {/* jupyter's `normalize.less` sets `[hidden] { display: none; }` but bootstrap.min.css set `[hidden] { display: none !important; }` so we also need the `!important` here to be able to override the default hidden behavior on the sphinx rendered scikit-learn.org. See: https://github.com/scikit-learn/scikit-learn/issues/21755 */display: inline-block !important;position: relative;}#sk-container-id-5 div.sk-text-repr-fallback {display: none;}</style><div id=\"sk-container-id-5\" class=\"sk-top-container\"><div class=\"sk-text-repr-fallback\"><pre>SequentialFeatureSelector(cv=0, estimator=LogisticRegression(max_iter=1000),\n",
       "                          floating=True, k_features=3, scoring=&#x27;accuracy&#x27;)</pre><b>In a Jupyter environment, please rerun this cell to show the HTML representation or trust the notebook. <br />On GitHub, the HTML representation is unable to render, please try loading this page with nbviewer.org.</b></div><div class=\"sk-container\" hidden><div class=\"sk-item sk-dashed-wrapped\"><div class=\"sk-label-container\"><div class=\"sk-label sk-toggleable\"><input class=\"sk-toggleable__control sk-hidden--visually\" id=\"sk-estimator-id-11\" type=\"checkbox\" ><label for=\"sk-estimator-id-11\" class=\"sk-toggleable__label sk-toggleable__label-arrow\">SequentialFeatureSelector</label><div class=\"sk-toggleable__content\"><pre>SequentialFeatureSelector(cv=0, estimator=LogisticRegression(max_iter=1000),\n",
       "                          floating=True, k_features=3, scoring=&#x27;accuracy&#x27;)</pre></div></div></div><div class=\"sk-parallel\"><div class=\"sk-parallel-item\"><div class=\"sk-item\"><div class=\"sk-label-container\"><div class=\"sk-label sk-toggleable\"><input class=\"sk-toggleable__control sk-hidden--visually\" id=\"sk-estimator-id-12\" type=\"checkbox\" ><label for=\"sk-estimator-id-12\" class=\"sk-toggleable__label sk-toggleable__label-arrow\">estimator: LogisticRegression</label><div class=\"sk-toggleable__content\"><pre>LogisticRegression(max_iter=1000)</pre></div></div></div><div class=\"sk-serial\"><div class=\"sk-item\"><div class=\"sk-estimator sk-toggleable\"><input class=\"sk-toggleable__control sk-hidden--visually\" id=\"sk-estimator-id-13\" type=\"checkbox\" ><label for=\"sk-estimator-id-13\" class=\"sk-toggleable__label sk-toggleable__label-arrow\">LogisticRegression</label><div class=\"sk-toggleable__content\"><pre>LogisticRegression(max_iter=1000)</pre></div></div></div></div></div></div></div></div></div></div>"
      ],
      "text/plain": [
       "SequentialFeatureSelector(cv=0, estimator=LogisticRegression(max_iter=1000),\n",
       "                          floating=True, k_features=3, scoring='accuracy')"
      ]
     },
     "execution_count": 33,
     "metadata": {},
     "output_type": "execute_result"
    }
   ],
   "source": [
    "# Sequential forward floating selection\n",
    "sffs = SFS(lr,\n",
    "          k_features=3,\n",
    "          forward=True,\n",
    "          floating=True,\n",
    "          scoring='accuracy',\n",
    "          cv=0)\n",
    "sffs.fit(X, y)"
   ]
  },
  {
   "cell_type": "code",
   "execution_count": 41,
   "id": "4085e796",
   "metadata": {},
   "outputs": [
    {
     "name": "stdout",
     "output_type": "stream",
     "text": [
      "('Age', 'Glucose', 'Insulin')\n",
      "0.7672413793103449\n"
     ]
    }
   ],
   "source": [
    "print(sffs.subsets_[3]['feature_names'])\n",
    "print(sffs.subsets_[3]['avg_score'])"
   ]
  },
  {
   "cell_type": "markdown",
   "id": "16c96171",
   "metadata": {},
   "source": [
    "## SBFS "
   ]
  },
  {
   "cell_type": "code",
   "execution_count": 36,
   "id": "bbb60c80",
   "metadata": {},
   "outputs": [
    {
     "data": {
      "text/html": [
       "<style>#sk-container-id-6 {color: black;background-color: white;}#sk-container-id-6 pre{padding: 0;}#sk-container-id-6 div.sk-toggleable {background-color: white;}#sk-container-id-6 label.sk-toggleable__label {cursor: pointer;display: block;width: 100%;margin-bottom: 0;padding: 0.3em;box-sizing: border-box;text-align: center;}#sk-container-id-6 label.sk-toggleable__label-arrow:before {content: \"▸\";float: left;margin-right: 0.25em;color: #696969;}#sk-container-id-6 label.sk-toggleable__label-arrow:hover:before {color: black;}#sk-container-id-6 div.sk-estimator:hover label.sk-toggleable__label-arrow:before {color: black;}#sk-container-id-6 div.sk-toggleable__content {max-height: 0;max-width: 0;overflow: hidden;text-align: left;background-color: #f0f8ff;}#sk-container-id-6 div.sk-toggleable__content pre {margin: 0.2em;color: black;border-radius: 0.25em;background-color: #f0f8ff;}#sk-container-id-6 input.sk-toggleable__control:checked~div.sk-toggleable__content {max-height: 200px;max-width: 100%;overflow: auto;}#sk-container-id-6 input.sk-toggleable__control:checked~label.sk-toggleable__label-arrow:before {content: \"▾\";}#sk-container-id-6 div.sk-estimator input.sk-toggleable__control:checked~label.sk-toggleable__label {background-color: #d4ebff;}#sk-container-id-6 div.sk-label input.sk-toggleable__control:checked~label.sk-toggleable__label {background-color: #d4ebff;}#sk-container-id-6 input.sk-hidden--visually {border: 0;clip: rect(1px 1px 1px 1px);clip: rect(1px, 1px, 1px, 1px);height: 1px;margin: -1px;overflow: hidden;padding: 0;position: absolute;width: 1px;}#sk-container-id-6 div.sk-estimator {font-family: monospace;background-color: #f0f8ff;border: 1px dotted black;border-radius: 0.25em;box-sizing: border-box;margin-bottom: 0.5em;}#sk-container-id-6 div.sk-estimator:hover {background-color: #d4ebff;}#sk-container-id-6 div.sk-parallel-item::after {content: \"\";width: 100%;border-bottom: 1px solid gray;flex-grow: 1;}#sk-container-id-6 div.sk-label:hover label.sk-toggleable__label {background-color: #d4ebff;}#sk-container-id-6 div.sk-serial::before {content: \"\";position: absolute;border-left: 1px solid gray;box-sizing: border-box;top: 0;bottom: 0;left: 50%;z-index: 0;}#sk-container-id-6 div.sk-serial {display: flex;flex-direction: column;align-items: center;background-color: white;padding-right: 0.2em;padding-left: 0.2em;position: relative;}#sk-container-id-6 div.sk-item {position: relative;z-index: 1;}#sk-container-id-6 div.sk-parallel {display: flex;align-items: stretch;justify-content: center;background-color: white;position: relative;}#sk-container-id-6 div.sk-item::before, #sk-container-id-6 div.sk-parallel-item::before {content: \"\";position: absolute;border-left: 1px solid gray;box-sizing: border-box;top: 0;bottom: 0;left: 50%;z-index: -1;}#sk-container-id-6 div.sk-parallel-item {display: flex;flex-direction: column;z-index: 1;position: relative;background-color: white;}#sk-container-id-6 div.sk-parallel-item:first-child::after {align-self: flex-end;width: 50%;}#sk-container-id-6 div.sk-parallel-item:last-child::after {align-self: flex-start;width: 50%;}#sk-container-id-6 div.sk-parallel-item:only-child::after {width: 0;}#sk-container-id-6 div.sk-dashed-wrapped {border: 1px dashed gray;margin: 0 0.4em 0.5em 0.4em;box-sizing: border-box;padding-bottom: 0.4em;background-color: white;}#sk-container-id-6 div.sk-label label {font-family: monospace;font-weight: bold;display: inline-block;line-height: 1.2em;}#sk-container-id-6 div.sk-label-container {text-align: center;}#sk-container-id-6 div.sk-container {/* jupyter's `normalize.less` sets `[hidden] { display: none; }` but bootstrap.min.css set `[hidden] { display: none !important; }` so we also need the `!important` here to be able to override the default hidden behavior on the sphinx rendered scikit-learn.org. See: https://github.com/scikit-learn/scikit-learn/issues/21755 */display: inline-block !important;position: relative;}#sk-container-id-6 div.sk-text-repr-fallback {display: none;}</style><div id=\"sk-container-id-6\" class=\"sk-top-container\"><div class=\"sk-text-repr-fallback\"><pre>SequentialFeatureSelector(cv=0, estimator=LogisticRegression(max_iter=1000),\n",
       "                          floating=True, forward=False, k_features=3,\n",
       "                          scoring=&#x27;accuracy&#x27;)</pre><b>In a Jupyter environment, please rerun this cell to show the HTML representation or trust the notebook. <br />On GitHub, the HTML representation is unable to render, please try loading this page with nbviewer.org.</b></div><div class=\"sk-container\" hidden><div class=\"sk-item sk-dashed-wrapped\"><div class=\"sk-label-container\"><div class=\"sk-label sk-toggleable\"><input class=\"sk-toggleable__control sk-hidden--visually\" id=\"sk-estimator-id-14\" type=\"checkbox\" ><label for=\"sk-estimator-id-14\" class=\"sk-toggleable__label sk-toggleable__label-arrow\">SequentialFeatureSelector</label><div class=\"sk-toggleable__content\"><pre>SequentialFeatureSelector(cv=0, estimator=LogisticRegression(max_iter=1000),\n",
       "                          floating=True, forward=False, k_features=3,\n",
       "                          scoring=&#x27;accuracy&#x27;)</pre></div></div></div><div class=\"sk-parallel\"><div class=\"sk-parallel-item\"><div class=\"sk-item\"><div class=\"sk-label-container\"><div class=\"sk-label sk-toggleable\"><input class=\"sk-toggleable__control sk-hidden--visually\" id=\"sk-estimator-id-15\" type=\"checkbox\" ><label for=\"sk-estimator-id-15\" class=\"sk-toggleable__label sk-toggleable__label-arrow\">estimator: LogisticRegression</label><div class=\"sk-toggleable__content\"><pre>LogisticRegression(max_iter=1000)</pre></div></div></div><div class=\"sk-serial\"><div class=\"sk-item\"><div class=\"sk-estimator sk-toggleable\"><input class=\"sk-toggleable__control sk-hidden--visually\" id=\"sk-estimator-id-16\" type=\"checkbox\" ><label for=\"sk-estimator-id-16\" class=\"sk-toggleable__label sk-toggleable__label-arrow\">LogisticRegression</label><div class=\"sk-toggleable__content\"><pre>LogisticRegression(max_iter=1000)</pre></div></div></div></div></div></div></div></div></div></div>"
      ],
      "text/plain": [
       "SequentialFeatureSelector(cv=0, estimator=LogisticRegression(max_iter=1000),\n",
       "                          floating=True, forward=False, k_features=3,\n",
       "                          scoring='accuracy')"
      ]
     },
     "execution_count": 36,
     "metadata": {},
     "output_type": "execute_result"
    }
   ],
   "source": [
    "# Sequential backward floating selection\n",
    "sbfs = SFS(lr,\n",
    "          k_features=3,\n",
    "          forward=False,\n",
    "          floating=True,\n",
    "          scoring='accuracy',\n",
    "          cv=0)\n",
    "sbfs.fit(X, y)"
   ]
  },
  {
   "cell_type": "code",
   "execution_count": 37,
   "id": "b420d9f3",
   "metadata": {},
   "outputs": [
    {
     "name": "stdout",
     "output_type": "stream",
     "text": [
      "('Age', 'Glucose', 'Resistin')\n"
     ]
    }
   ],
   "source": [
    "print(sbfs.subsets_[3]['feature_names'])"
   ]
  },
  {
   "cell_type": "code",
   "execution_count": 40,
   "id": "ce5e704f",
   "metadata": {},
   "outputs": [
    {
     "name": "stdout",
     "output_type": "stream",
     "text": [
      "0.7413793103448276\n"
     ]
    }
   ],
   "source": [
    "print(sbfs.subsets_[3]['avg_score'])"
   ]
  },
  {
   "cell_type": "code",
   "execution_count": null,
   "id": "a0c2c3d5",
   "metadata": {},
   "outputs": [],
   "source": []
  },
  {
   "cell_type": "markdown",
   "id": "a430a744",
   "metadata": {},
   "source": [
    "## NEW ATTEMPT "
   ]
  },
  {
   "cell_type": "code",
   "execution_count": 46,
   "id": "ae3cfa13",
   "metadata": {},
   "outputs": [],
   "source": [
    "# Load the data\n",
    "health = pd.read_csv(\"data_breast_cancer.csv\")\n",
    "X = np.array(health.iloc[:,:-1])\n",
    "y = np.array(health.iloc[:,-1])"
   ]
  },
  {
   "cell_type": "code",
   "execution_count": 48,
   "id": "ee0abfaf",
   "metadata": {
    "scrolled": true
   },
   "outputs": [
    {
     "data": {
      "text/html": [
       "<div>\n",
       "<style scoped>\n",
       "    .dataframe tbody tr th:only-of-type {\n",
       "        vertical-align: middle;\n",
       "    }\n",
       "\n",
       "    .dataframe tbody tr th {\n",
       "        vertical-align: top;\n",
       "    }\n",
       "\n",
       "    .dataframe thead th {\n",
       "        text-align: right;\n",
       "    }\n",
       "</style>\n",
       "<table border=\"1\" class=\"dataframe\">\n",
       "  <thead>\n",
       "    <tr style=\"text-align: right;\">\n",
       "      <th></th>\n",
       "      <th>Age</th>\n",
       "      <th>BMI</th>\n",
       "      <th>Glucose</th>\n",
       "      <th>Insulin</th>\n",
       "      <th>HOMA</th>\n",
       "      <th>Leptin</th>\n",
       "      <th>Adiponectin</th>\n",
       "      <th>Resistin</th>\n",
       "      <th>MCP.1</th>\n",
       "      <th>Classification</th>\n",
       "    </tr>\n",
       "  </thead>\n",
       "  <tbody>\n",
       "    <tr>\n",
       "      <th>0</th>\n",
       "      <td>48</td>\n",
       "      <td>23.500000</td>\n",
       "      <td>70</td>\n",
       "      <td>2.707</td>\n",
       "      <td>0.467409</td>\n",
       "      <td>8.8071</td>\n",
       "      <td>9.702400</td>\n",
       "      <td>7.99585</td>\n",
       "      <td>417.114</td>\n",
       "      <td>1</td>\n",
       "    </tr>\n",
       "    <tr>\n",
       "      <th>1</th>\n",
       "      <td>83</td>\n",
       "      <td>20.690495</td>\n",
       "      <td>92</td>\n",
       "      <td>3.115</td>\n",
       "      <td>0.706897</td>\n",
       "      <td>8.8438</td>\n",
       "      <td>5.429285</td>\n",
       "      <td>4.06405</td>\n",
       "      <td>468.786</td>\n",
       "      <td>1</td>\n",
       "    </tr>\n",
       "    <tr>\n",
       "      <th>2</th>\n",
       "      <td>82</td>\n",
       "      <td>23.124670</td>\n",
       "      <td>91</td>\n",
       "      <td>4.498</td>\n",
       "      <td>1.009651</td>\n",
       "      <td>17.9393</td>\n",
       "      <td>22.432040</td>\n",
       "      <td>9.27715</td>\n",
       "      <td>554.697</td>\n",
       "      <td>1</td>\n",
       "    </tr>\n",
       "    <tr>\n",
       "      <th>3</th>\n",
       "      <td>68</td>\n",
       "      <td>21.367521</td>\n",
       "      <td>77</td>\n",
       "      <td>3.226</td>\n",
       "      <td>0.612725</td>\n",
       "      <td>9.8827</td>\n",
       "      <td>7.169560</td>\n",
       "      <td>12.76600</td>\n",
       "      <td>928.220</td>\n",
       "      <td>1</td>\n",
       "    </tr>\n",
       "    <tr>\n",
       "      <th>4</th>\n",
       "      <td>86</td>\n",
       "      <td>21.111111</td>\n",
       "      <td>92</td>\n",
       "      <td>3.549</td>\n",
       "      <td>0.805386</td>\n",
       "      <td>6.6994</td>\n",
       "      <td>4.819240</td>\n",
       "      <td>10.57635</td>\n",
       "      <td>773.920</td>\n",
       "      <td>1</td>\n",
       "    </tr>\n",
       "    <tr>\n",
       "      <th>...</th>\n",
       "      <td>...</td>\n",
       "      <td>...</td>\n",
       "      <td>...</td>\n",
       "      <td>...</td>\n",
       "      <td>...</td>\n",
       "      <td>...</td>\n",
       "      <td>...</td>\n",
       "      <td>...</td>\n",
       "      <td>...</td>\n",
       "      <td>...</td>\n",
       "    </tr>\n",
       "    <tr>\n",
       "      <th>111</th>\n",
       "      <td>45</td>\n",
       "      <td>26.850000</td>\n",
       "      <td>92</td>\n",
       "      <td>3.330</td>\n",
       "      <td>0.755688</td>\n",
       "      <td>54.6800</td>\n",
       "      <td>12.100000</td>\n",
       "      <td>10.96000</td>\n",
       "      <td>268.230</td>\n",
       "      <td>2</td>\n",
       "    </tr>\n",
       "    <tr>\n",
       "      <th>112</th>\n",
       "      <td>62</td>\n",
       "      <td>26.840000</td>\n",
       "      <td>100</td>\n",
       "      <td>4.530</td>\n",
       "      <td>1.117400</td>\n",
       "      <td>12.4500</td>\n",
       "      <td>21.420000</td>\n",
       "      <td>7.32000</td>\n",
       "      <td>330.160</td>\n",
       "      <td>2</td>\n",
       "    </tr>\n",
       "    <tr>\n",
       "      <th>113</th>\n",
       "      <td>65</td>\n",
       "      <td>32.050000</td>\n",
       "      <td>97</td>\n",
       "      <td>5.730</td>\n",
       "      <td>1.370998</td>\n",
       "      <td>61.4800</td>\n",
       "      <td>22.540000</td>\n",
       "      <td>10.33000</td>\n",
       "      <td>314.050</td>\n",
       "      <td>2</td>\n",
       "    </tr>\n",
       "    <tr>\n",
       "      <th>114</th>\n",
       "      <td>72</td>\n",
       "      <td>25.590000</td>\n",
       "      <td>82</td>\n",
       "      <td>2.820</td>\n",
       "      <td>0.570392</td>\n",
       "      <td>24.9600</td>\n",
       "      <td>33.750000</td>\n",
       "      <td>3.27000</td>\n",
       "      <td>392.460</td>\n",
       "      <td>2</td>\n",
       "    </tr>\n",
       "    <tr>\n",
       "      <th>115</th>\n",
       "      <td>86</td>\n",
       "      <td>27.180000</td>\n",
       "      <td>138</td>\n",
       "      <td>19.910</td>\n",
       "      <td>6.777364</td>\n",
       "      <td>90.2800</td>\n",
       "      <td>14.110000</td>\n",
       "      <td>4.35000</td>\n",
       "      <td>90.090</td>\n",
       "      <td>2</td>\n",
       "    </tr>\n",
       "  </tbody>\n",
       "</table>\n",
       "<p>116 rows × 10 columns</p>\n",
       "</div>"
      ],
      "text/plain": [
       "     Age        BMI  Glucose  Insulin      HOMA   Leptin  Adiponectin  \\\n",
       "0     48  23.500000       70    2.707  0.467409   8.8071     9.702400   \n",
       "1     83  20.690495       92    3.115  0.706897   8.8438     5.429285   \n",
       "2     82  23.124670       91    4.498  1.009651  17.9393    22.432040   \n",
       "3     68  21.367521       77    3.226  0.612725   9.8827     7.169560   \n",
       "4     86  21.111111       92    3.549  0.805386   6.6994     4.819240   \n",
       "..   ...        ...      ...      ...       ...      ...          ...   \n",
       "111   45  26.850000       92    3.330  0.755688  54.6800    12.100000   \n",
       "112   62  26.840000      100    4.530  1.117400  12.4500    21.420000   \n",
       "113   65  32.050000       97    5.730  1.370998  61.4800    22.540000   \n",
       "114   72  25.590000       82    2.820  0.570392  24.9600    33.750000   \n",
       "115   86  27.180000      138   19.910  6.777364  90.2800    14.110000   \n",
       "\n",
       "     Resistin    MCP.1  Classification  \n",
       "0     7.99585  417.114               1  \n",
       "1     4.06405  468.786               1  \n",
       "2     9.27715  554.697               1  \n",
       "3    12.76600  928.220               1  \n",
       "4    10.57635  773.920               1  \n",
       "..        ...      ...             ...  \n",
       "111  10.96000  268.230               2  \n",
       "112   7.32000  330.160               2  \n",
       "113  10.33000  314.050               2  \n",
       "114   3.27000  392.460               2  \n",
       "115   4.35000   90.090               2  \n",
       "\n",
       "[116 rows x 10 columns]"
      ]
     },
     "execution_count": 48,
     "metadata": {},
     "output_type": "execute_result"
    }
   ],
   "source": [
    "health"
   ]
  },
  {
   "cell_type": "code",
   "execution_count": 57,
   "id": "9942ec2f",
   "metadata": {},
   "outputs": [],
   "source": [
    "# Standardize the data\n",
    "X = StandardScaler().fit_transform(X)"
   ]
  },
  {
   "cell_type": "code",
   "execution_count": 58,
   "id": "e21935cf",
   "metadata": {},
   "outputs": [
    {
     "data": {
      "text/plain": [
       "array([[-0.57979363, -0.81667527, -1.23922225, ..., -0.07022151,\n",
       "        -0.54551749, -0.34125061],\n",
       "       [ 1.60182096, -1.37875056, -0.25829943, ..., -0.69734988,\n",
       "        -0.86421418, -0.1912238 ],\n",
       "       [ 1.53948912, -0.89176446, -0.30288683, ...,  1.79799836,\n",
       "        -0.4416602 ,  0.05821407],\n",
       "       ...,\n",
       "       [ 0.47984774,  0.89385486, -0.03536242, ...,  1.81384272,\n",
       "        -0.3563202 , -0.64049127],\n",
       "       [ 0.91617066, -0.39854568, -0.70417344, ...,  3.45903808,\n",
       "        -0.92857684, -0.41283214],\n",
       "       [ 1.7888165 , -0.0804471 ,  1.79272102, ...,  0.57664406,\n",
       "        -0.84103616, -1.29074683]])"
      ]
     },
     "execution_count": 58,
     "metadata": {},
     "output_type": "execute_result"
    }
   ],
   "source": [
    "X"
   ]
  },
  {
   "cell_type": "markdown",
   "id": "d65b3414",
   "metadata": {},
   "source": [
    "## What if we want this standardized stuff back into a DF? "
   ]
  },
  {
   "cell_type": "code",
   "execution_count": 77,
   "id": "67354313",
   "metadata": {},
   "outputs": [
    {
     "name": "stderr",
     "output_type": "stream",
     "text": [
      "/var/folders/0n/f4t27bkj4qv8ch75963kg78c0000gn/T/ipykernel_15493/4082524329.py:4: FutureWarning: The frame.append method is deprecated and will be removed from pandas in a future version. Use pandas.concat instead.\n",
      "  maybe = maybe.append(pd.DataFrame(row).transpose())\n",
      "/var/folders/0n/f4t27bkj4qv8ch75963kg78c0000gn/T/ipykernel_15493/4082524329.py:4: FutureWarning: The frame.append method is deprecated and will be removed from pandas in a future version. Use pandas.concat instead.\n",
      "  maybe = maybe.append(pd.DataFrame(row).transpose())\n",
      "/var/folders/0n/f4t27bkj4qv8ch75963kg78c0000gn/T/ipykernel_15493/4082524329.py:4: FutureWarning: The frame.append method is deprecated and will be removed from pandas in a future version. Use pandas.concat instead.\n",
      "  maybe = maybe.append(pd.DataFrame(row).transpose())\n",
      "/var/folders/0n/f4t27bkj4qv8ch75963kg78c0000gn/T/ipykernel_15493/4082524329.py:4: FutureWarning: The frame.append method is deprecated and will be removed from pandas in a future version. Use pandas.concat instead.\n",
      "  maybe = maybe.append(pd.DataFrame(row).transpose())\n",
      "/var/folders/0n/f4t27bkj4qv8ch75963kg78c0000gn/T/ipykernel_15493/4082524329.py:4: FutureWarning: The frame.append method is deprecated and will be removed from pandas in a future version. Use pandas.concat instead.\n",
      "  maybe = maybe.append(pd.DataFrame(row).transpose())\n",
      "/var/folders/0n/f4t27bkj4qv8ch75963kg78c0000gn/T/ipykernel_15493/4082524329.py:4: FutureWarning: The frame.append method is deprecated and will be removed from pandas in a future version. Use pandas.concat instead.\n",
      "  maybe = maybe.append(pd.DataFrame(row).transpose())\n",
      "/var/folders/0n/f4t27bkj4qv8ch75963kg78c0000gn/T/ipykernel_15493/4082524329.py:4: FutureWarning: The frame.append method is deprecated and will be removed from pandas in a future version. Use pandas.concat instead.\n",
      "  maybe = maybe.append(pd.DataFrame(row).transpose())\n",
      "/var/folders/0n/f4t27bkj4qv8ch75963kg78c0000gn/T/ipykernel_15493/4082524329.py:4: FutureWarning: The frame.append method is deprecated and will be removed from pandas in a future version. Use pandas.concat instead.\n",
      "  maybe = maybe.append(pd.DataFrame(row).transpose())\n",
      "/var/folders/0n/f4t27bkj4qv8ch75963kg78c0000gn/T/ipykernel_15493/4082524329.py:4: FutureWarning: The frame.append method is deprecated and will be removed from pandas in a future version. Use pandas.concat instead.\n",
      "  maybe = maybe.append(pd.DataFrame(row).transpose())\n",
      "/var/folders/0n/f4t27bkj4qv8ch75963kg78c0000gn/T/ipykernel_15493/4082524329.py:4: FutureWarning: The frame.append method is deprecated and will be removed from pandas in a future version. Use pandas.concat instead.\n",
      "  maybe = maybe.append(pd.DataFrame(row).transpose())\n",
      "/var/folders/0n/f4t27bkj4qv8ch75963kg78c0000gn/T/ipykernel_15493/4082524329.py:4: FutureWarning: The frame.append method is deprecated and will be removed from pandas in a future version. Use pandas.concat instead.\n",
      "  maybe = maybe.append(pd.DataFrame(row).transpose())\n",
      "/var/folders/0n/f4t27bkj4qv8ch75963kg78c0000gn/T/ipykernel_15493/4082524329.py:4: FutureWarning: The frame.append method is deprecated and will be removed from pandas in a future version. Use pandas.concat instead.\n",
      "  maybe = maybe.append(pd.DataFrame(row).transpose())\n",
      "/var/folders/0n/f4t27bkj4qv8ch75963kg78c0000gn/T/ipykernel_15493/4082524329.py:4: FutureWarning: The frame.append method is deprecated and will be removed from pandas in a future version. Use pandas.concat instead.\n",
      "  maybe = maybe.append(pd.DataFrame(row).transpose())\n",
      "/var/folders/0n/f4t27bkj4qv8ch75963kg78c0000gn/T/ipykernel_15493/4082524329.py:4: FutureWarning: The frame.append method is deprecated and will be removed from pandas in a future version. Use pandas.concat instead.\n",
      "  maybe = maybe.append(pd.DataFrame(row).transpose())\n",
      "/var/folders/0n/f4t27bkj4qv8ch75963kg78c0000gn/T/ipykernel_15493/4082524329.py:4: FutureWarning: The frame.append method is deprecated and will be removed from pandas in a future version. Use pandas.concat instead.\n",
      "  maybe = maybe.append(pd.DataFrame(row).transpose())\n",
      "/var/folders/0n/f4t27bkj4qv8ch75963kg78c0000gn/T/ipykernel_15493/4082524329.py:4: FutureWarning: The frame.append method is deprecated and will be removed from pandas in a future version. Use pandas.concat instead.\n",
      "  maybe = maybe.append(pd.DataFrame(row).transpose())\n",
      "/var/folders/0n/f4t27bkj4qv8ch75963kg78c0000gn/T/ipykernel_15493/4082524329.py:4: FutureWarning: The frame.append method is deprecated and will be removed from pandas in a future version. Use pandas.concat instead.\n",
      "  maybe = maybe.append(pd.DataFrame(row).transpose())\n",
      "/var/folders/0n/f4t27bkj4qv8ch75963kg78c0000gn/T/ipykernel_15493/4082524329.py:4: FutureWarning: The frame.append method is deprecated and will be removed from pandas in a future version. Use pandas.concat instead.\n",
      "  maybe = maybe.append(pd.DataFrame(row).transpose())\n",
      "/var/folders/0n/f4t27bkj4qv8ch75963kg78c0000gn/T/ipykernel_15493/4082524329.py:4: FutureWarning: The frame.append method is deprecated and will be removed from pandas in a future version. Use pandas.concat instead.\n",
      "  maybe = maybe.append(pd.DataFrame(row).transpose())\n",
      "/var/folders/0n/f4t27bkj4qv8ch75963kg78c0000gn/T/ipykernel_15493/4082524329.py:4: FutureWarning: The frame.append method is deprecated and will be removed from pandas in a future version. Use pandas.concat instead.\n",
      "  maybe = maybe.append(pd.DataFrame(row).transpose())\n",
      "/var/folders/0n/f4t27bkj4qv8ch75963kg78c0000gn/T/ipykernel_15493/4082524329.py:4: FutureWarning: The frame.append method is deprecated and will be removed from pandas in a future version. Use pandas.concat instead.\n",
      "  maybe = maybe.append(pd.DataFrame(row).transpose())\n",
      "/var/folders/0n/f4t27bkj4qv8ch75963kg78c0000gn/T/ipykernel_15493/4082524329.py:4: FutureWarning: The frame.append method is deprecated and will be removed from pandas in a future version. Use pandas.concat instead.\n",
      "  maybe = maybe.append(pd.DataFrame(row).transpose())\n",
      "/var/folders/0n/f4t27bkj4qv8ch75963kg78c0000gn/T/ipykernel_15493/4082524329.py:4: FutureWarning: The frame.append method is deprecated and will be removed from pandas in a future version. Use pandas.concat instead.\n",
      "  maybe = maybe.append(pd.DataFrame(row).transpose())\n",
      "/var/folders/0n/f4t27bkj4qv8ch75963kg78c0000gn/T/ipykernel_15493/4082524329.py:4: FutureWarning: The frame.append method is deprecated and will be removed from pandas in a future version. Use pandas.concat instead.\n",
      "  maybe = maybe.append(pd.DataFrame(row).transpose())\n",
      "/var/folders/0n/f4t27bkj4qv8ch75963kg78c0000gn/T/ipykernel_15493/4082524329.py:4: FutureWarning: The frame.append method is deprecated and will be removed from pandas in a future version. Use pandas.concat instead.\n",
      "  maybe = maybe.append(pd.DataFrame(row).transpose())\n",
      "/var/folders/0n/f4t27bkj4qv8ch75963kg78c0000gn/T/ipykernel_15493/4082524329.py:4: FutureWarning: The frame.append method is deprecated and will be removed from pandas in a future version. Use pandas.concat instead.\n",
      "  maybe = maybe.append(pd.DataFrame(row).transpose())\n",
      "/var/folders/0n/f4t27bkj4qv8ch75963kg78c0000gn/T/ipykernel_15493/4082524329.py:4: FutureWarning: The frame.append method is deprecated and will be removed from pandas in a future version. Use pandas.concat instead.\n",
      "  maybe = maybe.append(pd.DataFrame(row).transpose())\n",
      "/var/folders/0n/f4t27bkj4qv8ch75963kg78c0000gn/T/ipykernel_15493/4082524329.py:4: FutureWarning: The frame.append method is deprecated and will be removed from pandas in a future version. Use pandas.concat instead.\n",
      "  maybe = maybe.append(pd.DataFrame(row).transpose())\n",
      "/var/folders/0n/f4t27bkj4qv8ch75963kg78c0000gn/T/ipykernel_15493/4082524329.py:4: FutureWarning: The frame.append method is deprecated and will be removed from pandas in a future version. Use pandas.concat instead.\n",
      "  maybe = maybe.append(pd.DataFrame(row).transpose())\n",
      "/var/folders/0n/f4t27bkj4qv8ch75963kg78c0000gn/T/ipykernel_15493/4082524329.py:4: FutureWarning: The frame.append method is deprecated and will be removed from pandas in a future version. Use pandas.concat instead.\n",
      "  maybe = maybe.append(pd.DataFrame(row).transpose())\n",
      "/var/folders/0n/f4t27bkj4qv8ch75963kg78c0000gn/T/ipykernel_15493/4082524329.py:4: FutureWarning: The frame.append method is deprecated and will be removed from pandas in a future version. Use pandas.concat instead.\n",
      "  maybe = maybe.append(pd.DataFrame(row).transpose())\n",
      "/var/folders/0n/f4t27bkj4qv8ch75963kg78c0000gn/T/ipykernel_15493/4082524329.py:4: FutureWarning: The frame.append method is deprecated and will be removed from pandas in a future version. Use pandas.concat instead.\n",
      "  maybe = maybe.append(pd.DataFrame(row).transpose())\n",
      "/var/folders/0n/f4t27bkj4qv8ch75963kg78c0000gn/T/ipykernel_15493/4082524329.py:4: FutureWarning: The frame.append method is deprecated and will be removed from pandas in a future version. Use pandas.concat instead.\n",
      "  maybe = maybe.append(pd.DataFrame(row).transpose())\n",
      "/var/folders/0n/f4t27bkj4qv8ch75963kg78c0000gn/T/ipykernel_15493/4082524329.py:4: FutureWarning: The frame.append method is deprecated and will be removed from pandas in a future version. Use pandas.concat instead.\n",
      "  maybe = maybe.append(pd.DataFrame(row).transpose())\n",
      "/var/folders/0n/f4t27bkj4qv8ch75963kg78c0000gn/T/ipykernel_15493/4082524329.py:4: FutureWarning: The frame.append method is deprecated and will be removed from pandas in a future version. Use pandas.concat instead.\n",
      "  maybe = maybe.append(pd.DataFrame(row).transpose())\n",
      "/var/folders/0n/f4t27bkj4qv8ch75963kg78c0000gn/T/ipykernel_15493/4082524329.py:4: FutureWarning: The frame.append method is deprecated and will be removed from pandas in a future version. Use pandas.concat instead.\n",
      "  maybe = maybe.append(pd.DataFrame(row).transpose())\n",
      "/var/folders/0n/f4t27bkj4qv8ch75963kg78c0000gn/T/ipykernel_15493/4082524329.py:4: FutureWarning: The frame.append method is deprecated and will be removed from pandas in a future version. Use pandas.concat instead.\n",
      "  maybe = maybe.append(pd.DataFrame(row).transpose())\n",
      "/var/folders/0n/f4t27bkj4qv8ch75963kg78c0000gn/T/ipykernel_15493/4082524329.py:4: FutureWarning: The frame.append method is deprecated and will be removed from pandas in a future version. Use pandas.concat instead.\n",
      "  maybe = maybe.append(pd.DataFrame(row).transpose())\n",
      "/var/folders/0n/f4t27bkj4qv8ch75963kg78c0000gn/T/ipykernel_15493/4082524329.py:4: FutureWarning: The frame.append method is deprecated and will be removed from pandas in a future version. Use pandas.concat instead.\n",
      "  maybe = maybe.append(pd.DataFrame(row).transpose())\n",
      "/var/folders/0n/f4t27bkj4qv8ch75963kg78c0000gn/T/ipykernel_15493/4082524329.py:4: FutureWarning: The frame.append method is deprecated and will be removed from pandas in a future version. Use pandas.concat instead.\n",
      "  maybe = maybe.append(pd.DataFrame(row).transpose())\n",
      "/var/folders/0n/f4t27bkj4qv8ch75963kg78c0000gn/T/ipykernel_15493/4082524329.py:4: FutureWarning: The frame.append method is deprecated and will be removed from pandas in a future version. Use pandas.concat instead.\n",
      "  maybe = maybe.append(pd.DataFrame(row).transpose())\n",
      "/var/folders/0n/f4t27bkj4qv8ch75963kg78c0000gn/T/ipykernel_15493/4082524329.py:4: FutureWarning: The frame.append method is deprecated and will be removed from pandas in a future version. Use pandas.concat instead.\n",
      "  maybe = maybe.append(pd.DataFrame(row).transpose())\n",
      "/var/folders/0n/f4t27bkj4qv8ch75963kg78c0000gn/T/ipykernel_15493/4082524329.py:4: FutureWarning: The frame.append method is deprecated and will be removed from pandas in a future version. Use pandas.concat instead.\n",
      "  maybe = maybe.append(pd.DataFrame(row).transpose())\n",
      "/var/folders/0n/f4t27bkj4qv8ch75963kg78c0000gn/T/ipykernel_15493/4082524329.py:4: FutureWarning: The frame.append method is deprecated and will be removed from pandas in a future version. Use pandas.concat instead.\n",
      "  maybe = maybe.append(pd.DataFrame(row).transpose())\n",
      "/var/folders/0n/f4t27bkj4qv8ch75963kg78c0000gn/T/ipykernel_15493/4082524329.py:4: FutureWarning: The frame.append method is deprecated and will be removed from pandas in a future version. Use pandas.concat instead.\n",
      "  maybe = maybe.append(pd.DataFrame(row).transpose())\n",
      "/var/folders/0n/f4t27bkj4qv8ch75963kg78c0000gn/T/ipykernel_15493/4082524329.py:4: FutureWarning: The frame.append method is deprecated and will be removed from pandas in a future version. Use pandas.concat instead.\n",
      "  maybe = maybe.append(pd.DataFrame(row).transpose())\n",
      "/var/folders/0n/f4t27bkj4qv8ch75963kg78c0000gn/T/ipykernel_15493/4082524329.py:4: FutureWarning: The frame.append method is deprecated and will be removed from pandas in a future version. Use pandas.concat instead.\n",
      "  maybe = maybe.append(pd.DataFrame(row).transpose())\n",
      "/var/folders/0n/f4t27bkj4qv8ch75963kg78c0000gn/T/ipykernel_15493/4082524329.py:4: FutureWarning: The frame.append method is deprecated and will be removed from pandas in a future version. Use pandas.concat instead.\n",
      "  maybe = maybe.append(pd.DataFrame(row).transpose())\n",
      "/var/folders/0n/f4t27bkj4qv8ch75963kg78c0000gn/T/ipykernel_15493/4082524329.py:4: FutureWarning: The frame.append method is deprecated and will be removed from pandas in a future version. Use pandas.concat instead.\n",
      "  maybe = maybe.append(pd.DataFrame(row).transpose())\n",
      "/var/folders/0n/f4t27bkj4qv8ch75963kg78c0000gn/T/ipykernel_15493/4082524329.py:4: FutureWarning: The frame.append method is deprecated and will be removed from pandas in a future version. Use pandas.concat instead.\n",
      "  maybe = maybe.append(pd.DataFrame(row).transpose())\n",
      "/var/folders/0n/f4t27bkj4qv8ch75963kg78c0000gn/T/ipykernel_15493/4082524329.py:4: FutureWarning: The frame.append method is deprecated and will be removed from pandas in a future version. Use pandas.concat instead.\n",
      "  maybe = maybe.append(pd.DataFrame(row).transpose())\n",
      "/var/folders/0n/f4t27bkj4qv8ch75963kg78c0000gn/T/ipykernel_15493/4082524329.py:4: FutureWarning: The frame.append method is deprecated and will be removed from pandas in a future version. Use pandas.concat instead.\n",
      "  maybe = maybe.append(pd.DataFrame(row).transpose())\n",
      "/var/folders/0n/f4t27bkj4qv8ch75963kg78c0000gn/T/ipykernel_15493/4082524329.py:4: FutureWarning: The frame.append method is deprecated and will be removed from pandas in a future version. Use pandas.concat instead.\n",
      "  maybe = maybe.append(pd.DataFrame(row).transpose())\n",
      "/var/folders/0n/f4t27bkj4qv8ch75963kg78c0000gn/T/ipykernel_15493/4082524329.py:4: FutureWarning: The frame.append method is deprecated and will be removed from pandas in a future version. Use pandas.concat instead.\n",
      "  maybe = maybe.append(pd.DataFrame(row).transpose())\n",
      "/var/folders/0n/f4t27bkj4qv8ch75963kg78c0000gn/T/ipykernel_15493/4082524329.py:4: FutureWarning: The frame.append method is deprecated and will be removed from pandas in a future version. Use pandas.concat instead.\n",
      "  maybe = maybe.append(pd.DataFrame(row).transpose())\n",
      "/var/folders/0n/f4t27bkj4qv8ch75963kg78c0000gn/T/ipykernel_15493/4082524329.py:4: FutureWarning: The frame.append method is deprecated and will be removed from pandas in a future version. Use pandas.concat instead.\n",
      "  maybe = maybe.append(pd.DataFrame(row).transpose())\n",
      "/var/folders/0n/f4t27bkj4qv8ch75963kg78c0000gn/T/ipykernel_15493/4082524329.py:4: FutureWarning: The frame.append method is deprecated and will be removed from pandas in a future version. Use pandas.concat instead.\n",
      "  maybe = maybe.append(pd.DataFrame(row).transpose())\n",
      "/var/folders/0n/f4t27bkj4qv8ch75963kg78c0000gn/T/ipykernel_15493/4082524329.py:4: FutureWarning: The frame.append method is deprecated and will be removed from pandas in a future version. Use pandas.concat instead.\n",
      "  maybe = maybe.append(pd.DataFrame(row).transpose())\n",
      "/var/folders/0n/f4t27bkj4qv8ch75963kg78c0000gn/T/ipykernel_15493/4082524329.py:4: FutureWarning: The frame.append method is deprecated and will be removed from pandas in a future version. Use pandas.concat instead.\n",
      "  maybe = maybe.append(pd.DataFrame(row).transpose())\n",
      "/var/folders/0n/f4t27bkj4qv8ch75963kg78c0000gn/T/ipykernel_15493/4082524329.py:4: FutureWarning: The frame.append method is deprecated and will be removed from pandas in a future version. Use pandas.concat instead.\n",
      "  maybe = maybe.append(pd.DataFrame(row).transpose())\n",
      "/var/folders/0n/f4t27bkj4qv8ch75963kg78c0000gn/T/ipykernel_15493/4082524329.py:4: FutureWarning: The frame.append method is deprecated and will be removed from pandas in a future version. Use pandas.concat instead.\n",
      "  maybe = maybe.append(pd.DataFrame(row).transpose())\n",
      "/var/folders/0n/f4t27bkj4qv8ch75963kg78c0000gn/T/ipykernel_15493/4082524329.py:4: FutureWarning: The frame.append method is deprecated and will be removed from pandas in a future version. Use pandas.concat instead.\n",
      "  maybe = maybe.append(pd.DataFrame(row).transpose())\n",
      "/var/folders/0n/f4t27bkj4qv8ch75963kg78c0000gn/T/ipykernel_15493/4082524329.py:4: FutureWarning: The frame.append method is deprecated and will be removed from pandas in a future version. Use pandas.concat instead.\n",
      "  maybe = maybe.append(pd.DataFrame(row).transpose())\n",
      "/var/folders/0n/f4t27bkj4qv8ch75963kg78c0000gn/T/ipykernel_15493/4082524329.py:4: FutureWarning: The frame.append method is deprecated and will be removed from pandas in a future version. Use pandas.concat instead.\n",
      "  maybe = maybe.append(pd.DataFrame(row).transpose())\n",
      "/var/folders/0n/f4t27bkj4qv8ch75963kg78c0000gn/T/ipykernel_15493/4082524329.py:4: FutureWarning: The frame.append method is deprecated and will be removed from pandas in a future version. Use pandas.concat instead.\n",
      "  maybe = maybe.append(pd.DataFrame(row).transpose())\n",
      "/var/folders/0n/f4t27bkj4qv8ch75963kg78c0000gn/T/ipykernel_15493/4082524329.py:4: FutureWarning: The frame.append method is deprecated and will be removed from pandas in a future version. Use pandas.concat instead.\n",
      "  maybe = maybe.append(pd.DataFrame(row).transpose())\n",
      "/var/folders/0n/f4t27bkj4qv8ch75963kg78c0000gn/T/ipykernel_15493/4082524329.py:4: FutureWarning: The frame.append method is deprecated and will be removed from pandas in a future version. Use pandas.concat instead.\n",
      "  maybe = maybe.append(pd.DataFrame(row).transpose())\n",
      "/var/folders/0n/f4t27bkj4qv8ch75963kg78c0000gn/T/ipykernel_15493/4082524329.py:4: FutureWarning: The frame.append method is deprecated and will be removed from pandas in a future version. Use pandas.concat instead.\n",
      "  maybe = maybe.append(pd.DataFrame(row).transpose())\n",
      "/var/folders/0n/f4t27bkj4qv8ch75963kg78c0000gn/T/ipykernel_15493/4082524329.py:4: FutureWarning: The frame.append method is deprecated and will be removed from pandas in a future version. Use pandas.concat instead.\n",
      "  maybe = maybe.append(pd.DataFrame(row).transpose())\n",
      "/var/folders/0n/f4t27bkj4qv8ch75963kg78c0000gn/T/ipykernel_15493/4082524329.py:4: FutureWarning: The frame.append method is deprecated and will be removed from pandas in a future version. Use pandas.concat instead.\n",
      "  maybe = maybe.append(pd.DataFrame(row).transpose())\n",
      "/var/folders/0n/f4t27bkj4qv8ch75963kg78c0000gn/T/ipykernel_15493/4082524329.py:4: FutureWarning: The frame.append method is deprecated and will be removed from pandas in a future version. Use pandas.concat instead.\n",
      "  maybe = maybe.append(pd.DataFrame(row).transpose())\n",
      "/var/folders/0n/f4t27bkj4qv8ch75963kg78c0000gn/T/ipykernel_15493/4082524329.py:4: FutureWarning: The frame.append method is deprecated and will be removed from pandas in a future version. Use pandas.concat instead.\n",
      "  maybe = maybe.append(pd.DataFrame(row).transpose())\n",
      "/var/folders/0n/f4t27bkj4qv8ch75963kg78c0000gn/T/ipykernel_15493/4082524329.py:4: FutureWarning: The frame.append method is deprecated and will be removed from pandas in a future version. Use pandas.concat instead.\n",
      "  maybe = maybe.append(pd.DataFrame(row).transpose())\n",
      "/var/folders/0n/f4t27bkj4qv8ch75963kg78c0000gn/T/ipykernel_15493/4082524329.py:4: FutureWarning: The frame.append method is deprecated and will be removed from pandas in a future version. Use pandas.concat instead.\n",
      "  maybe = maybe.append(pd.DataFrame(row).transpose())\n",
      "/var/folders/0n/f4t27bkj4qv8ch75963kg78c0000gn/T/ipykernel_15493/4082524329.py:4: FutureWarning: The frame.append method is deprecated and will be removed from pandas in a future version. Use pandas.concat instead.\n",
      "  maybe = maybe.append(pd.DataFrame(row).transpose())\n",
      "/var/folders/0n/f4t27bkj4qv8ch75963kg78c0000gn/T/ipykernel_15493/4082524329.py:4: FutureWarning: The frame.append method is deprecated and will be removed from pandas in a future version. Use pandas.concat instead.\n",
      "  maybe = maybe.append(pd.DataFrame(row).transpose())\n",
      "/var/folders/0n/f4t27bkj4qv8ch75963kg78c0000gn/T/ipykernel_15493/4082524329.py:4: FutureWarning: The frame.append method is deprecated and will be removed from pandas in a future version. Use pandas.concat instead.\n",
      "  maybe = maybe.append(pd.DataFrame(row).transpose())\n",
      "/var/folders/0n/f4t27bkj4qv8ch75963kg78c0000gn/T/ipykernel_15493/4082524329.py:4: FutureWarning: The frame.append method is deprecated and will be removed from pandas in a future version. Use pandas.concat instead.\n",
      "  maybe = maybe.append(pd.DataFrame(row).transpose())\n",
      "/var/folders/0n/f4t27bkj4qv8ch75963kg78c0000gn/T/ipykernel_15493/4082524329.py:4: FutureWarning: The frame.append method is deprecated and will be removed from pandas in a future version. Use pandas.concat instead.\n",
      "  maybe = maybe.append(pd.DataFrame(row).transpose())\n",
      "/var/folders/0n/f4t27bkj4qv8ch75963kg78c0000gn/T/ipykernel_15493/4082524329.py:4: FutureWarning: The frame.append method is deprecated and will be removed from pandas in a future version. Use pandas.concat instead.\n",
      "  maybe = maybe.append(pd.DataFrame(row).transpose())\n",
      "/var/folders/0n/f4t27bkj4qv8ch75963kg78c0000gn/T/ipykernel_15493/4082524329.py:4: FutureWarning: The frame.append method is deprecated and will be removed from pandas in a future version. Use pandas.concat instead.\n",
      "  maybe = maybe.append(pd.DataFrame(row).transpose())\n",
      "/var/folders/0n/f4t27bkj4qv8ch75963kg78c0000gn/T/ipykernel_15493/4082524329.py:4: FutureWarning: The frame.append method is deprecated and will be removed from pandas in a future version. Use pandas.concat instead.\n",
      "  maybe = maybe.append(pd.DataFrame(row).transpose())\n",
      "/var/folders/0n/f4t27bkj4qv8ch75963kg78c0000gn/T/ipykernel_15493/4082524329.py:4: FutureWarning: The frame.append method is deprecated and will be removed from pandas in a future version. Use pandas.concat instead.\n",
      "  maybe = maybe.append(pd.DataFrame(row).transpose())\n",
      "/var/folders/0n/f4t27bkj4qv8ch75963kg78c0000gn/T/ipykernel_15493/4082524329.py:4: FutureWarning: The frame.append method is deprecated and will be removed from pandas in a future version. Use pandas.concat instead.\n",
      "  maybe = maybe.append(pd.DataFrame(row).transpose())\n",
      "/var/folders/0n/f4t27bkj4qv8ch75963kg78c0000gn/T/ipykernel_15493/4082524329.py:4: FutureWarning: The frame.append method is deprecated and will be removed from pandas in a future version. Use pandas.concat instead.\n",
      "  maybe = maybe.append(pd.DataFrame(row).transpose())\n",
      "/var/folders/0n/f4t27bkj4qv8ch75963kg78c0000gn/T/ipykernel_15493/4082524329.py:4: FutureWarning: The frame.append method is deprecated and will be removed from pandas in a future version. Use pandas.concat instead.\n",
      "  maybe = maybe.append(pd.DataFrame(row).transpose())\n",
      "/var/folders/0n/f4t27bkj4qv8ch75963kg78c0000gn/T/ipykernel_15493/4082524329.py:4: FutureWarning: The frame.append method is deprecated and will be removed from pandas in a future version. Use pandas.concat instead.\n",
      "  maybe = maybe.append(pd.DataFrame(row).transpose())\n",
      "/var/folders/0n/f4t27bkj4qv8ch75963kg78c0000gn/T/ipykernel_15493/4082524329.py:4: FutureWarning: The frame.append method is deprecated and will be removed from pandas in a future version. Use pandas.concat instead.\n",
      "  maybe = maybe.append(pd.DataFrame(row).transpose())\n",
      "/var/folders/0n/f4t27bkj4qv8ch75963kg78c0000gn/T/ipykernel_15493/4082524329.py:4: FutureWarning: The frame.append method is deprecated and will be removed from pandas in a future version. Use pandas.concat instead.\n",
      "  maybe = maybe.append(pd.DataFrame(row).transpose())\n",
      "/var/folders/0n/f4t27bkj4qv8ch75963kg78c0000gn/T/ipykernel_15493/4082524329.py:4: FutureWarning: The frame.append method is deprecated and will be removed from pandas in a future version. Use pandas.concat instead.\n",
      "  maybe = maybe.append(pd.DataFrame(row).transpose())\n",
      "/var/folders/0n/f4t27bkj4qv8ch75963kg78c0000gn/T/ipykernel_15493/4082524329.py:4: FutureWarning: The frame.append method is deprecated and will be removed from pandas in a future version. Use pandas.concat instead.\n",
      "  maybe = maybe.append(pd.DataFrame(row).transpose())\n",
      "/var/folders/0n/f4t27bkj4qv8ch75963kg78c0000gn/T/ipykernel_15493/4082524329.py:4: FutureWarning: The frame.append method is deprecated and will be removed from pandas in a future version. Use pandas.concat instead.\n",
      "  maybe = maybe.append(pd.DataFrame(row).transpose())\n",
      "/var/folders/0n/f4t27bkj4qv8ch75963kg78c0000gn/T/ipykernel_15493/4082524329.py:4: FutureWarning: The frame.append method is deprecated and will be removed from pandas in a future version. Use pandas.concat instead.\n",
      "  maybe = maybe.append(pd.DataFrame(row).transpose())\n",
      "/var/folders/0n/f4t27bkj4qv8ch75963kg78c0000gn/T/ipykernel_15493/4082524329.py:4: FutureWarning: The frame.append method is deprecated and will be removed from pandas in a future version. Use pandas.concat instead.\n",
      "  maybe = maybe.append(pd.DataFrame(row).transpose())\n",
      "/var/folders/0n/f4t27bkj4qv8ch75963kg78c0000gn/T/ipykernel_15493/4082524329.py:4: FutureWarning: The frame.append method is deprecated and will be removed from pandas in a future version. Use pandas.concat instead.\n",
      "  maybe = maybe.append(pd.DataFrame(row).transpose())\n",
      "/var/folders/0n/f4t27bkj4qv8ch75963kg78c0000gn/T/ipykernel_15493/4082524329.py:4: FutureWarning: The frame.append method is deprecated and will be removed from pandas in a future version. Use pandas.concat instead.\n",
      "  maybe = maybe.append(pd.DataFrame(row).transpose())\n",
      "/var/folders/0n/f4t27bkj4qv8ch75963kg78c0000gn/T/ipykernel_15493/4082524329.py:4: FutureWarning: The frame.append method is deprecated and will be removed from pandas in a future version. Use pandas.concat instead.\n",
      "  maybe = maybe.append(pd.DataFrame(row).transpose())\n",
      "/var/folders/0n/f4t27bkj4qv8ch75963kg78c0000gn/T/ipykernel_15493/4082524329.py:4: FutureWarning: The frame.append method is deprecated and will be removed from pandas in a future version. Use pandas.concat instead.\n",
      "  maybe = maybe.append(pd.DataFrame(row).transpose())\n",
      "/var/folders/0n/f4t27bkj4qv8ch75963kg78c0000gn/T/ipykernel_15493/4082524329.py:4: FutureWarning: The frame.append method is deprecated and will be removed from pandas in a future version. Use pandas.concat instead.\n",
      "  maybe = maybe.append(pd.DataFrame(row).transpose())\n",
      "/var/folders/0n/f4t27bkj4qv8ch75963kg78c0000gn/T/ipykernel_15493/4082524329.py:4: FutureWarning: The frame.append method is deprecated and will be removed from pandas in a future version. Use pandas.concat instead.\n",
      "  maybe = maybe.append(pd.DataFrame(row).transpose())\n",
      "/var/folders/0n/f4t27bkj4qv8ch75963kg78c0000gn/T/ipykernel_15493/4082524329.py:4: FutureWarning: The frame.append method is deprecated and will be removed from pandas in a future version. Use pandas.concat instead.\n",
      "  maybe = maybe.append(pd.DataFrame(row).transpose())\n",
      "/var/folders/0n/f4t27bkj4qv8ch75963kg78c0000gn/T/ipykernel_15493/4082524329.py:4: FutureWarning: The frame.append method is deprecated and will be removed from pandas in a future version. Use pandas.concat instead.\n",
      "  maybe = maybe.append(pd.DataFrame(row).transpose())\n",
      "/var/folders/0n/f4t27bkj4qv8ch75963kg78c0000gn/T/ipykernel_15493/4082524329.py:4: FutureWarning: The frame.append method is deprecated and will be removed from pandas in a future version. Use pandas.concat instead.\n",
      "  maybe = maybe.append(pd.DataFrame(row).transpose())\n",
      "/var/folders/0n/f4t27bkj4qv8ch75963kg78c0000gn/T/ipykernel_15493/4082524329.py:4: FutureWarning: The frame.append method is deprecated and will be removed from pandas in a future version. Use pandas.concat instead.\n",
      "  maybe = maybe.append(pd.DataFrame(row).transpose())\n",
      "/var/folders/0n/f4t27bkj4qv8ch75963kg78c0000gn/T/ipykernel_15493/4082524329.py:4: FutureWarning: The frame.append method is deprecated and will be removed from pandas in a future version. Use pandas.concat instead.\n",
      "  maybe = maybe.append(pd.DataFrame(row).transpose())\n",
      "/var/folders/0n/f4t27bkj4qv8ch75963kg78c0000gn/T/ipykernel_15493/4082524329.py:4: FutureWarning: The frame.append method is deprecated and will be removed from pandas in a future version. Use pandas.concat instead.\n",
      "  maybe = maybe.append(pd.DataFrame(row).transpose())\n",
      "/var/folders/0n/f4t27bkj4qv8ch75963kg78c0000gn/T/ipykernel_15493/4082524329.py:4: FutureWarning: The frame.append method is deprecated and will be removed from pandas in a future version. Use pandas.concat instead.\n",
      "  maybe = maybe.append(pd.DataFrame(row).transpose())\n",
      "/var/folders/0n/f4t27bkj4qv8ch75963kg78c0000gn/T/ipykernel_15493/4082524329.py:4: FutureWarning: The frame.append method is deprecated and will be removed from pandas in a future version. Use pandas.concat instead.\n",
      "  maybe = maybe.append(pd.DataFrame(row).transpose())\n",
      "/var/folders/0n/f4t27bkj4qv8ch75963kg78c0000gn/T/ipykernel_15493/4082524329.py:4: FutureWarning: The frame.append method is deprecated and will be removed from pandas in a future version. Use pandas.concat instead.\n",
      "  maybe = maybe.append(pd.DataFrame(row).transpose())\n",
      "/var/folders/0n/f4t27bkj4qv8ch75963kg78c0000gn/T/ipykernel_15493/4082524329.py:4: FutureWarning: The frame.append method is deprecated and will be removed from pandas in a future version. Use pandas.concat instead.\n",
      "  maybe = maybe.append(pd.DataFrame(row).transpose())\n",
      "/var/folders/0n/f4t27bkj4qv8ch75963kg78c0000gn/T/ipykernel_15493/4082524329.py:4: FutureWarning: The frame.append method is deprecated and will be removed from pandas in a future version. Use pandas.concat instead.\n",
      "  maybe = maybe.append(pd.DataFrame(row).transpose())\n",
      "/var/folders/0n/f4t27bkj4qv8ch75963kg78c0000gn/T/ipykernel_15493/4082524329.py:4: FutureWarning: The frame.append method is deprecated and will be removed from pandas in a future version. Use pandas.concat instead.\n",
      "  maybe = maybe.append(pd.DataFrame(row).transpose())\n",
      "/var/folders/0n/f4t27bkj4qv8ch75963kg78c0000gn/T/ipykernel_15493/4082524329.py:4: FutureWarning: The frame.append method is deprecated and will be removed from pandas in a future version. Use pandas.concat instead.\n",
      "  maybe = maybe.append(pd.DataFrame(row).transpose())\n",
      "/var/folders/0n/f4t27bkj4qv8ch75963kg78c0000gn/T/ipykernel_15493/4082524329.py:4: FutureWarning: The frame.append method is deprecated and will be removed from pandas in a future version. Use pandas.concat instead.\n",
      "  maybe = maybe.append(pd.DataFrame(row).transpose())\n"
     ]
    },
    {
     "data": {
      "text/html": [
       "<div>\n",
       "<style scoped>\n",
       "    .dataframe tbody tr th:only-of-type {\n",
       "        vertical-align: middle;\n",
       "    }\n",
       "\n",
       "    .dataframe tbody tr th {\n",
       "        vertical-align: top;\n",
       "    }\n",
       "\n",
       "    .dataframe thead th {\n",
       "        text-align: right;\n",
       "    }\n",
       "</style>\n",
       "<table border=\"1\" class=\"dataframe\">\n",
       "  <thead>\n",
       "    <tr style=\"text-align: right;\">\n",
       "      <th></th>\n",
       "      <th>Age</th>\n",
       "      <th>BMI</th>\n",
       "      <th>Glucose</th>\n",
       "      <th>Insulin</th>\n",
       "      <th>HOMA</th>\n",
       "      <th>Leptin</th>\n",
       "      <th>Adiponectin</th>\n",
       "      <th>Resistin</th>\n",
       "      <th>MCP.1</th>\n",
       "    </tr>\n",
       "  </thead>\n",
       "  <tbody>\n",
       "    <tr>\n",
       "      <th>0</th>\n",
       "      <td>-0.579794</td>\n",
       "      <td>-0.816675</td>\n",
       "      <td>-1.239222</td>\n",
       "      <td>-0.728739</td>\n",
       "      <td>-0.614282</td>\n",
       "      <td>-0.932334</td>\n",
       "      <td>-0.070222</td>\n",
       "      <td>-0.545517</td>\n",
       "      <td>-0.341251</td>\n",
       "    </tr>\n",
       "    <tr>\n",
       "      <th>0</th>\n",
       "      <td>1.601821</td>\n",
       "      <td>-1.378751</td>\n",
       "      <td>-0.258299</td>\n",
       "      <td>-0.688038</td>\n",
       "      <td>-0.548240</td>\n",
       "      <td>-0.930413</td>\n",
       "      <td>-0.697350</td>\n",
       "      <td>-0.864214</td>\n",
       "      <td>-0.191224</td>\n",
       "    </tr>\n",
       "    <tr>\n",
       "      <th>0</th>\n",
       "      <td>1.539489</td>\n",
       "      <td>-0.891764</td>\n",
       "      <td>-0.302887</td>\n",
       "      <td>-0.550073</td>\n",
       "      <td>-0.464752</td>\n",
       "      <td>-0.454219</td>\n",
       "      <td>1.797998</td>\n",
       "      <td>-0.441660</td>\n",
       "      <td>0.058214</td>\n",
       "    </tr>\n",
       "    <tr>\n",
       "      <th>0</th>\n",
       "      <td>0.666843</td>\n",
       "      <td>-1.243303</td>\n",
       "      <td>-0.927110</td>\n",
       "      <td>-0.676965</td>\n",
       "      <td>-0.574210</td>\n",
       "      <td>-0.876021</td>\n",
       "      <td>-0.441945</td>\n",
       "      <td>-0.158867</td>\n",
       "      <td>1.142718</td>\n",
       "    </tr>\n",
       "    <tr>\n",
       "      <th>0</th>\n",
       "      <td>1.788816</td>\n",
       "      <td>-1.294601</td>\n",
       "      <td>-0.258299</td>\n",
       "      <td>-0.644743</td>\n",
       "      <td>-0.521081</td>\n",
       "      <td>-1.042682</td>\n",
       "      <td>-0.786881</td>\n",
       "      <td>-0.336352</td>\n",
       "      <td>0.694716</td>\n",
       "    </tr>\n",
       "    <tr>\n",
       "      <th>...</th>\n",
       "      <td>...</td>\n",
       "      <td>...</td>\n",
       "      <td>...</td>\n",
       "      <td>...</td>\n",
       "      <td>...</td>\n",
       "      <td>...</td>\n",
       "      <td>...</td>\n",
       "      <td>...</td>\n",
       "      <td>...</td>\n",
       "    </tr>\n",
       "    <tr>\n",
       "      <th>0</th>\n",
       "      <td>-0.766789</td>\n",
       "      <td>-0.146468</td>\n",
       "      <td>-0.258299</td>\n",
       "      <td>-0.666590</td>\n",
       "      <td>-0.534786</td>\n",
       "      <td>1.469335</td>\n",
       "      <td>0.281654</td>\n",
       "      <td>-0.305255</td>\n",
       "      <td>-0.773527</td>\n",
       "    </tr>\n",
       "    <tr>\n",
       "      <th>0</th>\n",
       "      <td>0.292852</td>\n",
       "      <td>-0.148468</td>\n",
       "      <td>0.098400</td>\n",
       "      <td>-0.546881</td>\n",
       "      <td>-0.435039</td>\n",
       "      <td>-0.741611</td>\n",
       "      <td>1.649470</td>\n",
       "      <td>-0.600299</td>\n",
       "      <td>-0.593717</td>\n",
       "    </tr>\n",
       "    <tr>\n",
       "      <th>0</th>\n",
       "      <td>0.479848</td>\n",
       "      <td>0.893855</td>\n",
       "      <td>-0.035362</td>\n",
       "      <td>-0.427172</td>\n",
       "      <td>-0.365106</td>\n",
       "      <td>1.825348</td>\n",
       "      <td>1.813843</td>\n",
       "      <td>-0.356320</td>\n",
       "      <td>-0.640491</td>\n",
       "    </tr>\n",
       "    <tr>\n",
       "      <th>0</th>\n",
       "      <td>0.916171</td>\n",
       "      <td>-0.398546</td>\n",
       "      <td>-0.704173</td>\n",
       "      <td>-0.717467</td>\n",
       "      <td>-0.585883</td>\n",
       "      <td>-0.086651</td>\n",
       "      <td>3.459038</td>\n",
       "      <td>-0.928577</td>\n",
       "      <td>-0.412832</td>\n",
       "    </tr>\n",
       "    <tr>\n",
       "      <th>0</th>\n",
       "      <td>1.788816</td>\n",
       "      <td>-0.080447</td>\n",
       "      <td>1.792721</td>\n",
       "      <td>0.987394</td>\n",
       "      <td>1.125766</td>\n",
       "      <td>3.333167</td>\n",
       "      <td>0.576644</td>\n",
       "      <td>-0.841036</td>\n",
       "      <td>-1.290747</td>\n",
       "    </tr>\n",
       "  </tbody>\n",
       "</table>\n",
       "<p>116 rows × 9 columns</p>\n",
       "</div>"
      ],
      "text/plain": [
       "         Age       BMI   Glucose   Insulin      HOMA    Leptin  Adiponectin  \\\n",
       "0  -0.579794 -0.816675 -1.239222 -0.728739 -0.614282 -0.932334    -0.070222   \n",
       "0   1.601821 -1.378751 -0.258299 -0.688038 -0.548240 -0.930413    -0.697350   \n",
       "0   1.539489 -0.891764 -0.302887 -0.550073 -0.464752 -0.454219     1.797998   \n",
       "0   0.666843 -1.243303 -0.927110 -0.676965 -0.574210 -0.876021    -0.441945   \n",
       "0   1.788816 -1.294601 -0.258299 -0.644743 -0.521081 -1.042682    -0.786881   \n",
       "..       ...       ...       ...       ...       ...       ...          ...   \n",
       "0  -0.766789 -0.146468 -0.258299 -0.666590 -0.534786  1.469335     0.281654   \n",
       "0   0.292852 -0.148468  0.098400 -0.546881 -0.435039 -0.741611     1.649470   \n",
       "0   0.479848  0.893855 -0.035362 -0.427172 -0.365106  1.825348     1.813843   \n",
       "0   0.916171 -0.398546 -0.704173 -0.717467 -0.585883 -0.086651     3.459038   \n",
       "0   1.788816 -0.080447  1.792721  0.987394  1.125766  3.333167     0.576644   \n",
       "\n",
       "    Resistin     MCP.1  \n",
       "0  -0.545517 -0.341251  \n",
       "0  -0.864214 -0.191224  \n",
       "0  -0.441660  0.058214  \n",
       "0  -0.158867  1.142718  \n",
       "0  -0.336352  0.694716  \n",
       "..       ...       ...  \n",
       "0  -0.305255 -0.773527  \n",
       "0  -0.600299 -0.593717  \n",
       "0  -0.356320 -0.640491  \n",
       "0  -0.928577 -0.412832  \n",
       "0  -0.841036 -1.290747  \n",
       "\n",
       "[116 rows x 9 columns]"
      ]
     },
     "execution_count": 77,
     "metadata": {},
     "output_type": "execute_result"
    }
   ],
   "source": [
    "maybe = pd.DataFrame()\n",
    "for row in X:\n",
    "    #print(row)\n",
    "    maybe = maybe.append(pd.DataFrame(row).transpose())\n",
    "\n",
    "# Don't take the classifier column from health\n",
    "maybe.columns = health.columns[:-1]\n",
    "maybe"
   ]
  },
  {
   "cell_type": "code",
   "execution_count": 81,
   "id": "adffafd7",
   "metadata": {},
   "outputs": [],
   "source": [
    "# Logistic regression model - DONT FIT IT\n",
    "lr = LogisticRegression(max_iter=1000)"
   ]
  },
  {
   "cell_type": "code",
   "execution_count": 83,
   "id": "7f7f9df3",
   "metadata": {},
   "outputs": [
    {
     "data": {
      "text/html": [
       "<style>#sk-container-id-9 {color: black;background-color: white;}#sk-container-id-9 pre{padding: 0;}#sk-container-id-9 div.sk-toggleable {background-color: white;}#sk-container-id-9 label.sk-toggleable__label {cursor: pointer;display: block;width: 100%;margin-bottom: 0;padding: 0.3em;box-sizing: border-box;text-align: center;}#sk-container-id-9 label.sk-toggleable__label-arrow:before {content: \"▸\";float: left;margin-right: 0.25em;color: #696969;}#sk-container-id-9 label.sk-toggleable__label-arrow:hover:before {color: black;}#sk-container-id-9 div.sk-estimator:hover label.sk-toggleable__label-arrow:before {color: black;}#sk-container-id-9 div.sk-toggleable__content {max-height: 0;max-width: 0;overflow: hidden;text-align: left;background-color: #f0f8ff;}#sk-container-id-9 div.sk-toggleable__content pre {margin: 0.2em;color: black;border-radius: 0.25em;background-color: #f0f8ff;}#sk-container-id-9 input.sk-toggleable__control:checked~div.sk-toggleable__content {max-height: 200px;max-width: 100%;overflow: auto;}#sk-container-id-9 input.sk-toggleable__control:checked~label.sk-toggleable__label-arrow:before {content: \"▾\";}#sk-container-id-9 div.sk-estimator input.sk-toggleable__control:checked~label.sk-toggleable__label {background-color: #d4ebff;}#sk-container-id-9 div.sk-label input.sk-toggleable__control:checked~label.sk-toggleable__label {background-color: #d4ebff;}#sk-container-id-9 input.sk-hidden--visually {border: 0;clip: rect(1px 1px 1px 1px);clip: rect(1px, 1px, 1px, 1px);height: 1px;margin: -1px;overflow: hidden;padding: 0;position: absolute;width: 1px;}#sk-container-id-9 div.sk-estimator {font-family: monospace;background-color: #f0f8ff;border: 1px dotted black;border-radius: 0.25em;box-sizing: border-box;margin-bottom: 0.5em;}#sk-container-id-9 div.sk-estimator:hover {background-color: #d4ebff;}#sk-container-id-9 div.sk-parallel-item::after {content: \"\";width: 100%;border-bottom: 1px solid gray;flex-grow: 1;}#sk-container-id-9 div.sk-label:hover label.sk-toggleable__label {background-color: #d4ebff;}#sk-container-id-9 div.sk-serial::before {content: \"\";position: absolute;border-left: 1px solid gray;box-sizing: border-box;top: 0;bottom: 0;left: 50%;z-index: 0;}#sk-container-id-9 div.sk-serial {display: flex;flex-direction: column;align-items: center;background-color: white;padding-right: 0.2em;padding-left: 0.2em;position: relative;}#sk-container-id-9 div.sk-item {position: relative;z-index: 1;}#sk-container-id-9 div.sk-parallel {display: flex;align-items: stretch;justify-content: center;background-color: white;position: relative;}#sk-container-id-9 div.sk-item::before, #sk-container-id-9 div.sk-parallel-item::before {content: \"\";position: absolute;border-left: 1px solid gray;box-sizing: border-box;top: 0;bottom: 0;left: 50%;z-index: -1;}#sk-container-id-9 div.sk-parallel-item {display: flex;flex-direction: column;z-index: 1;position: relative;background-color: white;}#sk-container-id-9 div.sk-parallel-item:first-child::after {align-self: flex-end;width: 50%;}#sk-container-id-9 div.sk-parallel-item:last-child::after {align-self: flex-start;width: 50%;}#sk-container-id-9 div.sk-parallel-item:only-child::after {width: 0;}#sk-container-id-9 div.sk-dashed-wrapped {border: 1px dashed gray;margin: 0 0.4em 0.5em 0.4em;box-sizing: border-box;padding-bottom: 0.4em;background-color: white;}#sk-container-id-9 div.sk-label label {font-family: monospace;font-weight: bold;display: inline-block;line-height: 1.2em;}#sk-container-id-9 div.sk-label-container {text-align: center;}#sk-container-id-9 div.sk-container {/* jupyter's `normalize.less` sets `[hidden] { display: none; }` but bootstrap.min.css set `[hidden] { display: none !important; }` so we also need the `!important` here to be able to override the default hidden behavior on the sphinx rendered scikit-learn.org. See: https://github.com/scikit-learn/scikit-learn/issues/21755 */display: inline-block !important;position: relative;}#sk-container-id-9 div.sk-text-repr-fallback {display: none;}</style><div id=\"sk-container-id-9\" class=\"sk-top-container\"><div class=\"sk-text-repr-fallback\"><pre>RFE(estimator=LogisticRegression(max_iter=1000), n_features_to_select=3)</pre><b>In a Jupyter environment, please rerun this cell to show the HTML representation or trust the notebook. <br />On GitHub, the HTML representation is unable to render, please try loading this page with nbviewer.org.</b></div><div class=\"sk-container\" hidden><div class=\"sk-item sk-dashed-wrapped\"><div class=\"sk-label-container\"><div class=\"sk-label sk-toggleable\"><input class=\"sk-toggleable__control sk-hidden--visually\" id=\"sk-estimator-id-21\" type=\"checkbox\" ><label for=\"sk-estimator-id-21\" class=\"sk-toggleable__label sk-toggleable__label-arrow\">RFE</label><div class=\"sk-toggleable__content\"><pre>RFE(estimator=LogisticRegression(max_iter=1000), n_features_to_select=3)</pre></div></div></div><div class=\"sk-parallel\"><div class=\"sk-parallel-item\"><div class=\"sk-item\"><div class=\"sk-label-container\"><div class=\"sk-label sk-toggleable\"><input class=\"sk-toggleable__control sk-hidden--visually\" id=\"sk-estimator-id-22\" type=\"checkbox\" ><label for=\"sk-estimator-id-22\" class=\"sk-toggleable__label sk-toggleable__label-arrow\">estimator: LogisticRegression</label><div class=\"sk-toggleable__content\"><pre>LogisticRegression(max_iter=1000)</pre></div></div></div><div class=\"sk-serial\"><div class=\"sk-item\"><div class=\"sk-estimator sk-toggleable\"><input class=\"sk-toggleable__control sk-hidden--visually\" id=\"sk-estimator-id-23\" type=\"checkbox\" ><label for=\"sk-estimator-id-23\" class=\"sk-toggleable__label sk-toggleable__label-arrow\">LogisticRegression</label><div class=\"sk-toggleable__content\"><pre>LogisticRegression(max_iter=1000)</pre></div></div></div></div></div></div></div></div></div></div>"
      ],
      "text/plain": [
       "RFE(estimator=LogisticRegression(max_iter=1000), n_features_to_select=3)"
      ]
     },
     "execution_count": 83,
     "metadata": {},
     "output_type": "execute_result"
    }
   ],
   "source": [
    "# Recursive feature elimination\n",
    "rfe = RFE(lr, n_features_to_select=3)\n",
    "rfe.fit(maybe, y)"
   ]
  },
  {
   "cell_type": "code",
   "execution_count": 86,
   "id": "e75a531d",
   "metadata": {},
   "outputs": [
    {
     "name": "stdout",
     "output_type": "stream",
     "text": [
      "[4 1 1 2 3 5 7 1 6]\n"
     ]
    }
   ],
   "source": [
    "print(rfe.ranking_)"
   ]
  },
  {
   "cell_type": "markdown",
   "id": "4fc4f740",
   "metadata": {},
   "source": [
    "## Ranking of 1 means it was chosen\n",
    "### Others indicate the order they were removed in - 7 being the FIRST removed"
   ]
  },
  {
   "cell_type": "code",
   "execution_count": 94,
   "id": "5f0ffc02",
   "metadata": {
    "scrolled": true
   },
   "outputs": [
    {
     "data": {
      "text/html": [
       "<div>\n",
       "<style scoped>\n",
       "    .dataframe tbody tr th:only-of-type {\n",
       "        vertical-align: middle;\n",
       "    }\n",
       "\n",
       "    .dataframe tbody tr th {\n",
       "        vertical-align: top;\n",
       "    }\n",
       "\n",
       "    .dataframe thead th {\n",
       "        text-align: right;\n",
       "    }\n",
       "</style>\n",
       "<table border=\"1\" class=\"dataframe\">\n",
       "  <thead>\n",
       "    <tr style=\"text-align: right;\">\n",
       "      <th></th>\n",
       "      <th>features</th>\n",
       "      <th>ranking</th>\n",
       "      <th>to_keep</th>\n",
       "    </tr>\n",
       "  </thead>\n",
       "  <tbody>\n",
       "    <tr>\n",
       "      <th>1</th>\n",
       "      <td>BMI</td>\n",
       "      <td>1</td>\n",
       "      <td>True</td>\n",
       "    </tr>\n",
       "    <tr>\n",
       "      <th>2</th>\n",
       "      <td>Glucose</td>\n",
       "      <td>1</td>\n",
       "      <td>True</td>\n",
       "    </tr>\n",
       "    <tr>\n",
       "      <th>7</th>\n",
       "      <td>Resistin</td>\n",
       "      <td>1</td>\n",
       "      <td>True</td>\n",
       "    </tr>\n",
       "    <tr>\n",
       "      <th>3</th>\n",
       "      <td>Insulin</td>\n",
       "      <td>2</td>\n",
       "      <td>False</td>\n",
       "    </tr>\n",
       "    <tr>\n",
       "      <th>4</th>\n",
       "      <td>HOMA</td>\n",
       "      <td>3</td>\n",
       "      <td>False</td>\n",
       "    </tr>\n",
       "    <tr>\n",
       "      <th>0</th>\n",
       "      <td>Age</td>\n",
       "      <td>4</td>\n",
       "      <td>False</td>\n",
       "    </tr>\n",
       "    <tr>\n",
       "      <th>5</th>\n",
       "      <td>Leptin</td>\n",
       "      <td>5</td>\n",
       "      <td>False</td>\n",
       "    </tr>\n",
       "    <tr>\n",
       "      <th>8</th>\n",
       "      <td>MCP.1</td>\n",
       "      <td>6</td>\n",
       "      <td>False</td>\n",
       "    </tr>\n",
       "    <tr>\n",
       "      <th>6</th>\n",
       "      <td>Adiponectin</td>\n",
       "      <td>7</td>\n",
       "      <td>False</td>\n",
       "    </tr>\n",
       "  </tbody>\n",
       "</table>\n",
       "</div>"
      ],
      "text/plain": [
       "      features  ranking  to_keep\n",
       "1          BMI        1     True\n",
       "2      Glucose        1     True\n",
       "7     Resistin        1     True\n",
       "3      Insulin        2    False\n",
       "4         HOMA        3    False\n",
       "0          Age        4    False\n",
       "5       Leptin        5    False\n",
       "8        MCP.1        6    False\n",
       "6  Adiponectin        7    False"
      ]
     },
     "execution_count": 94,
     "metadata": {},
     "output_type": "execute_result"
    }
   ],
   "source": [
    "pd.DataFrame({'features':rfe.feature_names_in_,\n",
    "             \"ranking\":rfe.ranking_,\n",
    "             \"to_keep\": rfe.support_}).sort_values(\"ranking\")"
   ]
  },
  {
   "cell_type": "markdown",
   "id": "0f5cd217",
   "metadata": {},
   "source": [
    "## Score of the model we chose? "
   ]
  },
  {
   "cell_type": "code",
   "execution_count": 95,
   "id": "106e222c",
   "metadata": {},
   "outputs": [
    {
     "name": "stdout",
     "output_type": "stream",
     "text": [
      "0.7327586206896551\n"
     ]
    },
    {
     "name": "stderr",
     "output_type": "stream",
     "text": [
      "/Users/amlvt225/anaconda3/envs/data_science_env/lib/python3.10/site-packages/sklearn/base.py:450: UserWarning: X does not have valid feature names, but RFE was fitted with feature names\n",
      "  warnings.warn(\n"
     ]
    }
   ],
   "source": [
    "print(rfe.score(X, y))"
   ]
  },
  {
   "cell_type": "code",
   "execution_count": null,
   "id": "a1f7c104",
   "metadata": {},
   "outputs": [],
   "source": []
  }
 ],
 "metadata": {
  "kernelspec": {
   "display_name": "Python [conda env:data_science_env]",
   "language": "python",
   "name": "conda-env-data_science_env-py"
  },
  "language_info": {
   "codemirror_mode": {
    "name": "ipython",
    "version": 3
   },
   "file_extension": ".py",
   "mimetype": "text/x-python",
   "name": "python",
   "nbconvert_exporter": "python",
   "pygments_lexer": "ipython3",
   "version": "3.10.4"
  }
 },
 "nbformat": 4,
 "nbformat_minor": 5
}
