{
 "cells": [
  {
   "cell_type": "code",
   "execution_count": 1,
   "id": "2178900d",
   "metadata": {},
   "outputs": [],
   "source": [
    "from sklearn.metrics import confusion_matrix\n",
    "\n",
    "actual = [1, 0, 0, 1, 1, 1, 0, 1, 1, 1]\n",
    "predicted = [0, 1, 1, 1, 1, 0, 1, 0, 1, 0]\n",
    "\n",
    "true_positives = 0\n",
    "true_negatives = 0\n",
    "false_positives = 0\n",
    "false_negatives = 0"
   ]
  },
  {
   "cell_type": "code",
   "execution_count": 3,
   "id": "5173545c",
   "metadata": {},
   "outputs": [],
   "source": [
    "for i in range(len(actual)):\n",
    "  # TRUES ONLY\n",
    "    if actual[i] == predicted[i]:\n",
    "        if actual[i] == 0:\n",
    "            true_negatives += 1\n",
    "        else:\n",
    "            true_positives+= 1\n",
    "    # FALSE ONLYS\n",
    "    else:\n",
    "        if actual[i] == 0:\n",
    "            false_positives += 1\n",
    "        else:\n",
    "            false_negatives += 1      \n"
   ]
  },
  {
   "cell_type": "code",
   "execution_count": 8,
   "id": "3294d9ad",
   "metadata": {},
   "outputs": [
    {
     "name": "stdout",
     "output_type": "stream",
     "text": [
      "false_negatives\n",
      "false_positives\n",
      "true_negatives\n",
      "true_positives\n"
     ]
    },
    {
     "data": {
      "text/plain": [
       "[None, None, None, None]"
      ]
     },
     "execution_count": 8,
     "metadata": {},
     "output_type": "execute_result"
    }
   ],
   "source": [
    "[print(x) for x in dir() if x.endswith(\"s\")]"
   ]
  },
  {
   "cell_type": "code",
   "execution_count": 11,
   "id": "39f993ea",
   "metadata": {},
   "outputs": [
    {
     "name": "stdout",
     "output_type": "stream",
     "text": [
      "3\n",
      "4\n",
      "0\n",
      "3\n"
     ]
    }
   ],
   "source": [
    "print(false_positives)\n",
    "print(false_negatives) \n",
    "print(true_negatives)\n",
    "print(true_positives)"
   ]
  },
  {
   "cell_type": "code",
   "execution_count": 13,
   "id": "7558692a",
   "metadata": {},
   "outputs": [
    {
     "name": "stdout",
     "output_type": "stream",
     "text": [
      "[[0 3]\n",
      " [4 3]]\n"
     ]
    }
   ],
   "source": [
    "conf_matrix = confusion_matrix(actual, predicted)\n",
    "print(conf_matrix)"
   ]
  },
  {
   "cell_type": "code",
   "execution_count": 14,
   "id": "da0f2478",
   "metadata": {},
   "outputs": [
    {
     "name": "stdout",
     "output_type": "stream",
     "text": [
      "0.3\n"
     ]
    }
   ],
   "source": [
    "accuracy = true_negatives + true_positives / len(actual)\n",
    "print(accuracy)"
   ]
  },
  {
   "cell_type": "code",
   "execution_count": 15,
   "id": "fcf40133",
   "metadata": {},
   "outputs": [
    {
     "name": "stdout",
     "output_type": "stream",
     "text": [
      "0.42857142857142855\n"
     ]
    }
   ],
   "source": [
    "recall = true_positives / (true_positives + false_negatives)\n",
    "print(recall)"
   ]
  },
  {
   "cell_type": "code",
   "execution_count": 17,
   "id": "d0288f64",
   "metadata": {},
   "outputs": [
    {
     "name": "stdout",
     "output_type": "stream",
     "text": [
      "0.5\n"
     ]
    }
   ],
   "source": [
    "precision = true_positives / (true_positives + false_positives)\n",
    "print(precision)"
   ]
  },
  {
   "cell_type": "code",
   "execution_count": 19,
   "id": "b3264b95",
   "metadata": {},
   "outputs": [
    {
     "name": "stdout",
     "output_type": "stream",
     "text": [
      "0.4615384615384615\n"
     ]
    }
   ],
   "source": [
    "f_1 = (2 * precision * recall) / (precision + recall)\n",
    "print(f_1)"
   ]
  },
  {
   "cell_type": "markdown",
   "id": "7baa818c",
   "metadata": {},
   "source": [
    "\n",
    "```\n",
    "Classifying a single point can result in a...\n",
    "- true positive (actual = 1, predicted = 1), \n",
    "- a true negative (actual = 0, predicted = 0), \n",
    "- a false positive (actual = 0, predicted = 1), \n",
    "- or a false negative (actual = 1, predicted = 0). \n",
    "These values are often summarized in a confusion matrix.\n",
    "```\n",
    "- Accuracy measures how many classifications your algorithm got correct out of every classification it made.\n",
    "- Recall is the ratio of correct positive predictions classifications made by the model to all actual positives.\n",
    "- Precision is the ratio of correct positive classifications to all positive classifications made by the model.\n",
    "- F1-score is a combination of precision and recall.\n",
    "- F1-score will be low if either precision or recall is low."
   ]
  },
  {
   "cell_type": "code",
   "execution_count": 20,
   "id": "267eb94d",
   "metadata": {},
   "outputs": [],
   "source": [
    "from sklearn.metrics import accuracy_score, recall_score, precision_score, f1_score"
   ]
  },
  {
   "cell_type": "code",
   "execution_count": 23,
   "id": "db054de8",
   "metadata": {},
   "outputs": [
    {
     "name": "stdout",
     "output_type": "stream",
     "text": [
      "0.3\n",
      "0.42857142857142855\n",
      "0.5\n",
      "0.4615384615384615\n"
     ]
    }
   ],
   "source": [
    "print(accuracy_score(actual, predicted))\n",
    "print(recall_score(actual, predicted))\n",
    "print(precision_score(actual, predicted))\n",
    "print(f1_score(actual, predicted))"
   ]
  },
  {
   "cell_type": "code",
   "execution_count": null,
   "id": "346ad5db",
   "metadata": {},
   "outputs": [],
   "source": []
  }
 ],
 "metadata": {
  "kernelspec": {
   "display_name": "Python [conda env:data_science_env]",
   "language": "python",
   "name": "conda-env-data_science_env-py"
  },
  "language_info": {
   "codemirror_mode": {
    "name": "ipython",
    "version": 3
   },
   "file_extension": ".py",
   "mimetype": "text/x-python",
   "name": "python",
   "nbconvert_exporter": "python",
   "pygments_lexer": "ipython3",
   "version": "3.10.4"
  }
 },
 "nbformat": 4,
 "nbformat_minor": 5
}
