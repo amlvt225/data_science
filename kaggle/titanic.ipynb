{
 "cells": [
  {
   "cell_type": "code",
   "execution_count": 1,
   "id": "67376d74",
   "metadata": {},
   "outputs": [],
   "source": [
    "import pandas as pd\n",
    "import matplotlib.pyplot as plt\n",
    "import numpy as np\n",
    "from sklearn.model_selection import train_test_split\n",
    "from sklearn.linear_model import LogisticRegression\n",
    "from sklearn import metrics\n",
    "from sklearn.feature_selection import RFE\n",
    "\n",
    "%matplotlib inline\n",
    "\n",
    "pd.options.display.max_columns=200"
   ]
  },
  {
   "cell_type": "code",
   "execution_count": 15,
   "id": "0efed9bc",
   "metadata": {},
   "outputs": [],
   "source": [
    "import re"
   ]
  },
  {
   "cell_type": "code",
   "execution_count": 2,
   "id": "88469dfb",
   "metadata": {},
   "outputs": [],
   "source": [
    "from mlxtend.plotting import plot_sequential_feature_selection as plot_sfs"
   ]
  },
  {
   "cell_type": "code",
   "execution_count": 3,
   "id": "7357e7b9",
   "metadata": {},
   "outputs": [],
   "source": [
    "from mlxtend.feature_selection import SequentialFeatureSelector as SFS"
   ]
  },
  {
   "cell_type": "code",
   "execution_count": 4,
   "id": "00b3e874",
   "metadata": {},
   "outputs": [],
   "source": [
    "from sklearn.preprocessing import StandardScaler\n",
    "scaler = StandardScaler()"
   ]
  },
  {
   "cell_type": "markdown",
   "id": "2d6d73d3",
   "metadata": {},
   "source": [
    "## Helper functions"
   ]
  },
  {
   "cell_type": "code",
   "execution_count": 49,
   "id": "4de392b8",
   "metadata": {},
   "outputs": [],
   "source": [
    "def extract_all_nums(string):\n",
    "    all_nums = []\n",
    "    for word in string.split(\" \"):\n",
    "        number = ''.join(filter(str.isdigit, word))\n",
    "        if number:\n",
    "            all_nums.append(int(number))\n",
    "        \n",
    "    return all_nums"
   ]
  },
  {
   "cell_type": "code",
   "execution_count": 59,
   "id": "d3982217",
   "metadata": {},
   "outputs": [],
   "source": [
    "def extract_all_nums_min(string):\n",
    "    result = extract_all_nums(string)\n",
    "    if result:\n",
    "        return np.min(result)\n",
    "    else:\n",
    "        return 0"
   ]
  },
  {
   "cell_type": "code",
   "execution_count": 60,
   "id": "3f5764d3",
   "metadata": {},
   "outputs": [],
   "source": [
    "def extract_all_nums_max(string):\n",
    "    result = extract_all_nums(string)\n",
    "    if result:\n",
    "        return np.max(result)\n",
    "    else:\n",
    "        return 0"
   ]
  },
  {
   "cell_type": "code",
   "execution_count": 46,
   "id": "fb1f569a",
   "metadata": {},
   "outputs": [],
   "source": [
    "def extract_letters(string):\n",
    "    string_return = []\n",
    "#    thing = re.split(\"[^a-zA-Z]*\", string)\n",
    "    thing = re.split(\"[^a-zA-Z]*\", string)    \n",
    "    \n",
    "    for item in thing:\n",
    "        if item.isalpha():\n",
    "            #print(item)\n",
    "            #print(\"YEAH\")\n",
    "            string_return.append(item)\n",
    "            \n",
    "    return set(string_return)"
   ]
  },
  {
   "cell_type": "markdown",
   "id": "ba39d366",
   "metadata": {},
   "source": [
    "## Add features "
   ]
  },
  {
   "cell_type": "code",
   "execution_count": 189,
   "id": "c326d875",
   "metadata": {},
   "outputs": [],
   "source": [
    "class TitanicDataProcessor():\n",
    "    \"\"\"\n",
    "    Takes in the raw data frame and generates required features\n",
    "    \"\"\"\n",
    "    def __init__(self, train_or_test=\"train\"):\n",
    "        self.train_or_test = train_or_test\n",
    "        self.current_features = ['Pclass',\n",
    "                                 'Age',\n",
    "                                 'SibSp',\n",
    "                                 'male',\n",
    "                                 'family_size',\n",
    "                                 'cabin_B',\n",
    "                                 'cabin_E',\n",
    "                                 'cabin_F']\n",
    "        \n",
    "    def read_data(self):\n",
    "        if self.train_or_test == \"train\":\n",
    "            print(\"TRAINING\")\n",
    "            self.data = pd.read_csv(\"train.csv\")\n",
    "            self.target = self.data['Survived']\n",
    "            \n",
    "        elif self.train_or_test == \"test\":\n",
    "            print(\"TESTING\")\n",
    "            self.data = pd.read_csv(\"test.csv\")\n",
    "            self.data_raw = self.data.copy() \n",
    "        \n",
    "    def add_initial_features(self):\n",
    "        df = self.data\n",
    "            # Set Age to median Age\n",
    "        df.loc[df['Age'].isnull(),\n",
    "              'Age'] = df['Age'].median()  \n",
    "        bins_age = [x for x in range(0, 100, 5)]\n",
    "        df['Age_binned'] = pd.cut(df['Age'], bins_age, labels=bins_age[:-1])\n",
    "\n",
    "        bins_age_2 = [0, 5, 15, np.inf]\n",
    "        df['Age_binned_2'] = pd.cut(df['Age'], bins_age_2)\n",
    "        df['fare_bin'] = pd.cut(df['Fare'], bins=10)\n",
    "\n",
    "\n",
    "        bins = [x for x in range(-1, 101, 5)]    \n",
    "        bins.append(np.inf)\n",
    "        df['fare_binned'] = pd.cut(df['Fare'], bins, labels=bins[:-1])\n",
    "\n",
    "        bins_2 = [-1, 50, 75, np.inf]\n",
    "        labels = [1,2,3]\n",
    "        df['fare_binned_2'] = pd.cut(df['Fare'], bins_2, labels=labels)\n",
    "\n",
    "        df['Pclass_norm'] = scaler.fit_transform(np.array(df['Pclass']).reshape(-1, 1))\n",
    "\n",
    "        sex_dummies = pd.get_dummies(df['Sex']).drop(['female'], axis=1)\n",
    "        df = df.join(sex_dummies)\n",
    "\n",
    "        df_embarked = pd.get_dummies(df['Embarked']).drop(['C'], axis=1)\n",
    "        df = df.join(df_embarked)\n",
    "\n",
    "        df['family_size'] = df['SibSp'].fillna(0) + df['Parch'].fillna(0)\n",
    "\n",
    "        self.data = df\n",
    "        \n",
    "    def create_cabin_cols(self):\n",
    "        df = self.data\n",
    "        df['cabin_count'] = df['Cabin'].str.split(\" \").str.len()\n",
    "\n",
    "        df['cabin_letters'] = df['Cabin'].astype(str).apply(extract_letters)\n",
    "        df.loc[df['Cabin'].isnull(),\n",
    "               'cabin_letters'] = pd.np.NaN\n",
    "\n",
    "        df['cabin_numbers'] = df['Cabin'].astype(str).apply(extract_all_nums)\n",
    "        df.loc[df['Cabin'].isnull(),\n",
    "               'cabin_numbers'] = pd.np.NaN\n",
    "\n",
    "        df['cabin_numbers_min'] = df['Cabin'].astype(str).apply(extract_all_nums_min)\n",
    "        df.loc[df['Cabin'].isnull(),\n",
    "               'cabin_numbers_min'] = pd.np.NaN\n",
    "\n",
    "        df['cabin_numbers_max'] = df['Cabin'].astype(str).apply(extract_all_nums_max)\n",
    "        df.loc[df['Cabin'].isnull(),\n",
    "               'cabin_numbers_max'] = pd.np.NaN\n",
    "\n",
    "        ## Create dummy values \n",
    "        cabin_letters = ['A','B','C','D','E','F','G','T']\n",
    "\n",
    "        for cabin in cabin_letters:\n",
    "            cabin_col = f\"cabin_{cabin}\"\n",
    "            df[cabin_col] = 0\n",
    "            df.loc[df['cabin_letters'].astype(str).fillna(\"ZZZZ\").str.contains(cabin),\n",
    "                  cabin_col] = 1       \n",
    "            \n",
    "        self.data = df\n",
    "        \n",
    "    def create_ticket_cols(self):\n",
    "        df = self.data\n",
    "        df['ticket_str_length']= df['Ticket'].str.len()\n",
    "\n",
    "        df['ticket_is_digit'] = 0\n",
    "        df.loc[df['Ticket'].str.isdigit(),\n",
    "              'ticket_is_digit'] = 1\n",
    "        self.data = df\n",
    "        \n",
    "    def grab_current_features(self):\n",
    "        self.df_features = self.data[self.current_features]\n",
    "        \n",
    "    def run(self):\n",
    "        self.read_data()\n",
    "        self.add_initial_features()\n",
    "        self.create_cabin_cols()\n",
    "        self.create_ticket_cols()\n",
    "        self.grab_current_features()"
   ]
  },
  {
   "cell_type": "code",
   "execution_count": 248,
   "id": "8254f089",
   "metadata": {},
   "outputs": [],
   "source": [
    "self = TitanicDataProcessor()"
   ]
  },
  {
   "cell_type": "code",
   "execution_count": 249,
   "id": "85aa6cd0",
   "metadata": {
    "scrolled": true
   },
   "outputs": [
    {
     "name": "stdout",
     "output_type": "stream",
     "text": [
      "TRAINING\n"
     ]
    },
    {
     "name": "stderr",
     "output_type": "stream",
     "text": [
      "/var/folders/0n/f4t27bkj4qv8ch75963kg78c0000gn/T/ipykernel_16719/3925809525.py:66: FutureWarning: The pandas.np module is deprecated and will be removed from pandas in a future version. Import numpy directly instead.\n",
      "  'cabin_letters'] = pd.np.NaN\n",
      "/var/folders/0n/f4t27bkj4qv8ch75963kg78c0000gn/T/ipykernel_16719/3925809525.py:70: FutureWarning: The pandas.np module is deprecated and will be removed from pandas in a future version. Import numpy directly instead.\n",
      "  'cabin_numbers'] = pd.np.NaN\n",
      "/var/folders/0n/f4t27bkj4qv8ch75963kg78c0000gn/T/ipykernel_16719/3925809525.py:74: FutureWarning: The pandas.np module is deprecated and will be removed from pandas in a future version. Import numpy directly instead.\n",
      "  'cabin_numbers_min'] = pd.np.NaN\n",
      "/var/folders/0n/f4t27bkj4qv8ch75963kg78c0000gn/T/ipykernel_16719/3925809525.py:78: FutureWarning: The pandas.np module is deprecated and will be removed from pandas in a future version. Import numpy directly instead.\n",
      "  'cabin_numbers_max'] = pd.np.NaN\n"
     ]
    }
   ],
   "source": [
    "self.run()"
   ]
  },
  {
   "cell_type": "code",
   "execution_count": 251,
   "id": "c54f642f",
   "metadata": {},
   "outputs": [],
   "source": [
    "df = self.data"
   ]
  },
  {
   "cell_type": "markdown",
   "id": "995e7f56",
   "metadata": {},
   "source": [
    "## Which features have strong correlation??"
   ]
  },
  {
   "cell_type": "code",
   "execution_count": 252,
   "id": "88dfbf0a",
   "metadata": {
    "scrolled": true
   },
   "outputs": [
    {
     "data": {
      "text/html": [
       "<div>\n",
       "<style scoped>\n",
       "    .dataframe tbody tr th:only-of-type {\n",
       "        vertical-align: middle;\n",
       "    }\n",
       "\n",
       "    .dataframe tbody tr th {\n",
       "        vertical-align: top;\n",
       "    }\n",
       "\n",
       "    .dataframe thead th {\n",
       "        text-align: right;\n",
       "    }\n",
       "</style>\n",
       "<table border=\"1\" class=\"dataframe\">\n",
       "  <thead>\n",
       "    <tr style=\"text-align: right;\">\n",
       "      <th></th>\n",
       "      <th>PassengerId</th>\n",
       "      <th>Survived</th>\n",
       "      <th>Pclass</th>\n",
       "      <th>Age</th>\n",
       "      <th>SibSp</th>\n",
       "      <th>Parch</th>\n",
       "      <th>Fare</th>\n",
       "      <th>Pclass_norm</th>\n",
       "      <th>male</th>\n",
       "      <th>Q</th>\n",
       "      <th>S</th>\n",
       "      <th>family_size</th>\n",
       "      <th>cabin_count</th>\n",
       "      <th>cabin_numbers_min</th>\n",
       "      <th>cabin_numbers_max</th>\n",
       "      <th>cabin_A</th>\n",
       "      <th>cabin_B</th>\n",
       "      <th>cabin_C</th>\n",
       "      <th>cabin_D</th>\n",
       "      <th>cabin_E</th>\n",
       "      <th>cabin_F</th>\n",
       "      <th>cabin_G</th>\n",
       "      <th>cabin_T</th>\n",
       "      <th>ticket_str_length</th>\n",
       "      <th>ticket_is_digit</th>\n",
       "    </tr>\n",
       "  </thead>\n",
       "  <tbody>\n",
       "    <tr>\n",
       "      <th>PassengerId</th>\n",
       "      <td>1.000000</td>\n",
       "      <td>-0.005007</td>\n",
       "      <td>-0.035144</td>\n",
       "      <td>0.034212</td>\n",
       "      <td>-0.057527</td>\n",
       "      <td>-0.001652</td>\n",
       "      <td>0.012658</td>\n",
       "      <td>-0.035144</td>\n",
       "      <td>0.042939</td>\n",
       "      <td>-0.033606</td>\n",
       "      <td>0.022148</td>\n",
       "      <td>-0.040143</td>\n",
       "      <td>-0.011218</td>\n",
       "      <td>0.045866</td>\n",
       "      <td>0.045721</td>\n",
       "      <td>-0.003256</td>\n",
       "      <td>0.069552</td>\n",
       "      <td>-0.040957</td>\n",
       "      <td>0.022828</td>\n",
       "      <td>0.034404</td>\n",
       "      <td>-0.035772</td>\n",
       "      <td>-0.037859</td>\n",
       "      <td>-0.013814</td>\n",
       "      <td>-0.046022</td>\n",
       "      <td>0.072291</td>\n",
       "    </tr>\n",
       "    <tr>\n",
       "      <th>Survived</th>\n",
       "      <td>-0.005007</td>\n",
       "      <td>1.000000</td>\n",
       "      <td>-0.338481</td>\n",
       "      <td>-0.064910</td>\n",
       "      <td>-0.035322</td>\n",
       "      <td>0.081629</td>\n",
       "      <td>0.257307</td>\n",
       "      <td>-0.338481</td>\n",
       "      <td>-0.543351</td>\n",
       "      <td>0.003650</td>\n",
       "      <td>-0.155660</td>\n",
       "      <td>0.016639</td>\n",
       "      <td>-0.034218</td>\n",
       "      <td>-0.051917</td>\n",
       "      <td>-0.051923</td>\n",
       "      <td>0.022287</td>\n",
       "      <td>0.175095</td>\n",
       "      <td>0.114652</td>\n",
       "      <td>0.150716</td>\n",
       "      <td>0.150716</td>\n",
       "      <td>0.057935</td>\n",
       "      <td>-0.017955</td>\n",
       "      <td>-0.026456</td>\n",
       "      <td>-0.055331</td>\n",
       "      <td>0.001492</td>\n",
       "    </tr>\n",
       "    <tr>\n",
       "      <th>Pclass</th>\n",
       "      <td>-0.035144</td>\n",
       "      <td>-0.338481</td>\n",
       "      <td>1.000000</td>\n",
       "      <td>-0.339898</td>\n",
       "      <td>0.083081</td>\n",
       "      <td>0.018443</td>\n",
       "      <td>-0.549500</td>\n",
       "      <td>1.000000</td>\n",
       "      <td>0.131900</td>\n",
       "      <td>0.221009</td>\n",
       "      <td>0.081720</td>\n",
       "      <td>0.065997</td>\n",
       "      <td>0.024595</td>\n",
       "      <td>-0.064728</td>\n",
       "      <td>-0.068436</td>\n",
       "      <td>-0.204934</td>\n",
       "      <td>-0.369572</td>\n",
       "      <td>-0.417048</td>\n",
       "      <td>-0.278690</td>\n",
       "      <td>-0.221793</td>\n",
       "      <td>0.011063</td>\n",
       "      <td>0.073625</td>\n",
       "      <td>-0.052496</td>\n",
       "      <td>0.054098</td>\n",
       "      <td>0.079763</td>\n",
       "    </tr>\n",
       "    <tr>\n",
       "      <th>Age</th>\n",
       "      <td>0.034212</td>\n",
       "      <td>-0.064910</td>\n",
       "      <td>-0.339898</td>\n",
       "      <td>1.000000</td>\n",
       "      <td>-0.233296</td>\n",
       "      <td>-0.172482</td>\n",
       "      <td>0.096688</td>\n",
       "      <td>-0.339898</td>\n",
       "      <td>0.081163</td>\n",
       "      <td>-0.031415</td>\n",
       "      <td>-0.014665</td>\n",
       "      <td>-0.245619</td>\n",
       "      <td>-0.178921</td>\n",
       "      <td>0.033597</td>\n",
       "      <td>0.026732</td>\n",
       "      <td>0.121732</td>\n",
       "      <td>0.096080</td>\n",
       "      <td>0.115188</td>\n",
       "      <td>0.135674</td>\n",
       "      <td>0.118091</td>\n",
       "      <td>-0.076393</td>\n",
       "      <td>-0.059135</td>\n",
       "      <td>0.040285</td>\n",
       "      <td>-0.018548</td>\n",
       "      <td>-0.030025</td>\n",
       "    </tr>\n",
       "    <tr>\n",
       "      <th>SibSp</th>\n",
       "      <td>-0.057527</td>\n",
       "      <td>-0.035322</td>\n",
       "      <td>0.083081</td>\n",
       "      <td>-0.233296</td>\n",
       "      <td>1.000000</td>\n",
       "      <td>0.414838</td>\n",
       "      <td>0.159651</td>\n",
       "      <td>0.083081</td>\n",
       "      <td>-0.114631</td>\n",
       "      <td>-0.026354</td>\n",
       "      <td>0.070941</td>\n",
       "      <td>0.890712</td>\n",
       "      <td>0.401090</td>\n",
       "      <td>-0.043174</td>\n",
       "      <td>-0.028661</td>\n",
       "      <td>-0.046266</td>\n",
       "      <td>-0.034538</td>\n",
       "      <td>0.029251</td>\n",
       "      <td>-0.017575</td>\n",
       "      <td>-0.033751</td>\n",
       "      <td>0.001706</td>\n",
       "      <td>-0.019159</td>\n",
       "      <td>-0.015907</td>\n",
       "      <td>-0.013691</td>\n",
       "      <td>-0.080768</td>\n",
       "    </tr>\n",
       "    <tr>\n",
       "      <th>Parch</th>\n",
       "      <td>-0.001652</td>\n",
       "      <td>0.081629</td>\n",
       "      <td>0.018443</td>\n",
       "      <td>-0.172482</td>\n",
       "      <td>0.414838</td>\n",
       "      <td>1.000000</td>\n",
       "      <td>0.216225</td>\n",
       "      <td>0.018443</td>\n",
       "      <td>-0.245489</td>\n",
       "      <td>-0.081228</td>\n",
       "      <td>0.063036</td>\n",
       "      <td>0.783111</td>\n",
       "      <td>0.493978</td>\n",
       "      <td>-0.098279</td>\n",
       "      <td>-0.080429</td>\n",
       "      <td>-0.040325</td>\n",
       "      <td>0.056498</td>\n",
       "      <td>0.030736</td>\n",
       "      <td>-0.019125</td>\n",
       "      <td>-0.011748</td>\n",
       "      <td>0.023694</td>\n",
       "      <td>0.036749</td>\n",
       "      <td>-0.015878</td>\n",
       "      <td>-0.020454</td>\n",
       "      <td>-0.035762</td>\n",
       "    </tr>\n",
       "    <tr>\n",
       "      <th>Fare</th>\n",
       "      <td>0.012658</td>\n",
       "      <td>0.257307</td>\n",
       "      <td>-0.549500</td>\n",
       "      <td>0.096688</td>\n",
       "      <td>0.159651</td>\n",
       "      <td>0.216225</td>\n",
       "      <td>1.000000</td>\n",
       "      <td>-0.549500</td>\n",
       "      <td>-0.182333</td>\n",
       "      <td>-0.117216</td>\n",
       "      <td>-0.166603</td>\n",
       "      <td>0.217138</td>\n",
       "      <td>0.517653</td>\n",
       "      <td>0.072539</td>\n",
       "      <td>0.091127</td>\n",
       "      <td>0.019549</td>\n",
       "      <td>0.386297</td>\n",
       "      <td>0.364318</td>\n",
       "      <td>0.098878</td>\n",
       "      <td>0.051749</td>\n",
       "      <td>-0.033093</td>\n",
       "      <td>-0.037921</td>\n",
       "      <td>0.002224</td>\n",
       "      <td>-0.016002</td>\n",
       "      <td>-0.173170</td>\n",
       "    </tr>\n",
       "    <tr>\n",
       "      <th>Pclass_norm</th>\n",
       "      <td>-0.035144</td>\n",
       "      <td>-0.338481</td>\n",
       "      <td>1.000000</td>\n",
       "      <td>-0.339898</td>\n",
       "      <td>0.083081</td>\n",
       "      <td>0.018443</td>\n",
       "      <td>-0.549500</td>\n",
       "      <td>1.000000</td>\n",
       "      <td>0.131900</td>\n",
       "      <td>0.221009</td>\n",
       "      <td>0.081720</td>\n",
       "      <td>0.065997</td>\n",
       "      <td>0.024595</td>\n",
       "      <td>-0.064728</td>\n",
       "      <td>-0.068436</td>\n",
       "      <td>-0.204934</td>\n",
       "      <td>-0.369572</td>\n",
       "      <td>-0.417048</td>\n",
       "      <td>-0.278690</td>\n",
       "      <td>-0.221793</td>\n",
       "      <td>0.011063</td>\n",
       "      <td>0.073625</td>\n",
       "      <td>-0.052496</td>\n",
       "      <td>0.054098</td>\n",
       "      <td>0.079763</td>\n",
       "    </tr>\n",
       "    <tr>\n",
       "      <th>male</th>\n",
       "      <td>0.042939</td>\n",
       "      <td>-0.543351</td>\n",
       "      <td>0.131900</td>\n",
       "      <td>0.081163</td>\n",
       "      <td>-0.114631</td>\n",
       "      <td>-0.245489</td>\n",
       "      <td>-0.182333</td>\n",
       "      <td>0.131900</td>\n",
       "      <td>1.000000</td>\n",
       "      <td>-0.074115</td>\n",
       "      <td>0.125722</td>\n",
       "      <td>-0.200988</td>\n",
       "      <td>-0.016150</td>\n",
       "      <td>0.052998</td>\n",
       "      <td>0.050867</td>\n",
       "      <td>0.078271</td>\n",
       "      <td>-0.109689</td>\n",
       "      <td>-0.058649</td>\n",
       "      <td>-0.079248</td>\n",
       "      <td>-0.054368</td>\n",
       "      <td>-0.008202</td>\n",
       "      <td>-0.040796</td>\n",
       "      <td>0.024728</td>\n",
       "      <td>0.080280</td>\n",
       "      <td>-0.032507</td>\n",
       "    </tr>\n",
       "    <tr>\n",
       "      <th>Q</th>\n",
       "      <td>-0.033606</td>\n",
       "      <td>0.003650</td>\n",
       "      <td>0.221009</td>\n",
       "      <td>-0.031415</td>\n",
       "      <td>-0.026354</td>\n",
       "      <td>-0.081228</td>\n",
       "      <td>-0.117216</td>\n",
       "      <td>0.221009</td>\n",
       "      <td>-0.074115</td>\n",
       "      <td>1.000000</td>\n",
       "      <td>-0.496624</td>\n",
       "      <td>-0.058592</td>\n",
       "      <td>-0.046536</td>\n",
       "      <td>0.096191</td>\n",
       "      <td>0.094803</td>\n",
       "      <td>-0.040246</td>\n",
       "      <td>-0.072579</td>\n",
       "      <td>-0.049776</td>\n",
       "      <td>-0.060318</td>\n",
       "      <td>-0.039167</td>\n",
       "      <td>-0.004113</td>\n",
       "      <td>-0.027369</td>\n",
       "      <td>-0.010310</td>\n",
       "      <td>-0.100172</td>\n",
       "      <td>0.172297</td>\n",
       "    </tr>\n",
       "    <tr>\n",
       "      <th>S</th>\n",
       "      <td>0.022148</td>\n",
       "      <td>-0.155660</td>\n",
       "      <td>0.081720</td>\n",
       "      <td>-0.014665</td>\n",
       "      <td>0.070941</td>\n",
       "      <td>0.063036</td>\n",
       "      <td>-0.166603</td>\n",
       "      <td>0.081720</td>\n",
       "      <td>0.125722</td>\n",
       "      <td>-0.496624</td>\n",
       "      <td>1.000000</td>\n",
       "      <td>0.079977</td>\n",
       "      <td>-0.030109</td>\n",
       "      <td>-0.017252</td>\n",
       "      <td>-0.018831</td>\n",
       "      <td>-0.055383</td>\n",
       "      <td>-0.123057</td>\n",
       "      <td>-0.066995</td>\n",
       "      <td>-0.051139</td>\n",
       "      <td>0.028520</td>\n",
       "      <td>0.033537</td>\n",
       "      <td>0.055110</td>\n",
       "      <td>0.020759</td>\n",
       "      <td>0.140223</td>\n",
       "      <td>-0.010083</td>\n",
       "    </tr>\n",
       "    <tr>\n",
       "      <th>family_size</th>\n",
       "      <td>-0.040143</td>\n",
       "      <td>0.016639</td>\n",
       "      <td>0.065997</td>\n",
       "      <td>-0.245619</td>\n",
       "      <td>0.890712</td>\n",
       "      <td>0.783111</td>\n",
       "      <td>0.217138</td>\n",
       "      <td>0.065997</td>\n",
       "      <td>-0.200988</td>\n",
       "      <td>-0.058592</td>\n",
       "      <td>0.079977</td>\n",
       "      <td>1.000000</td>\n",
       "      <td>0.566068</td>\n",
       "      <td>-0.091345</td>\n",
       "      <td>-0.070879</td>\n",
       "      <td>-0.051767</td>\n",
       "      <td>0.004620</td>\n",
       "      <td>0.035347</td>\n",
       "      <td>-0.021566</td>\n",
       "      <td>-0.028937</td>\n",
       "      <td>0.013003</td>\n",
       "      <td>0.005264</td>\n",
       "      <td>-0.018804</td>\n",
       "      <td>-0.019576</td>\n",
       "      <td>-0.073068</td>\n",
       "    </tr>\n",
       "    <tr>\n",
       "      <th>cabin_count</th>\n",
       "      <td>-0.011218</td>\n",
       "      <td>-0.034218</td>\n",
       "      <td>0.024595</td>\n",
       "      <td>-0.178921</td>\n",
       "      <td>0.401090</td>\n",
       "      <td>0.493978</td>\n",
       "      <td>0.517653</td>\n",
       "      <td>0.024595</td>\n",
       "      <td>-0.016150</td>\n",
       "      <td>-0.046536</td>\n",
       "      <td>-0.030109</td>\n",
       "      <td>0.566068</td>\n",
       "      <td>1.000000</td>\n",
       "      <td>0.012216</td>\n",
       "      <td>0.044796</td>\n",
       "      <td>-0.092702</td>\n",
       "      <td>0.210687</td>\n",
       "      <td>0.046250</td>\n",
       "      <td>-0.118272</td>\n",
       "      <td>-0.118272</td>\n",
       "      <td>0.072641</td>\n",
       "      <td>0.097473</td>\n",
       "      <td>-0.023095</td>\n",
       "      <td>0.001860</td>\n",
       "      <td>-0.087749</td>\n",
       "    </tr>\n",
       "    <tr>\n",
       "      <th>cabin_numbers_min</th>\n",
       "      <td>0.045866</td>\n",
       "      <td>-0.051917</td>\n",
       "      <td>-0.064728</td>\n",
       "      <td>0.033597</td>\n",
       "      <td>-0.043174</td>\n",
       "      <td>-0.098279</td>\n",
       "      <td>0.072539</td>\n",
       "      <td>-0.064728</td>\n",
       "      <td>0.052998</td>\n",
       "      <td>0.096191</td>\n",
       "      <td>-0.017252</td>\n",
       "      <td>-0.091345</td>\n",
       "      <td>0.012216</td>\n",
       "      <td>1.000000</td>\n",
       "      <td>0.999389</td>\n",
       "      <td>-0.231522</td>\n",
       "      <td>0.037713</td>\n",
       "      <td>0.465639</td>\n",
       "      <td>-0.285825</td>\n",
       "      <td>0.004294</td>\n",
       "      <td>-0.120739</td>\n",
       "      <td>-0.085728</td>\n",
       "      <td>-0.097447</td>\n",
       "      <td>-0.040831</td>\n",
       "      <td>-0.011531</td>\n",
       "    </tr>\n",
       "    <tr>\n",
       "      <th>cabin_numbers_max</th>\n",
       "      <td>0.045721</td>\n",
       "      <td>-0.051923</td>\n",
       "      <td>-0.068436</td>\n",
       "      <td>0.026732</td>\n",
       "      <td>-0.028661</td>\n",
       "      <td>-0.080429</td>\n",
       "      <td>0.091127</td>\n",
       "      <td>-0.068436</td>\n",
       "      <td>0.050867</td>\n",
       "      <td>0.094803</td>\n",
       "      <td>-0.018831</td>\n",
       "      <td>-0.070879</td>\n",
       "      <td>0.044796</td>\n",
       "      <td>0.999389</td>\n",
       "      <td>1.000000</td>\n",
       "      <td>-0.234339</td>\n",
       "      <td>0.045363</td>\n",
       "      <td>0.468479</td>\n",
       "      <td>-0.289462</td>\n",
       "      <td>-0.000055</td>\n",
       "      <td>-0.123337</td>\n",
       "      <td>-0.087605</td>\n",
       "      <td>-0.098153</td>\n",
       "      <td>-0.039605</td>\n",
       "      <td>-0.015566</td>\n",
       "    </tr>\n",
       "    <tr>\n",
       "      <th>cabin_A</th>\n",
       "      <td>-0.003256</td>\n",
       "      <td>0.022287</td>\n",
       "      <td>-0.204934</td>\n",
       "      <td>0.121732</td>\n",
       "      <td>-0.046266</td>\n",
       "      <td>-0.040325</td>\n",
       "      <td>0.019549</td>\n",
       "      <td>-0.204934</td>\n",
       "      <td>0.078271</td>\n",
       "      <td>-0.040246</td>\n",
       "      <td>-0.055383</td>\n",
       "      <td>-0.051767</td>\n",
       "      <td>-0.092702</td>\n",
       "      <td>-0.231522</td>\n",
       "      <td>-0.234339</td>\n",
       "      <td>1.000000</td>\n",
       "      <td>-0.030880</td>\n",
       "      <td>-0.034846</td>\n",
       "      <td>-0.025663</td>\n",
       "      <td>-0.025663</td>\n",
       "      <td>-0.015923</td>\n",
       "      <td>-0.011644</td>\n",
       "      <td>-0.004386</td>\n",
       "      <td>-0.035807</td>\n",
       "      <td>0.017384</td>\n",
       "    </tr>\n",
       "    <tr>\n",
       "      <th>cabin_B</th>\n",
       "      <td>0.069552</td>\n",
       "      <td>0.175095</td>\n",
       "      <td>-0.369572</td>\n",
       "      <td>0.096080</td>\n",
       "      <td>-0.034538</td>\n",
       "      <td>0.056498</td>\n",
       "      <td>0.386297</td>\n",
       "      <td>-0.369572</td>\n",
       "      <td>-0.109689</td>\n",
       "      <td>-0.072579</td>\n",
       "      <td>-0.123057</td>\n",
       "      <td>0.004620</td>\n",
       "      <td>0.210687</td>\n",
       "      <td>0.037713</td>\n",
       "      <td>0.045363</td>\n",
       "      <td>-0.030880</td>\n",
       "      <td>1.000000</td>\n",
       "      <td>-0.062841</td>\n",
       "      <td>-0.046280</td>\n",
       "      <td>-0.046280</td>\n",
       "      <td>-0.028715</td>\n",
       "      <td>-0.020999</td>\n",
       "      <td>-0.007910</td>\n",
       "      <td>-0.027977</td>\n",
       "      <td>-0.044374</td>\n",
       "    </tr>\n",
       "    <tr>\n",
       "      <th>cabin_C</th>\n",
       "      <td>-0.040957</td>\n",
       "      <td>0.114652</td>\n",
       "      <td>-0.417048</td>\n",
       "      <td>0.115188</td>\n",
       "      <td>0.029251</td>\n",
       "      <td>0.030736</td>\n",
       "      <td>0.364318</td>\n",
       "      <td>-0.417048</td>\n",
       "      <td>-0.058649</td>\n",
       "      <td>-0.049776</td>\n",
       "      <td>-0.066995</td>\n",
       "      <td>0.035347</td>\n",
       "      <td>0.046250</td>\n",
       "      <td>0.465639</td>\n",
       "      <td>0.468479</td>\n",
       "      <td>-0.034846</td>\n",
       "      <td>-0.062841</td>\n",
       "      <td>1.000000</td>\n",
       "      <td>-0.052225</td>\n",
       "      <td>-0.052225</td>\n",
       "      <td>-0.032403</td>\n",
       "      <td>-0.023697</td>\n",
       "      <td>-0.008926</td>\n",
       "      <td>-0.064643</td>\n",
       "      <td>0.002373</td>\n",
       "    </tr>\n",
       "    <tr>\n",
       "      <th>cabin_D</th>\n",
       "      <td>0.022828</td>\n",
       "      <td>0.150716</td>\n",
       "      <td>-0.278690</td>\n",
       "      <td>0.135674</td>\n",
       "      <td>-0.017575</td>\n",
       "      <td>-0.019125</td>\n",
       "      <td>0.098878</td>\n",
       "      <td>-0.278690</td>\n",
       "      <td>-0.079248</td>\n",
       "      <td>-0.060318</td>\n",
       "      <td>-0.051139</td>\n",
       "      <td>-0.021566</td>\n",
       "      <td>-0.118272</td>\n",
       "      <td>-0.285825</td>\n",
       "      <td>-0.289462</td>\n",
       "      <td>-0.025663</td>\n",
       "      <td>-0.046280</td>\n",
       "      <td>-0.052225</td>\n",
       "      <td>1.000000</td>\n",
       "      <td>-0.038462</td>\n",
       "      <td>-0.023864</td>\n",
       "      <td>-0.017452</td>\n",
       "      <td>-0.006574</td>\n",
       "      <td>-0.045001</td>\n",
       "      <td>0.020622</td>\n",
       "    </tr>\n",
       "    <tr>\n",
       "      <th>cabin_E</th>\n",
       "      <td>0.034404</td>\n",
       "      <td>0.150716</td>\n",
       "      <td>-0.221793</td>\n",
       "      <td>0.118091</td>\n",
       "      <td>-0.033751</td>\n",
       "      <td>-0.011748</td>\n",
       "      <td>0.051749</td>\n",
       "      <td>-0.221793</td>\n",
       "      <td>-0.054368</td>\n",
       "      <td>-0.039167</td>\n",
       "      <td>0.028520</td>\n",
       "      <td>-0.028937</td>\n",
       "      <td>-0.118272</td>\n",
       "      <td>0.004294</td>\n",
       "      <td>-0.000055</td>\n",
       "      <td>-0.025663</td>\n",
       "      <td>-0.046280</td>\n",
       "      <td>-0.052225</td>\n",
       "      <td>-0.038462</td>\n",
       "      <td>1.000000</td>\n",
       "      <td>0.025699</td>\n",
       "      <td>-0.017452</td>\n",
       "      <td>-0.006574</td>\n",
       "      <td>-0.012514</td>\n",
       "      <td>-0.006539</td>\n",
       "    </tr>\n",
       "    <tr>\n",
       "      <th>cabin_F</th>\n",
       "      <td>-0.035772</td>\n",
       "      <td>0.057935</td>\n",
       "      <td>0.011063</td>\n",
       "      <td>-0.076393</td>\n",
       "      <td>0.001706</td>\n",
       "      <td>0.023694</td>\n",
       "      <td>-0.033093</td>\n",
       "      <td>0.011063</td>\n",
       "      <td>-0.008202</td>\n",
       "      <td>-0.004113</td>\n",
       "      <td>0.033537</td>\n",
       "      <td>0.013003</td>\n",
       "      <td>0.072641</td>\n",
       "      <td>-0.120739</td>\n",
       "      <td>-0.123337</td>\n",
       "      <td>-0.015923</td>\n",
       "      <td>-0.028715</td>\n",
       "      <td>-0.032403</td>\n",
       "      <td>-0.023864</td>\n",
       "      <td>0.025699</td>\n",
       "      <td>1.000000</td>\n",
       "      <td>0.307229</td>\n",
       "      <td>-0.004079</td>\n",
       "      <td>-0.012829</td>\n",
       "      <td>0.028999</td>\n",
       "    </tr>\n",
       "    <tr>\n",
       "      <th>cabin_G</th>\n",
       "      <td>-0.037859</td>\n",
       "      <td>-0.017955</td>\n",
       "      <td>0.073625</td>\n",
       "      <td>-0.059135</td>\n",
       "      <td>-0.019159</td>\n",
       "      <td>0.036749</td>\n",
       "      <td>-0.037921</td>\n",
       "      <td>0.073625</td>\n",
       "      <td>-0.040796</td>\n",
       "      <td>-0.027369</td>\n",
       "      <td>0.055110</td>\n",
       "      <td>0.005264</td>\n",
       "      <td>0.097473</td>\n",
       "      <td>-0.085728</td>\n",
       "      <td>-0.087605</td>\n",
       "      <td>-0.011644</td>\n",
       "      <td>-0.020999</td>\n",
       "      <td>-0.023697</td>\n",
       "      <td>-0.017452</td>\n",
       "      <td>-0.017452</td>\n",
       "      <td>0.307229</td>\n",
       "      <td>1.000000</td>\n",
       "      <td>-0.002983</td>\n",
       "      <td>-0.015084</td>\n",
       "      <td>-0.005608</td>\n",
       "    </tr>\n",
       "    <tr>\n",
       "      <th>cabin_T</th>\n",
       "      <td>-0.013814</td>\n",
       "      <td>-0.026456</td>\n",
       "      <td>-0.052496</td>\n",
       "      <td>0.040285</td>\n",
       "      <td>-0.015907</td>\n",
       "      <td>-0.015878</td>\n",
       "      <td>0.002224</td>\n",
       "      <td>-0.052496</td>\n",
       "      <td>0.024728</td>\n",
       "      <td>-0.010310</td>\n",
       "      <td>0.020759</td>\n",
       "      <td>-0.018804</td>\n",
       "      <td>-0.023095</td>\n",
       "      <td>-0.097447</td>\n",
       "      <td>-0.098153</td>\n",
       "      <td>-0.004386</td>\n",
       "      <td>-0.007910</td>\n",
       "      <td>-0.008926</td>\n",
       "      <td>-0.006574</td>\n",
       "      <td>-0.006574</td>\n",
       "      <td>-0.004079</td>\n",
       "      <td>-0.002983</td>\n",
       "      <td>1.000000</td>\n",
       "      <td>-0.009172</td>\n",
       "      <td>0.019773</td>\n",
       "    </tr>\n",
       "    <tr>\n",
       "      <th>ticket_str_length</th>\n",
       "      <td>-0.046022</td>\n",
       "      <td>-0.055331</td>\n",
       "      <td>0.054098</td>\n",
       "      <td>-0.018548</td>\n",
       "      <td>-0.013691</td>\n",
       "      <td>-0.020454</td>\n",
       "      <td>-0.016002</td>\n",
       "      <td>0.054098</td>\n",
       "      <td>0.080280</td>\n",
       "      <td>-0.100172</td>\n",
       "      <td>0.140223</td>\n",
       "      <td>-0.019576</td>\n",
       "      <td>0.001860</td>\n",
       "      <td>-0.040831</td>\n",
       "      <td>-0.039605</td>\n",
       "      <td>-0.035807</td>\n",
       "      <td>-0.027977</td>\n",
       "      <td>-0.064643</td>\n",
       "      <td>-0.045001</td>\n",
       "      <td>-0.012514</td>\n",
       "      <td>-0.012829</td>\n",
       "      <td>-0.015084</td>\n",
       "      <td>-0.009172</td>\n",
       "      <td>1.000000</td>\n",
       "      <td>-0.758299</td>\n",
       "    </tr>\n",
       "    <tr>\n",
       "      <th>ticket_is_digit</th>\n",
       "      <td>0.072291</td>\n",
       "      <td>0.001492</td>\n",
       "      <td>0.079763</td>\n",
       "      <td>-0.030025</td>\n",
       "      <td>-0.080768</td>\n",
       "      <td>-0.035762</td>\n",
       "      <td>-0.173170</td>\n",
       "      <td>0.079763</td>\n",
       "      <td>-0.032507</td>\n",
       "      <td>0.172297</td>\n",
       "      <td>-0.010083</td>\n",
       "      <td>-0.073068</td>\n",
       "      <td>-0.087749</td>\n",
       "      <td>-0.011531</td>\n",
       "      <td>-0.015566</td>\n",
       "      <td>0.017384</td>\n",
       "      <td>-0.044374</td>\n",
       "      <td>0.002373</td>\n",
       "      <td>0.020622</td>\n",
       "      <td>-0.006539</td>\n",
       "      <td>0.028999</td>\n",
       "      <td>-0.005608</td>\n",
       "      <td>0.019773</td>\n",
       "      <td>-0.758299</td>\n",
       "      <td>1.000000</td>\n",
       "    </tr>\n",
       "  </tbody>\n",
       "</table>\n",
       "</div>"
      ],
      "text/plain": [
       "                   PassengerId  Survived    Pclass       Age     SibSp  \\\n",
       "PassengerId           1.000000 -0.005007 -0.035144  0.034212 -0.057527   \n",
       "Survived             -0.005007  1.000000 -0.338481 -0.064910 -0.035322   \n",
       "Pclass               -0.035144 -0.338481  1.000000 -0.339898  0.083081   \n",
       "Age                   0.034212 -0.064910 -0.339898  1.000000 -0.233296   \n",
       "SibSp                -0.057527 -0.035322  0.083081 -0.233296  1.000000   \n",
       "Parch                -0.001652  0.081629  0.018443 -0.172482  0.414838   \n",
       "Fare                  0.012658  0.257307 -0.549500  0.096688  0.159651   \n",
       "Pclass_norm          -0.035144 -0.338481  1.000000 -0.339898  0.083081   \n",
       "male                  0.042939 -0.543351  0.131900  0.081163 -0.114631   \n",
       "Q                    -0.033606  0.003650  0.221009 -0.031415 -0.026354   \n",
       "S                     0.022148 -0.155660  0.081720 -0.014665  0.070941   \n",
       "family_size          -0.040143  0.016639  0.065997 -0.245619  0.890712   \n",
       "cabin_count          -0.011218 -0.034218  0.024595 -0.178921  0.401090   \n",
       "cabin_numbers_min     0.045866 -0.051917 -0.064728  0.033597 -0.043174   \n",
       "cabin_numbers_max     0.045721 -0.051923 -0.068436  0.026732 -0.028661   \n",
       "cabin_A              -0.003256  0.022287 -0.204934  0.121732 -0.046266   \n",
       "cabin_B               0.069552  0.175095 -0.369572  0.096080 -0.034538   \n",
       "cabin_C              -0.040957  0.114652 -0.417048  0.115188  0.029251   \n",
       "cabin_D               0.022828  0.150716 -0.278690  0.135674 -0.017575   \n",
       "cabin_E               0.034404  0.150716 -0.221793  0.118091 -0.033751   \n",
       "cabin_F              -0.035772  0.057935  0.011063 -0.076393  0.001706   \n",
       "cabin_G              -0.037859 -0.017955  0.073625 -0.059135 -0.019159   \n",
       "cabin_T              -0.013814 -0.026456 -0.052496  0.040285 -0.015907   \n",
       "ticket_str_length    -0.046022 -0.055331  0.054098 -0.018548 -0.013691   \n",
       "ticket_is_digit       0.072291  0.001492  0.079763 -0.030025 -0.080768   \n",
       "\n",
       "                      Parch      Fare  Pclass_norm      male         Q  \\\n",
       "PassengerId       -0.001652  0.012658    -0.035144  0.042939 -0.033606   \n",
       "Survived           0.081629  0.257307    -0.338481 -0.543351  0.003650   \n",
       "Pclass             0.018443 -0.549500     1.000000  0.131900  0.221009   \n",
       "Age               -0.172482  0.096688    -0.339898  0.081163 -0.031415   \n",
       "SibSp              0.414838  0.159651     0.083081 -0.114631 -0.026354   \n",
       "Parch              1.000000  0.216225     0.018443 -0.245489 -0.081228   \n",
       "Fare               0.216225  1.000000    -0.549500 -0.182333 -0.117216   \n",
       "Pclass_norm        0.018443 -0.549500     1.000000  0.131900  0.221009   \n",
       "male              -0.245489 -0.182333     0.131900  1.000000 -0.074115   \n",
       "Q                 -0.081228 -0.117216     0.221009 -0.074115  1.000000   \n",
       "S                  0.063036 -0.166603     0.081720  0.125722 -0.496624   \n",
       "family_size        0.783111  0.217138     0.065997 -0.200988 -0.058592   \n",
       "cabin_count        0.493978  0.517653     0.024595 -0.016150 -0.046536   \n",
       "cabin_numbers_min -0.098279  0.072539    -0.064728  0.052998  0.096191   \n",
       "cabin_numbers_max -0.080429  0.091127    -0.068436  0.050867  0.094803   \n",
       "cabin_A           -0.040325  0.019549    -0.204934  0.078271 -0.040246   \n",
       "cabin_B            0.056498  0.386297    -0.369572 -0.109689 -0.072579   \n",
       "cabin_C            0.030736  0.364318    -0.417048 -0.058649 -0.049776   \n",
       "cabin_D           -0.019125  0.098878    -0.278690 -0.079248 -0.060318   \n",
       "cabin_E           -0.011748  0.051749    -0.221793 -0.054368 -0.039167   \n",
       "cabin_F            0.023694 -0.033093     0.011063 -0.008202 -0.004113   \n",
       "cabin_G            0.036749 -0.037921     0.073625 -0.040796 -0.027369   \n",
       "cabin_T           -0.015878  0.002224    -0.052496  0.024728 -0.010310   \n",
       "ticket_str_length -0.020454 -0.016002     0.054098  0.080280 -0.100172   \n",
       "ticket_is_digit   -0.035762 -0.173170     0.079763 -0.032507  0.172297   \n",
       "\n",
       "                          S  family_size  cabin_count  cabin_numbers_min  \\\n",
       "PassengerId        0.022148    -0.040143    -0.011218           0.045866   \n",
       "Survived          -0.155660     0.016639    -0.034218          -0.051917   \n",
       "Pclass             0.081720     0.065997     0.024595          -0.064728   \n",
       "Age               -0.014665    -0.245619    -0.178921           0.033597   \n",
       "SibSp              0.070941     0.890712     0.401090          -0.043174   \n",
       "Parch              0.063036     0.783111     0.493978          -0.098279   \n",
       "Fare              -0.166603     0.217138     0.517653           0.072539   \n",
       "Pclass_norm        0.081720     0.065997     0.024595          -0.064728   \n",
       "male               0.125722    -0.200988    -0.016150           0.052998   \n",
       "Q                 -0.496624    -0.058592    -0.046536           0.096191   \n",
       "S                  1.000000     0.079977    -0.030109          -0.017252   \n",
       "family_size        0.079977     1.000000     0.566068          -0.091345   \n",
       "cabin_count       -0.030109     0.566068     1.000000           0.012216   \n",
       "cabin_numbers_min -0.017252    -0.091345     0.012216           1.000000   \n",
       "cabin_numbers_max -0.018831    -0.070879     0.044796           0.999389   \n",
       "cabin_A           -0.055383    -0.051767    -0.092702          -0.231522   \n",
       "cabin_B           -0.123057     0.004620     0.210687           0.037713   \n",
       "cabin_C           -0.066995     0.035347     0.046250           0.465639   \n",
       "cabin_D           -0.051139    -0.021566    -0.118272          -0.285825   \n",
       "cabin_E            0.028520    -0.028937    -0.118272           0.004294   \n",
       "cabin_F            0.033537     0.013003     0.072641          -0.120739   \n",
       "cabin_G            0.055110     0.005264     0.097473          -0.085728   \n",
       "cabin_T            0.020759    -0.018804    -0.023095          -0.097447   \n",
       "ticket_str_length  0.140223    -0.019576     0.001860          -0.040831   \n",
       "ticket_is_digit   -0.010083    -0.073068    -0.087749          -0.011531   \n",
       "\n",
       "                   cabin_numbers_max   cabin_A   cabin_B   cabin_C   cabin_D  \\\n",
       "PassengerId                 0.045721 -0.003256  0.069552 -0.040957  0.022828   \n",
       "Survived                   -0.051923  0.022287  0.175095  0.114652  0.150716   \n",
       "Pclass                     -0.068436 -0.204934 -0.369572 -0.417048 -0.278690   \n",
       "Age                         0.026732  0.121732  0.096080  0.115188  0.135674   \n",
       "SibSp                      -0.028661 -0.046266 -0.034538  0.029251 -0.017575   \n",
       "Parch                      -0.080429 -0.040325  0.056498  0.030736 -0.019125   \n",
       "Fare                        0.091127  0.019549  0.386297  0.364318  0.098878   \n",
       "Pclass_norm                -0.068436 -0.204934 -0.369572 -0.417048 -0.278690   \n",
       "male                        0.050867  0.078271 -0.109689 -0.058649 -0.079248   \n",
       "Q                           0.094803 -0.040246 -0.072579 -0.049776 -0.060318   \n",
       "S                          -0.018831 -0.055383 -0.123057 -0.066995 -0.051139   \n",
       "family_size                -0.070879 -0.051767  0.004620  0.035347 -0.021566   \n",
       "cabin_count                 0.044796 -0.092702  0.210687  0.046250 -0.118272   \n",
       "cabin_numbers_min           0.999389 -0.231522  0.037713  0.465639 -0.285825   \n",
       "cabin_numbers_max           1.000000 -0.234339  0.045363  0.468479 -0.289462   \n",
       "cabin_A                    -0.234339  1.000000 -0.030880 -0.034846 -0.025663   \n",
       "cabin_B                     0.045363 -0.030880  1.000000 -0.062841 -0.046280   \n",
       "cabin_C                     0.468479 -0.034846 -0.062841  1.000000 -0.052225   \n",
       "cabin_D                    -0.289462 -0.025663 -0.046280 -0.052225  1.000000   \n",
       "cabin_E                    -0.000055 -0.025663 -0.046280 -0.052225 -0.038462   \n",
       "cabin_F                    -0.123337 -0.015923 -0.028715 -0.032403 -0.023864   \n",
       "cabin_G                    -0.087605 -0.011644 -0.020999 -0.023697 -0.017452   \n",
       "cabin_T                    -0.098153 -0.004386 -0.007910 -0.008926 -0.006574   \n",
       "ticket_str_length          -0.039605 -0.035807 -0.027977 -0.064643 -0.045001   \n",
       "ticket_is_digit            -0.015566  0.017384 -0.044374  0.002373  0.020622   \n",
       "\n",
       "                    cabin_E   cabin_F   cabin_G   cabin_T  ticket_str_length  \\\n",
       "PassengerId        0.034404 -0.035772 -0.037859 -0.013814          -0.046022   \n",
       "Survived           0.150716  0.057935 -0.017955 -0.026456          -0.055331   \n",
       "Pclass            -0.221793  0.011063  0.073625 -0.052496           0.054098   \n",
       "Age                0.118091 -0.076393 -0.059135  0.040285          -0.018548   \n",
       "SibSp             -0.033751  0.001706 -0.019159 -0.015907          -0.013691   \n",
       "Parch             -0.011748  0.023694  0.036749 -0.015878          -0.020454   \n",
       "Fare               0.051749 -0.033093 -0.037921  0.002224          -0.016002   \n",
       "Pclass_norm       -0.221793  0.011063  0.073625 -0.052496           0.054098   \n",
       "male              -0.054368 -0.008202 -0.040796  0.024728           0.080280   \n",
       "Q                 -0.039167 -0.004113 -0.027369 -0.010310          -0.100172   \n",
       "S                  0.028520  0.033537  0.055110  0.020759           0.140223   \n",
       "family_size       -0.028937  0.013003  0.005264 -0.018804          -0.019576   \n",
       "cabin_count       -0.118272  0.072641  0.097473 -0.023095           0.001860   \n",
       "cabin_numbers_min  0.004294 -0.120739 -0.085728 -0.097447          -0.040831   \n",
       "cabin_numbers_max -0.000055 -0.123337 -0.087605 -0.098153          -0.039605   \n",
       "cabin_A           -0.025663 -0.015923 -0.011644 -0.004386          -0.035807   \n",
       "cabin_B           -0.046280 -0.028715 -0.020999 -0.007910          -0.027977   \n",
       "cabin_C           -0.052225 -0.032403 -0.023697 -0.008926          -0.064643   \n",
       "cabin_D           -0.038462 -0.023864 -0.017452 -0.006574          -0.045001   \n",
       "cabin_E            1.000000  0.025699 -0.017452 -0.006574          -0.012514   \n",
       "cabin_F            0.025699  1.000000  0.307229 -0.004079          -0.012829   \n",
       "cabin_G           -0.017452  0.307229  1.000000 -0.002983          -0.015084   \n",
       "cabin_T           -0.006574 -0.004079 -0.002983  1.000000          -0.009172   \n",
       "ticket_str_length -0.012514 -0.012829 -0.015084 -0.009172           1.000000   \n",
       "ticket_is_digit   -0.006539  0.028999 -0.005608  0.019773          -0.758299   \n",
       "\n",
       "                   ticket_is_digit  \n",
       "PassengerId               0.072291  \n",
       "Survived                  0.001492  \n",
       "Pclass                    0.079763  \n",
       "Age                      -0.030025  \n",
       "SibSp                    -0.080768  \n",
       "Parch                    -0.035762  \n",
       "Fare                     -0.173170  \n",
       "Pclass_norm               0.079763  \n",
       "male                     -0.032507  \n",
       "Q                         0.172297  \n",
       "S                        -0.010083  \n",
       "family_size              -0.073068  \n",
       "cabin_count              -0.087749  \n",
       "cabin_numbers_min        -0.011531  \n",
       "cabin_numbers_max        -0.015566  \n",
       "cabin_A                   0.017384  \n",
       "cabin_B                  -0.044374  \n",
       "cabin_C                   0.002373  \n",
       "cabin_D                   0.020622  \n",
       "cabin_E                  -0.006539  \n",
       "cabin_F                   0.028999  \n",
       "cabin_G                  -0.005608  \n",
       "cabin_T                   0.019773  \n",
       "ticket_str_length        -0.758299  \n",
       "ticket_is_digit           1.000000  "
      ]
     },
     "execution_count": 252,
     "metadata": {},
     "output_type": "execute_result"
    }
   ],
   "source": [
    "corr_matrix = df.corr(method='pearson')  # 'pearson' is default\n",
    "corr_matrix"
   ]
  },
  {
   "cell_type": "code",
   "execution_count": 253,
   "id": "92835101",
   "metadata": {},
   "outputs": [
    {
     "name": "stdout",
     "output_type": "stream",
     "text": [
      "Pclass_norm Pclass 0.9999999999999991\n",
      "family_size SibSp 0.890711671869885\n",
      "family_size Parch 0.7831107750000584\n",
      "cabin_numbers_max cabin_numbers_min 0.9993894774980472\n",
      "ticket_is_digit ticket_str_length -0.7582987568976797\n"
     ]
    }
   ],
   "source": [
    "# Loop over bottom diagonal of correlation matrix\n",
    "for i in range(len(corr_matrix.columns)):\n",
    "    for j in range(i):\n",
    " \n",
    "        # Print variables with high correlation\n",
    "        if abs(corr_matrix.iloc[i, j]) > 0.7:\n",
    "            print(corr_matrix.columns[i], corr_matrix.columns[j], corr_matrix.iloc[i, j])"
   ]
  },
  {
   "cell_type": "markdown",
   "id": "e43bdc46",
   "metadata": {},
   "source": [
    "## Which features can we drop??? "
   ]
  },
  {
   "cell_type": "code",
   "execution_count": 257,
   "id": "3d1f3c45",
   "metadata": {},
   "outputs": [],
   "source": [
    "df = df.drop(['Pclass_norm','family_size','cabin_numbers_min','ticket_is_digit'], axis=1)"
   ]
  },
  {
   "cell_type": "markdown",
   "id": "d07e241f",
   "metadata": {},
   "source": [
    "## What about correlation with tagret variable?? "
   ]
  },
  {
   "cell_type": "code",
   "execution_count": 264,
   "id": "15ef0da0",
   "metadata": {
    "scrolled": true
   },
   "outputs": [
    {
     "data": {
      "text/html": [
       "<div>\n",
       "<style scoped>\n",
       "    .dataframe tbody tr th:only-of-type {\n",
       "        vertical-align: middle;\n",
       "    }\n",
       "\n",
       "    .dataframe tbody tr th {\n",
       "        vertical-align: top;\n",
       "    }\n",
       "\n",
       "    .dataframe thead th {\n",
       "        text-align: right;\n",
       "    }\n",
       "</style>\n",
       "<table border=\"1\" class=\"dataframe\">\n",
       "  <thead>\n",
       "    <tr style=\"text-align: right;\">\n",
       "      <th></th>\n",
       "      <th>Survived</th>\n",
       "      <th>Survived_ABS</th>\n",
       "    </tr>\n",
       "  </thead>\n",
       "  <tbody>\n",
       "    <tr>\n",
       "      <th>Q</th>\n",
       "      <td>0.003650</td>\n",
       "      <td>0.003650</td>\n",
       "    </tr>\n",
       "    <tr>\n",
       "      <th>PassengerId</th>\n",
       "      <td>-0.005007</td>\n",
       "      <td>0.005007</td>\n",
       "    </tr>\n",
       "    <tr>\n",
       "      <th>cabin_G</th>\n",
       "      <td>-0.017955</td>\n",
       "      <td>0.017955</td>\n",
       "    </tr>\n",
       "    <tr>\n",
       "      <th>cabin_A</th>\n",
       "      <td>0.022287</td>\n",
       "      <td>0.022287</td>\n",
       "    </tr>\n",
       "    <tr>\n",
       "      <th>cabin_T</th>\n",
       "      <td>-0.026456</td>\n",
       "      <td>0.026456</td>\n",
       "    </tr>\n",
       "    <tr>\n",
       "      <th>cabin_count</th>\n",
       "      <td>-0.034218</td>\n",
       "      <td>0.034218</td>\n",
       "    </tr>\n",
       "    <tr>\n",
       "      <th>SibSp</th>\n",
       "      <td>-0.035322</td>\n",
       "      <td>0.035322</td>\n",
       "    </tr>\n",
       "    <tr>\n",
       "      <th>cabin_numbers_max</th>\n",
       "      <td>-0.051923</td>\n",
       "      <td>0.051923</td>\n",
       "    </tr>\n",
       "    <tr>\n",
       "      <th>ticket_str_length</th>\n",
       "      <td>-0.055331</td>\n",
       "      <td>0.055331</td>\n",
       "    </tr>\n",
       "    <tr>\n",
       "      <th>cabin_F</th>\n",
       "      <td>0.057935</td>\n",
       "      <td>0.057935</td>\n",
       "    </tr>\n",
       "    <tr>\n",
       "      <th>Age</th>\n",
       "      <td>-0.064910</td>\n",
       "      <td>0.064910</td>\n",
       "    </tr>\n",
       "    <tr>\n",
       "      <th>Parch</th>\n",
       "      <td>0.081629</td>\n",
       "      <td>0.081629</td>\n",
       "    </tr>\n",
       "    <tr>\n",
       "      <th>cabin_C</th>\n",
       "      <td>0.114652</td>\n",
       "      <td>0.114652</td>\n",
       "    </tr>\n",
       "    <tr>\n",
       "      <th>cabin_E</th>\n",
       "      <td>0.150716</td>\n",
       "      <td>0.150716</td>\n",
       "    </tr>\n",
       "    <tr>\n",
       "      <th>cabin_D</th>\n",
       "      <td>0.150716</td>\n",
       "      <td>0.150716</td>\n",
       "    </tr>\n",
       "    <tr>\n",
       "      <th>S</th>\n",
       "      <td>-0.155660</td>\n",
       "      <td>0.155660</td>\n",
       "    </tr>\n",
       "    <tr>\n",
       "      <th>cabin_B</th>\n",
       "      <td>0.175095</td>\n",
       "      <td>0.175095</td>\n",
       "    </tr>\n",
       "    <tr>\n",
       "      <th>Fare</th>\n",
       "      <td>0.257307</td>\n",
       "      <td>0.257307</td>\n",
       "    </tr>\n",
       "    <tr>\n",
       "      <th>Pclass</th>\n",
       "      <td>-0.338481</td>\n",
       "      <td>0.338481</td>\n",
       "    </tr>\n",
       "    <tr>\n",
       "      <th>male</th>\n",
       "      <td>-0.543351</td>\n",
       "      <td>0.543351</td>\n",
       "    </tr>\n",
       "  </tbody>\n",
       "</table>\n",
       "</div>"
      ],
      "text/plain": [
       "                   Survived  Survived_ABS\n",
       "Q                  0.003650      0.003650\n",
       "PassengerId       -0.005007      0.005007\n",
       "cabin_G           -0.017955      0.017955\n",
       "cabin_A            0.022287      0.022287\n",
       "cabin_T           -0.026456      0.026456\n",
       "cabin_count       -0.034218      0.034218\n",
       "SibSp             -0.035322      0.035322\n",
       "cabin_numbers_max -0.051923      0.051923\n",
       "ticket_str_length -0.055331      0.055331\n",
       "cabin_F            0.057935      0.057935\n",
       "Age               -0.064910      0.064910\n",
       "Parch              0.081629      0.081629\n",
       "cabin_C            0.114652      0.114652\n",
       "cabin_E            0.150716      0.150716\n",
       "cabin_D            0.150716      0.150716\n",
       "S                 -0.155660      0.155660\n",
       "cabin_B            0.175095      0.175095\n",
       "Fare               0.257307      0.257307\n",
       "Pclass            -0.338481      0.338481\n",
       "male              -0.543351      0.543351"
      ]
     },
     "execution_count": 264,
     "metadata": {},
     "output_type": "execute_result"
    }
   ],
   "source": [
    "corr_matrix = df.corr()\n",
    " \n",
    "# Isolate the column corresponding to `exam_score`\n",
    "corr_target = corr_matrix[['Survived']].drop(labels=['Survived'])\n",
    "corr_target['Survived_ABS'] = abs(corr_target['Survived'])\n",
    "corr_target = corr_target.sort_values(\"Survived_ABS\")\n",
    "corr_target"
   ]
  },
  {
   "cell_type": "code",
   "execution_count": 266,
   "id": "b73d947b",
   "metadata": {},
   "outputs": [],
   "source": [
    "df = df.drop(['Q','PassengerId'], axis=1)"
   ]
  },
  {
   "cell_type": "code",
   "execution_count": 267,
   "id": "63e6930b",
   "metadata": {
    "scrolled": true
   },
   "outputs": [
    {
     "data": {
      "text/html": [
       "<div>\n",
       "<style scoped>\n",
       "    .dataframe tbody tr th:only-of-type {\n",
       "        vertical-align: middle;\n",
       "    }\n",
       "\n",
       "    .dataframe tbody tr th {\n",
       "        vertical-align: top;\n",
       "    }\n",
       "\n",
       "    .dataframe thead th {\n",
       "        text-align: right;\n",
       "    }\n",
       "</style>\n",
       "<table border=\"1\" class=\"dataframe\">\n",
       "  <thead>\n",
       "    <tr style=\"text-align: right;\">\n",
       "      <th></th>\n",
       "      <th>Survived</th>\n",
       "      <th>Pclass</th>\n",
       "      <th>Name</th>\n",
       "      <th>Sex</th>\n",
       "      <th>Age</th>\n",
       "      <th>SibSp</th>\n",
       "      <th>Parch</th>\n",
       "      <th>Ticket</th>\n",
       "      <th>Fare</th>\n",
       "      <th>Cabin</th>\n",
       "      <th>Embarked</th>\n",
       "      <th>Age_binned</th>\n",
       "      <th>Age_binned_2</th>\n",
       "      <th>fare_bin</th>\n",
       "      <th>fare_binned</th>\n",
       "      <th>fare_binned_2</th>\n",
       "      <th>male</th>\n",
       "      <th>S</th>\n",
       "      <th>cabin_count</th>\n",
       "      <th>cabin_letters</th>\n",
       "      <th>cabin_numbers</th>\n",
       "      <th>cabin_numbers_max</th>\n",
       "      <th>cabin_A</th>\n",
       "      <th>cabin_B</th>\n",
       "      <th>cabin_C</th>\n",
       "      <th>cabin_D</th>\n",
       "      <th>cabin_E</th>\n",
       "      <th>cabin_F</th>\n",
       "      <th>cabin_G</th>\n",
       "      <th>cabin_T</th>\n",
       "      <th>ticket_str_length</th>\n",
       "    </tr>\n",
       "  </thead>\n",
       "  <tbody>\n",
       "    <tr>\n",
       "      <th>0</th>\n",
       "      <td>0</td>\n",
       "      <td>3</td>\n",
       "      <td>Braund, Mr. Owen Harris</td>\n",
       "      <td>male</td>\n",
       "      <td>22.0</td>\n",
       "      <td>1</td>\n",
       "      <td>0</td>\n",
       "      <td>A/5 21171</td>\n",
       "      <td>7.2500</td>\n",
       "      <td>NaN</td>\n",
       "      <td>S</td>\n",
       "      <td>20</td>\n",
       "      <td>(15.0, inf]</td>\n",
       "      <td>(-0.512, 51.233]</td>\n",
       "      <td>4</td>\n",
       "      <td>1</td>\n",
       "      <td>1</td>\n",
       "      <td>1</td>\n",
       "      <td>NaN</td>\n",
       "      <td>NaN</td>\n",
       "      <td>NaN</td>\n",
       "      <td>NaN</td>\n",
       "      <td>0</td>\n",
       "      <td>0</td>\n",
       "      <td>0</td>\n",
       "      <td>0</td>\n",
       "      <td>0</td>\n",
       "      <td>0</td>\n",
       "      <td>0</td>\n",
       "      <td>0</td>\n",
       "      <td>9</td>\n",
       "    </tr>\n",
       "    <tr>\n",
       "      <th>1</th>\n",
       "      <td>1</td>\n",
       "      <td>1</td>\n",
       "      <td>Cumings, Mrs. John Bradley (Florence Briggs Th...</td>\n",
       "      <td>female</td>\n",
       "      <td>38.0</td>\n",
       "      <td>1</td>\n",
       "      <td>0</td>\n",
       "      <td>PC 17599</td>\n",
       "      <td>71.2833</td>\n",
       "      <td>C85</td>\n",
       "      <td>C</td>\n",
       "      <td>35</td>\n",
       "      <td>(15.0, inf]</td>\n",
       "      <td>(51.233, 102.466]</td>\n",
       "      <td>69</td>\n",
       "      <td>2</td>\n",
       "      <td>0</td>\n",
       "      <td>0</td>\n",
       "      <td>1.0</td>\n",
       "      <td>{C}</td>\n",
       "      <td>[85]</td>\n",
       "      <td>85.0</td>\n",
       "      <td>0</td>\n",
       "      <td>0</td>\n",
       "      <td>1</td>\n",
       "      <td>0</td>\n",
       "      <td>0</td>\n",
       "      <td>0</td>\n",
       "      <td>0</td>\n",
       "      <td>0</td>\n",
       "      <td>8</td>\n",
       "    </tr>\n",
       "    <tr>\n",
       "      <th>2</th>\n",
       "      <td>1</td>\n",
       "      <td>3</td>\n",
       "      <td>Heikkinen, Miss. Laina</td>\n",
       "      <td>female</td>\n",
       "      <td>26.0</td>\n",
       "      <td>0</td>\n",
       "      <td>0</td>\n",
       "      <td>STON/O2. 3101282</td>\n",
       "      <td>7.9250</td>\n",
       "      <td>NaN</td>\n",
       "      <td>S</td>\n",
       "      <td>25</td>\n",
       "      <td>(15.0, inf]</td>\n",
       "      <td>(-0.512, 51.233]</td>\n",
       "      <td>4</td>\n",
       "      <td>1</td>\n",
       "      <td>0</td>\n",
       "      <td>1</td>\n",
       "      <td>NaN</td>\n",
       "      <td>NaN</td>\n",
       "      <td>NaN</td>\n",
       "      <td>NaN</td>\n",
       "      <td>0</td>\n",
       "      <td>0</td>\n",
       "      <td>0</td>\n",
       "      <td>0</td>\n",
       "      <td>0</td>\n",
       "      <td>0</td>\n",
       "      <td>0</td>\n",
       "      <td>0</td>\n",
       "      <td>16</td>\n",
       "    </tr>\n",
       "    <tr>\n",
       "      <th>3</th>\n",
       "      <td>1</td>\n",
       "      <td>1</td>\n",
       "      <td>Futrelle, Mrs. Jacques Heath (Lily May Peel)</td>\n",
       "      <td>female</td>\n",
       "      <td>35.0</td>\n",
       "      <td>1</td>\n",
       "      <td>0</td>\n",
       "      <td>113803</td>\n",
       "      <td>53.1000</td>\n",
       "      <td>C123</td>\n",
       "      <td>S</td>\n",
       "      <td>30</td>\n",
       "      <td>(15.0, inf]</td>\n",
       "      <td>(51.233, 102.466]</td>\n",
       "      <td>49</td>\n",
       "      <td>2</td>\n",
       "      <td>0</td>\n",
       "      <td>1</td>\n",
       "      <td>1.0</td>\n",
       "      <td>{C}</td>\n",
       "      <td>[123]</td>\n",
       "      <td>123.0</td>\n",
       "      <td>0</td>\n",
       "      <td>0</td>\n",
       "      <td>1</td>\n",
       "      <td>0</td>\n",
       "      <td>0</td>\n",
       "      <td>0</td>\n",
       "      <td>0</td>\n",
       "      <td>0</td>\n",
       "      <td>6</td>\n",
       "    </tr>\n",
       "    <tr>\n",
       "      <th>4</th>\n",
       "      <td>0</td>\n",
       "      <td>3</td>\n",
       "      <td>Allen, Mr. William Henry</td>\n",
       "      <td>male</td>\n",
       "      <td>35.0</td>\n",
       "      <td>0</td>\n",
       "      <td>0</td>\n",
       "      <td>373450</td>\n",
       "      <td>8.0500</td>\n",
       "      <td>NaN</td>\n",
       "      <td>S</td>\n",
       "      <td>30</td>\n",
       "      <td>(15.0, inf]</td>\n",
       "      <td>(-0.512, 51.233]</td>\n",
       "      <td>4</td>\n",
       "      <td>1</td>\n",
       "      <td>1</td>\n",
       "      <td>1</td>\n",
       "      <td>NaN</td>\n",
       "      <td>NaN</td>\n",
       "      <td>NaN</td>\n",
       "      <td>NaN</td>\n",
       "      <td>0</td>\n",
       "      <td>0</td>\n",
       "      <td>0</td>\n",
       "      <td>0</td>\n",
       "      <td>0</td>\n",
       "      <td>0</td>\n",
       "      <td>0</td>\n",
       "      <td>0</td>\n",
       "      <td>6</td>\n",
       "    </tr>\n",
       "    <tr>\n",
       "      <th>...</th>\n",
       "      <td>...</td>\n",
       "      <td>...</td>\n",
       "      <td>...</td>\n",
       "      <td>...</td>\n",
       "      <td>...</td>\n",
       "      <td>...</td>\n",
       "      <td>...</td>\n",
       "      <td>...</td>\n",
       "      <td>...</td>\n",
       "      <td>...</td>\n",
       "      <td>...</td>\n",
       "      <td>...</td>\n",
       "      <td>...</td>\n",
       "      <td>...</td>\n",
       "      <td>...</td>\n",
       "      <td>...</td>\n",
       "      <td>...</td>\n",
       "      <td>...</td>\n",
       "      <td>...</td>\n",
       "      <td>...</td>\n",
       "      <td>...</td>\n",
       "      <td>...</td>\n",
       "      <td>...</td>\n",
       "      <td>...</td>\n",
       "      <td>...</td>\n",
       "      <td>...</td>\n",
       "      <td>...</td>\n",
       "      <td>...</td>\n",
       "      <td>...</td>\n",
       "      <td>...</td>\n",
       "      <td>...</td>\n",
       "    </tr>\n",
       "    <tr>\n",
       "      <th>886</th>\n",
       "      <td>0</td>\n",
       "      <td>2</td>\n",
       "      <td>Montvila, Rev. Juozas</td>\n",
       "      <td>male</td>\n",
       "      <td>27.0</td>\n",
       "      <td>0</td>\n",
       "      <td>0</td>\n",
       "      <td>211536</td>\n",
       "      <td>13.0000</td>\n",
       "      <td>NaN</td>\n",
       "      <td>S</td>\n",
       "      <td>25</td>\n",
       "      <td>(15.0, inf]</td>\n",
       "      <td>(-0.512, 51.233]</td>\n",
       "      <td>9</td>\n",
       "      <td>1</td>\n",
       "      <td>1</td>\n",
       "      <td>1</td>\n",
       "      <td>NaN</td>\n",
       "      <td>NaN</td>\n",
       "      <td>NaN</td>\n",
       "      <td>NaN</td>\n",
       "      <td>0</td>\n",
       "      <td>0</td>\n",
       "      <td>0</td>\n",
       "      <td>0</td>\n",
       "      <td>0</td>\n",
       "      <td>0</td>\n",
       "      <td>0</td>\n",
       "      <td>0</td>\n",
       "      <td>6</td>\n",
       "    </tr>\n",
       "    <tr>\n",
       "      <th>887</th>\n",
       "      <td>1</td>\n",
       "      <td>1</td>\n",
       "      <td>Graham, Miss. Margaret Edith</td>\n",
       "      <td>female</td>\n",
       "      <td>19.0</td>\n",
       "      <td>0</td>\n",
       "      <td>0</td>\n",
       "      <td>112053</td>\n",
       "      <td>30.0000</td>\n",
       "      <td>B42</td>\n",
       "      <td>S</td>\n",
       "      <td>15</td>\n",
       "      <td>(15.0, inf]</td>\n",
       "      <td>(-0.512, 51.233]</td>\n",
       "      <td>29</td>\n",
       "      <td>1</td>\n",
       "      <td>0</td>\n",
       "      <td>1</td>\n",
       "      <td>1.0</td>\n",
       "      <td>{B}</td>\n",
       "      <td>[42]</td>\n",
       "      <td>42.0</td>\n",
       "      <td>0</td>\n",
       "      <td>1</td>\n",
       "      <td>0</td>\n",
       "      <td>0</td>\n",
       "      <td>0</td>\n",
       "      <td>0</td>\n",
       "      <td>0</td>\n",
       "      <td>0</td>\n",
       "      <td>6</td>\n",
       "    </tr>\n",
       "    <tr>\n",
       "      <th>888</th>\n",
       "      <td>0</td>\n",
       "      <td>3</td>\n",
       "      <td>Johnston, Miss. Catherine Helen \"Carrie\"</td>\n",
       "      <td>female</td>\n",
       "      <td>28.0</td>\n",
       "      <td>1</td>\n",
       "      <td>2</td>\n",
       "      <td>W./C. 6607</td>\n",
       "      <td>23.4500</td>\n",
       "      <td>NaN</td>\n",
       "      <td>S</td>\n",
       "      <td>25</td>\n",
       "      <td>(15.0, inf]</td>\n",
       "      <td>(-0.512, 51.233]</td>\n",
       "      <td>19</td>\n",
       "      <td>1</td>\n",
       "      <td>0</td>\n",
       "      <td>1</td>\n",
       "      <td>NaN</td>\n",
       "      <td>NaN</td>\n",
       "      <td>NaN</td>\n",
       "      <td>NaN</td>\n",
       "      <td>0</td>\n",
       "      <td>0</td>\n",
       "      <td>0</td>\n",
       "      <td>0</td>\n",
       "      <td>0</td>\n",
       "      <td>0</td>\n",
       "      <td>0</td>\n",
       "      <td>0</td>\n",
       "      <td>10</td>\n",
       "    </tr>\n",
       "    <tr>\n",
       "      <th>889</th>\n",
       "      <td>1</td>\n",
       "      <td>1</td>\n",
       "      <td>Behr, Mr. Karl Howell</td>\n",
       "      <td>male</td>\n",
       "      <td>26.0</td>\n",
       "      <td>0</td>\n",
       "      <td>0</td>\n",
       "      <td>111369</td>\n",
       "      <td>30.0000</td>\n",
       "      <td>C148</td>\n",
       "      <td>C</td>\n",
       "      <td>25</td>\n",
       "      <td>(15.0, inf]</td>\n",
       "      <td>(-0.512, 51.233]</td>\n",
       "      <td>29</td>\n",
       "      <td>1</td>\n",
       "      <td>1</td>\n",
       "      <td>0</td>\n",
       "      <td>1.0</td>\n",
       "      <td>{C}</td>\n",
       "      <td>[148]</td>\n",
       "      <td>148.0</td>\n",
       "      <td>0</td>\n",
       "      <td>0</td>\n",
       "      <td>1</td>\n",
       "      <td>0</td>\n",
       "      <td>0</td>\n",
       "      <td>0</td>\n",
       "      <td>0</td>\n",
       "      <td>0</td>\n",
       "      <td>6</td>\n",
       "    </tr>\n",
       "    <tr>\n",
       "      <th>890</th>\n",
       "      <td>0</td>\n",
       "      <td>3</td>\n",
       "      <td>Dooley, Mr. Patrick</td>\n",
       "      <td>male</td>\n",
       "      <td>32.0</td>\n",
       "      <td>0</td>\n",
       "      <td>0</td>\n",
       "      <td>370376</td>\n",
       "      <td>7.7500</td>\n",
       "      <td>NaN</td>\n",
       "      <td>Q</td>\n",
       "      <td>30</td>\n",
       "      <td>(15.0, inf]</td>\n",
       "      <td>(-0.512, 51.233]</td>\n",
       "      <td>4</td>\n",
       "      <td>1</td>\n",
       "      <td>1</td>\n",
       "      <td>0</td>\n",
       "      <td>NaN</td>\n",
       "      <td>NaN</td>\n",
       "      <td>NaN</td>\n",
       "      <td>NaN</td>\n",
       "      <td>0</td>\n",
       "      <td>0</td>\n",
       "      <td>0</td>\n",
       "      <td>0</td>\n",
       "      <td>0</td>\n",
       "      <td>0</td>\n",
       "      <td>0</td>\n",
       "      <td>0</td>\n",
       "      <td>6</td>\n",
       "    </tr>\n",
       "  </tbody>\n",
       "</table>\n",
       "<p>891 rows × 31 columns</p>\n",
       "</div>"
      ],
      "text/plain": [
       "     Survived  Pclass                                               Name  \\\n",
       "0           0       3                            Braund, Mr. Owen Harris   \n",
       "1           1       1  Cumings, Mrs. John Bradley (Florence Briggs Th...   \n",
       "2           1       3                             Heikkinen, Miss. Laina   \n",
       "3           1       1       Futrelle, Mrs. Jacques Heath (Lily May Peel)   \n",
       "4           0       3                           Allen, Mr. William Henry   \n",
       "..        ...     ...                                                ...   \n",
       "886         0       2                              Montvila, Rev. Juozas   \n",
       "887         1       1                       Graham, Miss. Margaret Edith   \n",
       "888         0       3           Johnston, Miss. Catherine Helen \"Carrie\"   \n",
       "889         1       1                              Behr, Mr. Karl Howell   \n",
       "890         0       3                                Dooley, Mr. Patrick   \n",
       "\n",
       "        Sex   Age  SibSp  Parch            Ticket     Fare Cabin Embarked  \\\n",
       "0      male  22.0      1      0         A/5 21171   7.2500   NaN        S   \n",
       "1    female  38.0      1      0          PC 17599  71.2833   C85        C   \n",
       "2    female  26.0      0      0  STON/O2. 3101282   7.9250   NaN        S   \n",
       "3    female  35.0      1      0            113803  53.1000  C123        S   \n",
       "4      male  35.0      0      0            373450   8.0500   NaN        S   \n",
       "..      ...   ...    ...    ...               ...      ...   ...      ...   \n",
       "886    male  27.0      0      0            211536  13.0000   NaN        S   \n",
       "887  female  19.0      0      0            112053  30.0000   B42        S   \n",
       "888  female  28.0      1      2        W./C. 6607  23.4500   NaN        S   \n",
       "889    male  26.0      0      0            111369  30.0000  C148        C   \n",
       "890    male  32.0      0      0            370376   7.7500   NaN        Q   \n",
       "\n",
       "    Age_binned Age_binned_2           fare_bin fare_binned fare_binned_2  \\\n",
       "0           20  (15.0, inf]   (-0.512, 51.233]           4             1   \n",
       "1           35  (15.0, inf]  (51.233, 102.466]          69             2   \n",
       "2           25  (15.0, inf]   (-0.512, 51.233]           4             1   \n",
       "3           30  (15.0, inf]  (51.233, 102.466]          49             2   \n",
       "4           30  (15.0, inf]   (-0.512, 51.233]           4             1   \n",
       "..         ...          ...                ...         ...           ...   \n",
       "886         25  (15.0, inf]   (-0.512, 51.233]           9             1   \n",
       "887         15  (15.0, inf]   (-0.512, 51.233]          29             1   \n",
       "888         25  (15.0, inf]   (-0.512, 51.233]          19             1   \n",
       "889         25  (15.0, inf]   (-0.512, 51.233]          29             1   \n",
       "890         30  (15.0, inf]   (-0.512, 51.233]           4             1   \n",
       "\n",
       "     male  S  cabin_count cabin_letters cabin_numbers  cabin_numbers_max  \\\n",
       "0       1  1          NaN           NaN           NaN                NaN   \n",
       "1       0  0          1.0           {C}          [85]               85.0   \n",
       "2       0  1          NaN           NaN           NaN                NaN   \n",
       "3       0  1          1.0           {C}         [123]              123.0   \n",
       "4       1  1          NaN           NaN           NaN                NaN   \n",
       "..    ... ..          ...           ...           ...                ...   \n",
       "886     1  1          NaN           NaN           NaN                NaN   \n",
       "887     0  1          1.0           {B}          [42]               42.0   \n",
       "888     0  1          NaN           NaN           NaN                NaN   \n",
       "889     1  0          1.0           {C}         [148]              148.0   \n",
       "890     1  0          NaN           NaN           NaN                NaN   \n",
       "\n",
       "     cabin_A  cabin_B  cabin_C  cabin_D  cabin_E  cabin_F  cabin_G  cabin_T  \\\n",
       "0          0        0        0        0        0        0        0        0   \n",
       "1          0        0        1        0        0        0        0        0   \n",
       "2          0        0        0        0        0        0        0        0   \n",
       "3          0        0        1        0        0        0        0        0   \n",
       "4          0        0        0        0        0        0        0        0   \n",
       "..       ...      ...      ...      ...      ...      ...      ...      ...   \n",
       "886        0        0        0        0        0        0        0        0   \n",
       "887        0        1        0        0        0        0        0        0   \n",
       "888        0        0        0        0        0        0        0        0   \n",
       "889        0        0        1        0        0        0        0        0   \n",
       "890        0        0        0        0        0        0        0        0   \n",
       "\n",
       "     ticket_str_length  \n",
       "0                    9  \n",
       "1                    8  \n",
       "2                   16  \n",
       "3                    6  \n",
       "4                    6  \n",
       "..                 ...  \n",
       "886                  6  \n",
       "887                  6  \n",
       "888                 10  \n",
       "889                  6  \n",
       "890                  6  \n",
       "\n",
       "[891 rows x 31 columns]"
      ]
     },
     "execution_count": 267,
     "metadata": {},
     "output_type": "execute_result"
    }
   ],
   "source": [
    "df"
   ]
  },
  {
   "cell_type": "markdown",
   "id": "d9c17487",
   "metadata": {},
   "source": [
    "# What about this mutual info stuff?"
   ]
  },
  {
   "cell_type": "code",
   "execution_count": null,
   "id": "dc05e090",
   "metadata": {},
   "outputs": [],
   "source": [
    "from sklearn.feature_selection import mutual_info_regression \n",
    "print(mutual_info_regression(X_enc, y, random_state=68))"
   ]
  },
  {
   "cell_type": "code",
   "execution_count": null,
   "id": "0fe81946",
   "metadata": {},
   "outputs": [],
   "source": [
    "\n",
    "\n",
    "from sklearn.feature_selection import SelectKBest\n",
    "from functools import partial\n",
    " \n",
    "score_func = partial(mutual_info_regression, discrete_features=[0], random_state=68)\n",
    " \n",
    "# Select top 3 features with the most mutual information\n",
    "selection = SelectKBest(score_func=score_func, k=3)\n",
    " \n",
    "print(selection.fit_transform(X_enc, y))"
   ]
  },
  {
   "cell_type": "code",
   "execution_count": null,
   "id": "0f81bf6b",
   "metadata": {},
   "outputs": [],
   "source": []
  },
  {
   "cell_type": "code",
   "execution_count": null,
   "id": "4f5f174f",
   "metadata": {},
   "outputs": [],
   "source": []
  },
  {
   "cell_type": "code",
   "execution_count": null,
   "id": "4a9f186a",
   "metadata": {},
   "outputs": [],
   "source": []
  },
  {
   "cell_type": "code",
   "execution_count": null,
   "id": "ea1e8436",
   "metadata": {},
   "outputs": [],
   "source": []
  },
  {
   "cell_type": "code",
   "execution_count": 176,
   "id": "9a3bdecd",
   "metadata": {},
   "outputs": [],
   "source": [
    "X = self.df_features\n",
    "y = self.target"
   ]
  },
  {
   "cell_type": "code",
   "execution_count": 177,
   "id": "37658e4f",
   "metadata": {},
   "outputs": [],
   "source": [
    "lr = LogisticRegression(max_iter=1000)"
   ]
  },
  {
   "cell_type": "code",
   "execution_count": 178,
   "id": "54b1b6e3",
   "metadata": {},
   "outputs": [
    {
     "data": {
      "text/html": [
       "<style>#sk-container-id-9 {color: black;background-color: white;}#sk-container-id-9 pre{padding: 0;}#sk-container-id-9 div.sk-toggleable {background-color: white;}#sk-container-id-9 label.sk-toggleable__label {cursor: pointer;display: block;width: 100%;margin-bottom: 0;padding: 0.3em;box-sizing: border-box;text-align: center;}#sk-container-id-9 label.sk-toggleable__label-arrow:before {content: \"▸\";float: left;margin-right: 0.25em;color: #696969;}#sk-container-id-9 label.sk-toggleable__label-arrow:hover:before {color: black;}#sk-container-id-9 div.sk-estimator:hover label.sk-toggleable__label-arrow:before {color: black;}#sk-container-id-9 div.sk-toggleable__content {max-height: 0;max-width: 0;overflow: hidden;text-align: left;background-color: #f0f8ff;}#sk-container-id-9 div.sk-toggleable__content pre {margin: 0.2em;color: black;border-radius: 0.25em;background-color: #f0f8ff;}#sk-container-id-9 input.sk-toggleable__control:checked~div.sk-toggleable__content {max-height: 200px;max-width: 100%;overflow: auto;}#sk-container-id-9 input.sk-toggleable__control:checked~label.sk-toggleable__label-arrow:before {content: \"▾\";}#sk-container-id-9 div.sk-estimator input.sk-toggleable__control:checked~label.sk-toggleable__label {background-color: #d4ebff;}#sk-container-id-9 div.sk-label input.sk-toggleable__control:checked~label.sk-toggleable__label {background-color: #d4ebff;}#sk-container-id-9 input.sk-hidden--visually {border: 0;clip: rect(1px 1px 1px 1px);clip: rect(1px, 1px, 1px, 1px);height: 1px;margin: -1px;overflow: hidden;padding: 0;position: absolute;width: 1px;}#sk-container-id-9 div.sk-estimator {font-family: monospace;background-color: #f0f8ff;border: 1px dotted black;border-radius: 0.25em;box-sizing: border-box;margin-bottom: 0.5em;}#sk-container-id-9 div.sk-estimator:hover {background-color: #d4ebff;}#sk-container-id-9 div.sk-parallel-item::after {content: \"\";width: 100%;border-bottom: 1px solid gray;flex-grow: 1;}#sk-container-id-9 div.sk-label:hover label.sk-toggleable__label {background-color: #d4ebff;}#sk-container-id-9 div.sk-serial::before {content: \"\";position: absolute;border-left: 1px solid gray;box-sizing: border-box;top: 0;bottom: 0;left: 50%;z-index: 0;}#sk-container-id-9 div.sk-serial {display: flex;flex-direction: column;align-items: center;background-color: white;padding-right: 0.2em;padding-left: 0.2em;position: relative;}#sk-container-id-9 div.sk-item {position: relative;z-index: 1;}#sk-container-id-9 div.sk-parallel {display: flex;align-items: stretch;justify-content: center;background-color: white;position: relative;}#sk-container-id-9 div.sk-item::before, #sk-container-id-9 div.sk-parallel-item::before {content: \"\";position: absolute;border-left: 1px solid gray;box-sizing: border-box;top: 0;bottom: 0;left: 50%;z-index: -1;}#sk-container-id-9 div.sk-parallel-item {display: flex;flex-direction: column;z-index: 1;position: relative;background-color: white;}#sk-container-id-9 div.sk-parallel-item:first-child::after {align-self: flex-end;width: 50%;}#sk-container-id-9 div.sk-parallel-item:last-child::after {align-self: flex-start;width: 50%;}#sk-container-id-9 div.sk-parallel-item:only-child::after {width: 0;}#sk-container-id-9 div.sk-dashed-wrapped {border: 1px dashed gray;margin: 0 0.4em 0.5em 0.4em;box-sizing: border-box;padding-bottom: 0.4em;background-color: white;}#sk-container-id-9 div.sk-label label {font-family: monospace;font-weight: bold;display: inline-block;line-height: 1.2em;}#sk-container-id-9 div.sk-label-container {text-align: center;}#sk-container-id-9 div.sk-container {/* jupyter's `normalize.less` sets `[hidden] { display: none; }` but bootstrap.min.css set `[hidden] { display: none !important; }` so we also need the `!important` here to be able to override the default hidden behavior on the sphinx rendered scikit-learn.org. See: https://github.com/scikit-learn/scikit-learn/issues/21755 */display: inline-block !important;position: relative;}#sk-container-id-9 div.sk-text-repr-fallback {display: none;}</style><div id=\"sk-container-id-9\" class=\"sk-top-container\"><div class=\"sk-text-repr-fallback\"><pre>LogisticRegression(max_iter=1000)</pre><b>In a Jupyter environment, please rerun this cell to show the HTML representation or trust the notebook. <br />On GitHub, the HTML representation is unable to render, please try loading this page with nbviewer.org.</b></div><div class=\"sk-container\" hidden><div class=\"sk-item\"><div class=\"sk-estimator sk-toggleable\"><input class=\"sk-toggleable__control sk-hidden--visually\" id=\"sk-estimator-id-19\" type=\"checkbox\" checked><label for=\"sk-estimator-id-19\" class=\"sk-toggleable__label sk-toggleable__label-arrow\">LogisticRegression</label><div class=\"sk-toggleable__content\"><pre>LogisticRegression(max_iter=1000)</pre></div></div></div></div></div>"
      ],
      "text/plain": [
       "LogisticRegression(max_iter=1000)"
      ]
     },
     "execution_count": 178,
     "metadata": {},
     "output_type": "execute_result"
    }
   ],
   "source": [
    "lr.fit(X, y)"
   ]
  },
  {
   "cell_type": "code",
   "execution_count": 179,
   "id": "2c20971d",
   "metadata": {},
   "outputs": [
    {
     "data": {
      "text/plain": [
       "0.8181818181818182"
      ]
     },
     "execution_count": 179,
     "metadata": {},
     "output_type": "execute_result"
    }
   ],
   "source": [
    "INITIAL_SCORE = lr.score(X, y)\n",
    "INITIAL_SCORE"
   ]
  },
  {
   "cell_type": "code",
   "execution_count": 208,
   "id": "65a74e31",
   "metadata": {},
   "outputs": [
    {
     "data": {
      "text/plain": [
       "(891, 8)"
      ]
     },
     "execution_count": 208,
     "metadata": {},
     "output_type": "execute_result"
    }
   ],
   "source": [
    "X.shape"
   ]
  },
  {
   "cell_type": "code",
   "execution_count": 209,
   "id": "1aa4ff3f",
   "metadata": {},
   "outputs": [
    {
     "data": {
      "text/html": [
       "<style>#sk-container-id-10 {color: black;background-color: white;}#sk-container-id-10 pre{padding: 0;}#sk-container-id-10 div.sk-toggleable {background-color: white;}#sk-container-id-10 label.sk-toggleable__label {cursor: pointer;display: block;width: 100%;margin-bottom: 0;padding: 0.3em;box-sizing: border-box;text-align: center;}#sk-container-id-10 label.sk-toggleable__label-arrow:before {content: \"▸\";float: left;margin-right: 0.25em;color: #696969;}#sk-container-id-10 label.sk-toggleable__label-arrow:hover:before {color: black;}#sk-container-id-10 div.sk-estimator:hover label.sk-toggleable__label-arrow:before {color: black;}#sk-container-id-10 div.sk-toggleable__content {max-height: 0;max-width: 0;overflow: hidden;text-align: left;background-color: #f0f8ff;}#sk-container-id-10 div.sk-toggleable__content pre {margin: 0.2em;color: black;border-radius: 0.25em;background-color: #f0f8ff;}#sk-container-id-10 input.sk-toggleable__control:checked~div.sk-toggleable__content {max-height: 200px;max-width: 100%;overflow: auto;}#sk-container-id-10 input.sk-toggleable__control:checked~label.sk-toggleable__label-arrow:before {content: \"▾\";}#sk-container-id-10 div.sk-estimator input.sk-toggleable__control:checked~label.sk-toggleable__label {background-color: #d4ebff;}#sk-container-id-10 div.sk-label input.sk-toggleable__control:checked~label.sk-toggleable__label {background-color: #d4ebff;}#sk-container-id-10 input.sk-hidden--visually {border: 0;clip: rect(1px 1px 1px 1px);clip: rect(1px, 1px, 1px, 1px);height: 1px;margin: -1px;overflow: hidden;padding: 0;position: absolute;width: 1px;}#sk-container-id-10 div.sk-estimator {font-family: monospace;background-color: #f0f8ff;border: 1px dotted black;border-radius: 0.25em;box-sizing: border-box;margin-bottom: 0.5em;}#sk-container-id-10 div.sk-estimator:hover {background-color: #d4ebff;}#sk-container-id-10 div.sk-parallel-item::after {content: \"\";width: 100%;border-bottom: 1px solid gray;flex-grow: 1;}#sk-container-id-10 div.sk-label:hover label.sk-toggleable__label {background-color: #d4ebff;}#sk-container-id-10 div.sk-serial::before {content: \"\";position: absolute;border-left: 1px solid gray;box-sizing: border-box;top: 0;bottom: 0;left: 50%;z-index: 0;}#sk-container-id-10 div.sk-serial {display: flex;flex-direction: column;align-items: center;background-color: white;padding-right: 0.2em;padding-left: 0.2em;position: relative;}#sk-container-id-10 div.sk-item {position: relative;z-index: 1;}#sk-container-id-10 div.sk-parallel {display: flex;align-items: stretch;justify-content: center;background-color: white;position: relative;}#sk-container-id-10 div.sk-item::before, #sk-container-id-10 div.sk-parallel-item::before {content: \"\";position: absolute;border-left: 1px solid gray;box-sizing: border-box;top: 0;bottom: 0;left: 50%;z-index: -1;}#sk-container-id-10 div.sk-parallel-item {display: flex;flex-direction: column;z-index: 1;position: relative;background-color: white;}#sk-container-id-10 div.sk-parallel-item:first-child::after {align-self: flex-end;width: 50%;}#sk-container-id-10 div.sk-parallel-item:last-child::after {align-self: flex-start;width: 50%;}#sk-container-id-10 div.sk-parallel-item:only-child::after {width: 0;}#sk-container-id-10 div.sk-dashed-wrapped {border: 1px dashed gray;margin: 0 0.4em 0.5em 0.4em;box-sizing: border-box;padding-bottom: 0.4em;background-color: white;}#sk-container-id-10 div.sk-label label {font-family: monospace;font-weight: bold;display: inline-block;line-height: 1.2em;}#sk-container-id-10 div.sk-label-container {text-align: center;}#sk-container-id-10 div.sk-container {/* jupyter's `normalize.less` sets `[hidden] { display: none; }` but bootstrap.min.css set `[hidden] { display: none !important; }` so we also need the `!important` here to be able to override the default hidden behavior on the sphinx rendered scikit-learn.org. See: https://github.com/scikit-learn/scikit-learn/issues/21755 */display: inline-block !important;position: relative;}#sk-container-id-10 div.sk-text-repr-fallback {display: none;}</style><div id=\"sk-container-id-10\" class=\"sk-top-container\"><div class=\"sk-text-repr-fallback\"><pre>SequentialFeatureSelector(cv=0, estimator=LogisticRegression(max_iter=1000),\n",
       "                          floating=True, k_features=8, scoring=&#x27;accuracy&#x27;)</pre><b>In a Jupyter environment, please rerun this cell to show the HTML representation or trust the notebook. <br />On GitHub, the HTML representation is unable to render, please try loading this page with nbviewer.org.</b></div><div class=\"sk-container\" hidden><div class=\"sk-item sk-dashed-wrapped\"><div class=\"sk-label-container\"><div class=\"sk-label sk-toggleable\"><input class=\"sk-toggleable__control sk-hidden--visually\" id=\"sk-estimator-id-20\" type=\"checkbox\" ><label for=\"sk-estimator-id-20\" class=\"sk-toggleable__label sk-toggleable__label-arrow\">SequentialFeatureSelector</label><div class=\"sk-toggleable__content\"><pre>SequentialFeatureSelector(cv=0, estimator=LogisticRegression(max_iter=1000),\n",
       "                          floating=True, k_features=8, scoring=&#x27;accuracy&#x27;)</pre></div></div></div><div class=\"sk-parallel\"><div class=\"sk-parallel-item\"><div class=\"sk-item\"><div class=\"sk-label-container\"><div class=\"sk-label sk-toggleable\"><input class=\"sk-toggleable__control sk-hidden--visually\" id=\"sk-estimator-id-21\" type=\"checkbox\" ><label for=\"sk-estimator-id-21\" class=\"sk-toggleable__label sk-toggleable__label-arrow\">estimator: LogisticRegression</label><div class=\"sk-toggleable__content\"><pre>LogisticRegression(max_iter=1000)</pre></div></div></div><div class=\"sk-serial\"><div class=\"sk-item\"><div class=\"sk-estimator sk-toggleable\"><input class=\"sk-toggleable__control sk-hidden--visually\" id=\"sk-estimator-id-22\" type=\"checkbox\" ><label for=\"sk-estimator-id-22\" class=\"sk-toggleable__label sk-toggleable__label-arrow\">LogisticRegression</label><div class=\"sk-toggleable__content\"><pre>LogisticRegression(max_iter=1000)</pre></div></div></div></div></div></div></div></div></div></div>"
      ],
      "text/plain": [
       "SequentialFeatureSelector(cv=0, estimator=LogisticRegression(max_iter=1000),\n",
       "                          floating=True, k_features=8, scoring='accuracy')"
      ]
     },
     "execution_count": 209,
     "metadata": {},
     "output_type": "execute_result"
    }
   ],
   "source": [
    "# Set up SFS parameters\n",
    "sffs = SFS(estimator=lr,\n",
    "           k_features=8, # number of features to select\n",
    "           forward=True,\n",
    "           floating=True,\n",
    "           scoring='accuracy',\n",
    "           cv=0)\n",
    "\n",
    "sffs.fit(X, y)"
   ]
  },
  {
   "cell_type": "code",
   "execution_count": 211,
   "id": "79f76a15",
   "metadata": {},
   "outputs": [
    {
     "name": "stderr",
     "output_type": "stream",
     "text": [
      "/Users/amlvt225/anaconda3/envs/data_science_env/lib/python3.10/site-packages/numpy/core/_methods.py:265: RuntimeWarning: Degrees of freedom <= 0 for slice\n",
      "  ret = _var(a, axis=axis, dtype=dtype, out=out, ddof=ddof,\n",
      "/Users/amlvt225/anaconda3/envs/data_science_env/lib/python3.10/site-packages/numpy/core/_methods.py:257: RuntimeWarning: invalid value encountered in double_scalars\n",
      "  ret = ret.dtype.type(ret / rcount)\n"
     ]
    },
    {
     "data": {
      "image/png": "[encoded data removed]",
      "text/plain": [
       "<Figure size 432x288 with 1 Axes>"
      ]
     },
     "metadata": {
      "needs_background": "light"
     },
     "output_type": "display_data"
    }
   ],
   "source": [
    "# Plot the accuracy of the model as a function of the number of features\n",
    "plot_sfs(sffs.get_metric_dict())\n",
    "plt.show()"
   ]
  },
  {
   "cell_type": "code",
   "execution_count": 212,
   "id": "b29047f7",
   "metadata": {},
   "outputs": [
    {
     "data": {
      "text/plain": [
       "0.8181818181818182"
      ]
     },
     "execution_count": 212,
     "metadata": {},
     "output_type": "execute_result"
    }
   ],
   "source": [
    "sffs.subsets_[8]['avg_score']"
   ]
  },
  {
   "cell_type": "markdown",
   "id": "d307fe3c",
   "metadata": {},
   "source": [
    "## What about backwards?"
   ]
  },
  {
   "cell_type": "code",
   "execution_count": 213,
   "id": "412961c1",
   "metadata": {},
   "outputs": [
    {
     "data": {
      "text/html": [
       "<style>#sk-container-id-11 {color: black;background-color: white;}#sk-container-id-11 pre{padding: 0;}#sk-container-id-11 div.sk-toggleable {background-color: white;}#sk-container-id-11 label.sk-toggleable__label {cursor: pointer;display: block;width: 100%;margin-bottom: 0;padding: 0.3em;box-sizing: border-box;text-align: center;}#sk-container-id-11 label.sk-toggleable__label-arrow:before {content: \"▸\";float: left;margin-right: 0.25em;color: #696969;}#sk-container-id-11 label.sk-toggleable__label-arrow:hover:before {color: black;}#sk-container-id-11 div.sk-estimator:hover label.sk-toggleable__label-arrow:before {color: black;}#sk-container-id-11 div.sk-toggleable__content {max-height: 0;max-width: 0;overflow: hidden;text-align: left;background-color: #f0f8ff;}#sk-container-id-11 div.sk-toggleable__content pre {margin: 0.2em;color: black;border-radius: 0.25em;background-color: #f0f8ff;}#sk-container-id-11 input.sk-toggleable__control:checked~div.sk-toggleable__content {max-height: 200px;max-width: 100%;overflow: auto;}#sk-container-id-11 input.sk-toggleable__control:checked~label.sk-toggleable__label-arrow:before {content: \"▾\";}#sk-container-id-11 div.sk-estimator input.sk-toggleable__control:checked~label.sk-toggleable__label {background-color: #d4ebff;}#sk-container-id-11 div.sk-label input.sk-toggleable__control:checked~label.sk-toggleable__label {background-color: #d4ebff;}#sk-container-id-11 input.sk-hidden--visually {border: 0;clip: rect(1px 1px 1px 1px);clip: rect(1px, 1px, 1px, 1px);height: 1px;margin: -1px;overflow: hidden;padding: 0;position: absolute;width: 1px;}#sk-container-id-11 div.sk-estimator {font-family: monospace;background-color: #f0f8ff;border: 1px dotted black;border-radius: 0.25em;box-sizing: border-box;margin-bottom: 0.5em;}#sk-container-id-11 div.sk-estimator:hover {background-color: #d4ebff;}#sk-container-id-11 div.sk-parallel-item::after {content: \"\";width: 100%;border-bottom: 1px solid gray;flex-grow: 1;}#sk-container-id-11 div.sk-label:hover label.sk-toggleable__label {background-color: #d4ebff;}#sk-container-id-11 div.sk-serial::before {content: \"\";position: absolute;border-left: 1px solid gray;box-sizing: border-box;top: 0;bottom: 0;left: 50%;z-index: 0;}#sk-container-id-11 div.sk-serial {display: flex;flex-direction: column;align-items: center;background-color: white;padding-right: 0.2em;padding-left: 0.2em;position: relative;}#sk-container-id-11 div.sk-item {position: relative;z-index: 1;}#sk-container-id-11 div.sk-parallel {display: flex;align-items: stretch;justify-content: center;background-color: white;position: relative;}#sk-container-id-11 div.sk-item::before, #sk-container-id-11 div.sk-parallel-item::before {content: \"\";position: absolute;border-left: 1px solid gray;box-sizing: border-box;top: 0;bottom: 0;left: 50%;z-index: -1;}#sk-container-id-11 div.sk-parallel-item {display: flex;flex-direction: column;z-index: 1;position: relative;background-color: white;}#sk-container-id-11 div.sk-parallel-item:first-child::after {align-self: flex-end;width: 50%;}#sk-container-id-11 div.sk-parallel-item:last-child::after {align-self: flex-start;width: 50%;}#sk-container-id-11 div.sk-parallel-item:only-child::after {width: 0;}#sk-container-id-11 div.sk-dashed-wrapped {border: 1px dashed gray;margin: 0 0.4em 0.5em 0.4em;box-sizing: border-box;padding-bottom: 0.4em;background-color: white;}#sk-container-id-11 div.sk-label label {font-family: monospace;font-weight: bold;display: inline-block;line-height: 1.2em;}#sk-container-id-11 div.sk-label-container {text-align: center;}#sk-container-id-11 div.sk-container {/* jupyter's `normalize.less` sets `[hidden] { display: none; }` but bootstrap.min.css set `[hidden] { display: none !important; }` so we also need the `!important` here to be able to override the default hidden behavior on the sphinx rendered scikit-learn.org. See: https://github.com/scikit-learn/scikit-learn/issues/21755 */display: inline-block !important;position: relative;}#sk-container-id-11 div.sk-text-repr-fallback {display: none;}</style><div id=\"sk-container-id-11\" class=\"sk-top-container\"><div class=\"sk-text-repr-fallback\"><pre>SequentialFeatureSelector(cv=0, estimator=LogisticRegression(max_iter=1000),\n",
       "                          floating=True, forward=False, k_features=3,\n",
       "                          scoring=&#x27;accuracy&#x27;)</pre><b>In a Jupyter environment, please rerun this cell to show the HTML representation or trust the notebook. <br />On GitHub, the HTML representation is unable to render, please try loading this page with nbviewer.org.</b></div><div class=\"sk-container\" hidden><div class=\"sk-item sk-dashed-wrapped\"><div class=\"sk-label-container\"><div class=\"sk-label sk-toggleable\"><input class=\"sk-toggleable__control sk-hidden--visually\" id=\"sk-estimator-id-23\" type=\"checkbox\" ><label for=\"sk-estimator-id-23\" class=\"sk-toggleable__label sk-toggleable__label-arrow\">SequentialFeatureSelector</label><div class=\"sk-toggleable__content\"><pre>SequentialFeatureSelector(cv=0, estimator=LogisticRegression(max_iter=1000),\n",
       "                          floating=True, forward=False, k_features=3,\n",
       "                          scoring=&#x27;accuracy&#x27;)</pre></div></div></div><div class=\"sk-parallel\"><div class=\"sk-parallel-item\"><div class=\"sk-item\"><div class=\"sk-label-container\"><div class=\"sk-label sk-toggleable\"><input class=\"sk-toggleable__control sk-hidden--visually\" id=\"sk-estimator-id-24\" type=\"checkbox\" ><label for=\"sk-estimator-id-24\" class=\"sk-toggleable__label sk-toggleable__label-arrow\">estimator: LogisticRegression</label><div class=\"sk-toggleable__content\"><pre>LogisticRegression(max_iter=1000)</pre></div></div></div><div class=\"sk-serial\"><div class=\"sk-item\"><div class=\"sk-estimator sk-toggleable\"><input class=\"sk-toggleable__control sk-hidden--visually\" id=\"sk-estimator-id-25\" type=\"checkbox\" ><label for=\"sk-estimator-id-25\" class=\"sk-toggleable__label sk-toggleable__label-arrow\">LogisticRegression</label><div class=\"sk-toggleable__content\"><pre>LogisticRegression(max_iter=1000)</pre></div></div></div></div></div></div></div></div></div></div>"
      ],
      "text/plain": [
       "SequentialFeatureSelector(cv=0, estimator=LogisticRegression(max_iter=1000),\n",
       "                          floating=True, forward=False, k_features=3,\n",
       "                          scoring='accuracy')"
      ]
     },
     "execution_count": 213,
     "metadata": {},
     "output_type": "execute_result"
    }
   ],
   "source": [
    "# Set up SFS parameters\n",
    "sfbs = SFS(estimator=lr,\n",
    "           k_features=3, # number of features to select\n",
    "           forward=False,\n",
    "           floating=True,\n",
    "           scoring='accuracy',\n",
    "           cv=0)\n",
    "\n",
    "sfbs.fit(X, y)"
   ]
  },
  {
   "cell_type": "code",
   "execution_count": 214,
   "id": "596c8731",
   "metadata": {},
   "outputs": [
    {
     "name": "stderr",
     "output_type": "stream",
     "text": [
      "/Users/amlvt225/anaconda3/envs/data_science_env/lib/python3.10/site-packages/numpy/core/_methods.py:265: RuntimeWarning: Degrees of freedom <= 0 for slice\n",
      "  ret = _var(a, axis=axis, dtype=dtype, out=out, ddof=ddof,\n",
      "/Users/amlvt225/anaconda3/envs/data_science_env/lib/python3.10/site-packages/numpy/core/_methods.py:257: RuntimeWarning: invalid value encountered in double_scalars\n",
      "  ret = ret.dtype.type(ret / rcount)\n"
     ]
    },
    {
     "data": {
      "image/png": "[encoded data removed]",
      "text/plain": [
       "<Figure size 432x288 with 1 Axes>"
      ]
     },
     "metadata": {
      "needs_background": "light"
     },
     "output_type": "display_data"
    }
   ],
   "source": [
    "# Plot the accuracy of the model as a function of the number of features\n",
    "plot_sfs(sfbs.get_metric_dict())\n",
    "plt.show()"
   ]
  },
  {
   "cell_type": "code",
   "execution_count": 216,
   "id": "b3581b97",
   "metadata": {},
   "outputs": [
    {
     "data": {
      "text/plain": [
       "0.8181818181818182"
      ]
     },
     "execution_count": 216,
     "metadata": {},
     "output_type": "execute_result"
    }
   ],
   "source": [
    "sfbs.get_metric_dict()[8]['avg_score']"
   ]
  },
  {
   "cell_type": "code",
   "execution_count": 215,
   "id": "8f8365a5",
   "metadata": {},
   "outputs": [
    {
     "data": {
      "text/plain": [
       "('Pclass',\n",
       " 'Age',\n",
       " 'SibSp',\n",
       " 'male',\n",
       " 'family_size',\n",
       " 'cabin_B',\n",
       " 'cabin_E',\n",
       " 'cabin_F')"
      ]
     },
     "execution_count": 215,
     "metadata": {},
     "output_type": "execute_result"
    }
   ],
   "source": [
    "sfbs.get_metric_dict()[8]['feature_names']"
   ]
  },
  {
   "cell_type": "code",
   "execution_count": 141,
   "id": "a0d5e368",
   "metadata": {},
   "outputs": [],
   "source": [
    "X_best = X[list(sfbs.get_metric_dict()[8]['feature_names'])]"
   ]
  },
  {
   "cell_type": "code",
   "execution_count": 166,
   "id": "5a755486",
   "metadata": {},
   "outputs": [
    {
     "data": {
      "text/plain": [
       "['Pclass',\n",
       " 'Age',\n",
       " 'SibSp',\n",
       " 'male',\n",
       " 'family_size',\n",
       " 'cabin_B',\n",
       " 'cabin_E',\n",
       " 'cabin_F']"
      ]
     },
     "execution_count": 166,
     "metadata": {},
     "output_type": "execute_result"
    }
   ],
   "source": [
    "X_best.columns.tolist()"
   ]
  },
  {
   "cell_type": "code",
   "execution_count": 143,
   "id": "b9e13435",
   "metadata": {},
   "outputs": [
    {
     "data": {
      "text/html": [
       "<style>#sk-container-id-8 {color: black;background-color: white;}#sk-container-id-8 pre{padding: 0;}#sk-container-id-8 div.sk-toggleable {background-color: white;}#sk-container-id-8 label.sk-toggleable__label {cursor: pointer;display: block;width: 100%;margin-bottom: 0;padding: 0.3em;box-sizing: border-box;text-align: center;}#sk-container-id-8 label.sk-toggleable__label-arrow:before {content: \"▸\";float: left;margin-right: 0.25em;color: #696969;}#sk-container-id-8 label.sk-toggleable__label-arrow:hover:before {color: black;}#sk-container-id-8 div.sk-estimator:hover label.sk-toggleable__label-arrow:before {color: black;}#sk-container-id-8 div.sk-toggleable__content {max-height: 0;max-width: 0;overflow: hidden;text-align: left;background-color: #f0f8ff;}#sk-container-id-8 div.sk-toggleable__content pre {margin: 0.2em;color: black;border-radius: 0.25em;background-color: #f0f8ff;}#sk-container-id-8 input.sk-toggleable__control:checked~div.sk-toggleable__content {max-height: 200px;max-width: 100%;overflow: auto;}#sk-container-id-8 input.sk-toggleable__control:checked~label.sk-toggleable__label-arrow:before {content: \"▾\";}#sk-container-id-8 div.sk-estimator input.sk-toggleable__control:checked~label.sk-toggleable__label {background-color: #d4ebff;}#sk-container-id-8 div.sk-label input.sk-toggleable__control:checked~label.sk-toggleable__label {background-color: #d4ebff;}#sk-container-id-8 input.sk-hidden--visually {border: 0;clip: rect(1px 1px 1px 1px);clip: rect(1px, 1px, 1px, 1px);height: 1px;margin: -1px;overflow: hidden;padding: 0;position: absolute;width: 1px;}#sk-container-id-8 div.sk-estimator {font-family: monospace;background-color: #f0f8ff;border: 1px dotted black;border-radius: 0.25em;box-sizing: border-box;margin-bottom: 0.5em;}#sk-container-id-8 div.sk-estimator:hover {background-color: #d4ebff;}#sk-container-id-8 div.sk-parallel-item::after {content: \"\";width: 100%;border-bottom: 1px solid gray;flex-grow: 1;}#sk-container-id-8 div.sk-label:hover label.sk-toggleable__label {background-color: #d4ebff;}#sk-container-id-8 div.sk-serial::before {content: \"\";position: absolute;border-left: 1px solid gray;box-sizing: border-box;top: 0;bottom: 0;left: 50%;z-index: 0;}#sk-container-id-8 div.sk-serial {display: flex;flex-direction: column;align-items: center;background-color: white;padding-right: 0.2em;padding-left: 0.2em;position: relative;}#sk-container-id-8 div.sk-item {position: relative;z-index: 1;}#sk-container-id-8 div.sk-parallel {display: flex;align-items: stretch;justify-content: center;background-color: white;position: relative;}#sk-container-id-8 div.sk-item::before, #sk-container-id-8 div.sk-parallel-item::before {content: \"\";position: absolute;border-left: 1px solid gray;box-sizing: border-box;top: 0;bottom: 0;left: 50%;z-index: -1;}#sk-container-id-8 div.sk-parallel-item {display: flex;flex-direction: column;z-index: 1;position: relative;background-color: white;}#sk-container-id-8 div.sk-parallel-item:first-child::after {align-self: flex-end;width: 50%;}#sk-container-id-8 div.sk-parallel-item:last-child::after {align-self: flex-start;width: 50%;}#sk-container-id-8 div.sk-parallel-item:only-child::after {width: 0;}#sk-container-id-8 div.sk-dashed-wrapped {border: 1px dashed gray;margin: 0 0.4em 0.5em 0.4em;box-sizing: border-box;padding-bottom: 0.4em;background-color: white;}#sk-container-id-8 div.sk-label label {font-family: monospace;font-weight: bold;display: inline-block;line-height: 1.2em;}#sk-container-id-8 div.sk-label-container {text-align: center;}#sk-container-id-8 div.sk-container {/* jupyter's `normalize.less` sets `[hidden] { display: none; }` but bootstrap.min.css set `[hidden] { display: none !important; }` so we also need the `!important` here to be able to override the default hidden behavior on the sphinx rendered scikit-learn.org. See: https://github.com/scikit-learn/scikit-learn/issues/21755 */display: inline-block !important;position: relative;}#sk-container-id-8 div.sk-text-repr-fallback {display: none;}</style><div id=\"sk-container-id-8\" class=\"sk-top-container\"><div class=\"sk-text-repr-fallback\"><pre>LogisticRegression(max_iter=1000)</pre><b>In a Jupyter environment, please rerun this cell to show the HTML representation or trust the notebook. <br />On GitHub, the HTML representation is unable to render, please try loading this page with nbviewer.org.</b></div><div class=\"sk-container\" hidden><div class=\"sk-item\"><div class=\"sk-estimator sk-toggleable\"><input class=\"sk-toggleable__control sk-hidden--visually\" id=\"sk-estimator-id-18\" type=\"checkbox\" checked><label for=\"sk-estimator-id-18\" class=\"sk-toggleable__label sk-toggleable__label-arrow\">LogisticRegression</label><div class=\"sk-toggleable__content\"><pre>LogisticRegression(max_iter=1000)</pre></div></div></div></div></div>"
      ],
      "text/plain": [
       "LogisticRegression(max_iter=1000)"
      ]
     },
     "execution_count": 143,
     "metadata": {},
     "output_type": "execute_result"
    }
   ],
   "source": [
    "lr.fit(X_best, y)"
   ]
  },
  {
   "cell_type": "code",
   "execution_count": 144,
   "id": "f8f2ca4b",
   "metadata": {},
   "outputs": [
    {
     "data": {
      "text/plain": [
       "0.8181818181818182"
      ]
     },
     "execution_count": 144,
     "metadata": {},
     "output_type": "execute_result"
    }
   ],
   "source": [
    "lr.score(X_best, y)"
   ]
  },
  {
   "cell_type": "code",
   "execution_count": null,
   "id": "570eb44a",
   "metadata": {},
   "outputs": [],
   "source": [
    "lr.predict()"
   ]
  },
  {
   "cell_type": "code",
   "execution_count": null,
   "id": "a42d1558",
   "metadata": {},
   "outputs": [],
   "source": []
  },
  {
   "cell_type": "code",
   "execution_count": null,
   "id": "0db6a85e",
   "metadata": {},
   "outputs": [],
   "source": []
  },
  {
   "cell_type": "markdown",
   "id": "6d085e4c",
   "metadata": {},
   "source": [
    "## What about RFE? "
   ]
  },
  {
   "cell_type": "code",
   "execution_count": 217,
   "id": "dd102f8c",
   "metadata": {},
   "outputs": [],
   "source": [
    "X_std = StandardScaler().fit_transform(X)"
   ]
  },
  {
   "cell_type": "code",
   "execution_count": 218,
   "id": "12b59d57",
   "metadata": {},
   "outputs": [
    {
     "data": {
      "text/plain": [
       "array([[ 0.82737724, -0.56573646,  0.43279337, ..., -0.23598136,\n",
       "        -0.19611614, -0.12168146],\n",
       "       [-1.56610693,  0.66386103,  0.43279337, ..., -0.23598136,\n",
       "        -0.19611614, -0.12168146],\n",
       "       [ 0.82737724, -0.25833709, -0.4745452 , ..., -0.23598136,\n",
       "        -0.19611614, -0.12168146],\n",
       "       ...,\n",
       "       [ 0.82737724, -0.1046374 ,  0.43279337, ..., -0.23598136,\n",
       "        -0.19611614, -0.12168146],\n",
       "       [-1.56610693, -0.25833709, -0.4745452 , ..., -0.23598136,\n",
       "        -0.19611614, -0.12168146],\n",
       "       [ 0.82737724,  0.20276197, -0.4745452 , ..., -0.23598136,\n",
       "        -0.19611614, -0.12168146]])"
      ]
     },
     "execution_count": 218,
     "metadata": {},
     "output_type": "execute_result"
    }
   ],
   "source": [
    "X_std"
   ]
  },
  {
   "cell_type": "code",
   "execution_count": 223,
   "id": "69262654",
   "metadata": {},
   "outputs": [],
   "source": [
    "lr = LogisticRegression(max_iter=1000)\n",
    "\n",
    "rfe = RFE(estimator=lr,\n",
    "          n_features_to_select=16,\n",
    "         )"
   ]
  },
  {
   "cell_type": "code",
   "execution_count": 224,
   "id": "aa42322c",
   "metadata": {},
   "outputs": [
    {
     "data": {
      "text/html": [
       "<style>#sk-container-id-13 {color: black;background-color: white;}#sk-container-id-13 pre{padding: 0;}#sk-container-id-13 div.sk-toggleable {background-color: white;}#sk-container-id-13 label.sk-toggleable__label {cursor: pointer;display: block;width: 100%;margin-bottom: 0;padding: 0.3em;box-sizing: border-box;text-align: center;}#sk-container-id-13 label.sk-toggleable__label-arrow:before {content: \"▸\";float: left;margin-right: 0.25em;color: #696969;}#sk-container-id-13 label.sk-toggleable__label-arrow:hover:before {color: black;}#sk-container-id-13 div.sk-estimator:hover label.sk-toggleable__label-arrow:before {color: black;}#sk-container-id-13 div.sk-toggleable__content {max-height: 0;max-width: 0;overflow: hidden;text-align: left;background-color: #f0f8ff;}#sk-container-id-13 div.sk-toggleable__content pre {margin: 0.2em;color: black;border-radius: 0.25em;background-color: #f0f8ff;}#sk-container-id-13 input.sk-toggleable__control:checked~div.sk-toggleable__content {max-height: 200px;max-width: 100%;overflow: auto;}#sk-container-id-13 input.sk-toggleable__control:checked~label.sk-toggleable__label-arrow:before {content: \"▾\";}#sk-container-id-13 div.sk-estimator input.sk-toggleable__control:checked~label.sk-toggleable__label {background-color: #d4ebff;}#sk-container-id-13 div.sk-label input.sk-toggleable__control:checked~label.sk-toggleable__label {background-color: #d4ebff;}#sk-container-id-13 input.sk-hidden--visually {border: 0;clip: rect(1px 1px 1px 1px);clip: rect(1px, 1px, 1px, 1px);height: 1px;margin: -1px;overflow: hidden;padding: 0;position: absolute;width: 1px;}#sk-container-id-13 div.sk-estimator {font-family: monospace;background-color: #f0f8ff;border: 1px dotted black;border-radius: 0.25em;box-sizing: border-box;margin-bottom: 0.5em;}#sk-container-id-13 div.sk-estimator:hover {background-color: #d4ebff;}#sk-container-id-13 div.sk-parallel-item::after {content: \"\";width: 100%;border-bottom: 1px solid gray;flex-grow: 1;}#sk-container-id-13 div.sk-label:hover label.sk-toggleable__label {background-color: #d4ebff;}#sk-container-id-13 div.sk-serial::before {content: \"\";position: absolute;border-left: 1px solid gray;box-sizing: border-box;top: 0;bottom: 0;left: 50%;z-index: 0;}#sk-container-id-13 div.sk-serial {display: flex;flex-direction: column;align-items: center;background-color: white;padding-right: 0.2em;padding-left: 0.2em;position: relative;}#sk-container-id-13 div.sk-item {position: relative;z-index: 1;}#sk-container-id-13 div.sk-parallel {display: flex;align-items: stretch;justify-content: center;background-color: white;position: relative;}#sk-container-id-13 div.sk-item::before, #sk-container-id-13 div.sk-parallel-item::before {content: \"\";position: absolute;border-left: 1px solid gray;box-sizing: border-box;top: 0;bottom: 0;left: 50%;z-index: -1;}#sk-container-id-13 div.sk-parallel-item {display: flex;flex-direction: column;z-index: 1;position: relative;background-color: white;}#sk-container-id-13 div.sk-parallel-item:first-child::after {align-self: flex-end;width: 50%;}#sk-container-id-13 div.sk-parallel-item:last-child::after {align-self: flex-start;width: 50%;}#sk-container-id-13 div.sk-parallel-item:only-child::after {width: 0;}#sk-container-id-13 div.sk-dashed-wrapped {border: 1px dashed gray;margin: 0 0.4em 0.5em 0.4em;box-sizing: border-box;padding-bottom: 0.4em;background-color: white;}#sk-container-id-13 div.sk-label label {font-family: monospace;font-weight: bold;display: inline-block;line-height: 1.2em;}#sk-container-id-13 div.sk-label-container {text-align: center;}#sk-container-id-13 div.sk-container {/* jupyter's `normalize.less` sets `[hidden] { display: none; }` but bootstrap.min.css set `[hidden] { display: none !important; }` so we also need the `!important` here to be able to override the default hidden behavior on the sphinx rendered scikit-learn.org. See: https://github.com/scikit-learn/scikit-learn/issues/21755 */display: inline-block !important;position: relative;}#sk-container-id-13 div.sk-text-repr-fallback {display: none;}</style><div id=\"sk-container-id-13\" class=\"sk-top-container\"><div class=\"sk-text-repr-fallback\"><pre>RFE(estimator=LogisticRegression(max_iter=1000), n_features_to_select=16)</pre><b>In a Jupyter environment, please rerun this cell to show the HTML representation or trust the notebook. <br />On GitHub, the HTML representation is unable to render, please try loading this page with nbviewer.org.</b></div><div class=\"sk-container\" hidden><div class=\"sk-item sk-dashed-wrapped\"><div class=\"sk-label-container\"><div class=\"sk-label sk-toggleable\"><input class=\"sk-toggleable__control sk-hidden--visually\" id=\"sk-estimator-id-29\" type=\"checkbox\" ><label for=\"sk-estimator-id-29\" class=\"sk-toggleable__label sk-toggleable__label-arrow\">RFE</label><div class=\"sk-toggleable__content\"><pre>RFE(estimator=LogisticRegression(max_iter=1000), n_features_to_select=16)</pre></div></div></div><div class=\"sk-parallel\"><div class=\"sk-parallel-item\"><div class=\"sk-item\"><div class=\"sk-label-container\"><div class=\"sk-label sk-toggleable\"><input class=\"sk-toggleable__control sk-hidden--visually\" id=\"sk-estimator-id-30\" type=\"checkbox\" ><label for=\"sk-estimator-id-30\" class=\"sk-toggleable__label sk-toggleable__label-arrow\">estimator: LogisticRegression</label><div class=\"sk-toggleable__content\"><pre>LogisticRegression(max_iter=1000)</pre></div></div></div><div class=\"sk-serial\"><div class=\"sk-item\"><div class=\"sk-estimator sk-toggleable\"><input class=\"sk-toggleable__control sk-hidden--visually\" id=\"sk-estimator-id-31\" type=\"checkbox\" ><label for=\"sk-estimator-id-31\" class=\"sk-toggleable__label sk-toggleable__label-arrow\">LogisticRegression</label><div class=\"sk-toggleable__content\"><pre>LogisticRegression(max_iter=1000)</pre></div></div></div></div></div></div></div></div></div></div>"
      ],
      "text/plain": [
       "RFE(estimator=LogisticRegression(max_iter=1000), n_features_to_select=16)"
      ]
     },
     "execution_count": 224,
     "metadata": {},
     "output_type": "execute_result"
    }
   ],
   "source": [
    "rfe.fit(X_std, y)"
   ]
  },
  {
   "cell_type": "code",
   "execution_count": 225,
   "id": "a56024a4",
   "metadata": {
    "scrolled": true
   },
   "outputs": [
    {
     "data": {
      "text/html": [
       "<div>\n",
       "<style scoped>\n",
       "    .dataframe tbody tr th:only-of-type {\n",
       "        vertical-align: middle;\n",
       "    }\n",
       "\n",
       "    .dataframe tbody tr th {\n",
       "        vertical-align: top;\n",
       "    }\n",
       "\n",
       "    .dataframe thead th {\n",
       "        text-align: right;\n",
       "    }\n",
       "</style>\n",
       "<table border=\"1\" class=\"dataframe\">\n",
       "  <thead>\n",
       "    <tr style=\"text-align: right;\">\n",
       "      <th></th>\n",
       "      <th>features</th>\n",
       "      <th>ranking</th>\n",
       "      <th>to_keep</th>\n",
       "    </tr>\n",
       "  </thead>\n",
       "  <tbody>\n",
       "    <tr>\n",
       "      <th>0</th>\n",
       "      <td>Pclass</td>\n",
       "      <td>1</td>\n",
       "      <td>True</td>\n",
       "    </tr>\n",
       "    <tr>\n",
       "      <th>1</th>\n",
       "      <td>Age</td>\n",
       "      <td>1</td>\n",
       "      <td>True</td>\n",
       "    </tr>\n",
       "    <tr>\n",
       "      <th>2</th>\n",
       "      <td>SibSp</td>\n",
       "      <td>1</td>\n",
       "      <td>True</td>\n",
       "    </tr>\n",
       "    <tr>\n",
       "      <th>3</th>\n",
       "      <td>male</td>\n",
       "      <td>1</td>\n",
       "      <td>True</td>\n",
       "    </tr>\n",
       "    <tr>\n",
       "      <th>4</th>\n",
       "      <td>family_size</td>\n",
       "      <td>1</td>\n",
       "      <td>True</td>\n",
       "    </tr>\n",
       "    <tr>\n",
       "      <th>5</th>\n",
       "      <td>cabin_B</td>\n",
       "      <td>1</td>\n",
       "      <td>True</td>\n",
       "    </tr>\n",
       "    <tr>\n",
       "      <th>6</th>\n",
       "      <td>cabin_E</td>\n",
       "      <td>1</td>\n",
       "      <td>True</td>\n",
       "    </tr>\n",
       "    <tr>\n",
       "      <th>7</th>\n",
       "      <td>cabin_F</td>\n",
       "      <td>1</td>\n",
       "      <td>True</td>\n",
       "    </tr>\n",
       "  </tbody>\n",
       "</table>\n",
       "</div>"
      ],
      "text/plain": [
       "      features  ranking  to_keep\n",
       "0       Pclass        1     True\n",
       "1          Age        1     True\n",
       "2        SibSp        1     True\n",
       "3         male        1     True\n",
       "4  family_size        1     True\n",
       "5      cabin_B        1     True\n",
       "6      cabin_E        1     True\n",
       "7      cabin_F        1     True"
      ]
     },
     "execution_count": 225,
     "metadata": {},
     "output_type": "execute_result"
    }
   ],
   "source": [
    "rfe_df = pd.DataFrame({'features':X.columns,\n",
    "             \"ranking\":rfe.ranking_,\n",
    "             \"to_keep\": rfe.support_}).sort_values(\"ranking\")\n",
    "rfe_df"
   ]
  },
  {
   "cell_type": "code",
   "execution_count": 226,
   "id": "8a366cea",
   "metadata": {},
   "outputs": [
    {
     "data": {
      "text/plain": [
       "0.813692480359147"
      ]
     },
     "execution_count": 226,
     "metadata": {},
     "output_type": "execute_result"
    }
   ],
   "source": [
    "rfe.score(X_std, y)"
   ]
  },
  {
   "cell_type": "code",
   "execution_count": null,
   "id": "d96bbe5e",
   "metadata": {},
   "outputs": [],
   "source": []
  },
  {
   "cell_type": "code",
   "execution_count": null,
   "id": "9fa504ef",
   "metadata": {},
   "outputs": [],
   "source": []
  },
  {
   "cell_type": "code",
   "execution_count": null,
   "id": "724096a8",
   "metadata": {},
   "outputs": [],
   "source": []
  },
  {
   "cell_type": "markdown",
   "id": "086e1bab",
   "metadata": {},
   "source": [
    "# KAGGLE TEST"
   ]
  },
  {
   "cell_type": "markdown",
   "id": "cc73f797",
   "metadata": {},
   "source": [
    "## Load test data "
   ]
  },
  {
   "cell_type": "code",
   "execution_count": 190,
   "id": "cf02a2fc",
   "metadata": {},
   "outputs": [
    {
     "name": "stdout",
     "output_type": "stream",
     "text": [
      "TESTING\n"
     ]
    },
    {
     "name": "stderr",
     "output_type": "stream",
     "text": [
      "/var/folders/0n/f4t27bkj4qv8ch75963kg78c0000gn/T/ipykernel_16719/3925809525.py:66: FutureWarning: The pandas.np module is deprecated and will be removed from pandas in a future version. Import numpy directly instead.\n",
      "  'cabin_letters'] = pd.np.NaN\n",
      "/var/folders/0n/f4t27bkj4qv8ch75963kg78c0000gn/T/ipykernel_16719/3925809525.py:70: FutureWarning: The pandas.np module is deprecated and will be removed from pandas in a future version. Import numpy directly instead.\n",
      "  'cabin_numbers'] = pd.np.NaN\n",
      "/var/folders/0n/f4t27bkj4qv8ch75963kg78c0000gn/T/ipykernel_16719/3925809525.py:74: FutureWarning: The pandas.np module is deprecated and will be removed from pandas in a future version. Import numpy directly instead.\n",
      "  'cabin_numbers_min'] = pd.np.NaN\n",
      "/var/folders/0n/f4t27bkj4qv8ch75963kg78c0000gn/T/ipykernel_16719/3925809525.py:78: FutureWarning: The pandas.np module is deprecated and will be removed from pandas in a future version. Import numpy directly instead.\n",
      "  'cabin_numbers_max'] = pd.np.NaN\n"
     ]
    }
   ],
   "source": [
    "tester = TitanicDataProcessor(\"test\")\n",
    "tester.run()"
   ]
  },
  {
   "cell_type": "markdown",
   "id": "0e78e7c1",
   "metadata": {},
   "source": [
    "## Run test features through our model "
   ]
  },
  {
   "cell_type": "code",
   "execution_count": 191,
   "id": "3bbbd15a",
   "metadata": {},
   "outputs": [],
   "source": [
    "X_test = tester.df_features\n",
    "predictor = lr.predict(X_test)"
   ]
  },
  {
   "cell_type": "markdown",
   "id": "2557fab2",
   "metadata": {},
   "source": [
    "## Compile and save dataset"
   ]
  },
  {
   "cell_type": "code",
   "execution_count": 200,
   "id": "f56092be",
   "metadata": {},
   "outputs": [],
   "source": [
    "df_kaggle = tester.data_raw.copy()\n",
    "df_kaggle['Survived'] = predictor\n",
    "df_kaggle = df_kaggle[['PassengerId','Survived']]\n",
    "\n",
    "df_kaggle.to_csv(\"prediciton_3.csv\", index=False)"
   ]
  },
  {
   "cell_type": "code",
   "execution_count": null,
   "id": "1f4b5538",
   "metadata": {},
   "outputs": [],
   "source": []
  },
  {
   "cell_type": "code",
   "execution_count": 228,
   "id": "187100c6",
   "metadata": {},
   "outputs": [
    {
     "data": {
      "text/html": [
       "<div>\n",
       "<style scoped>\n",
       "    .dataframe tbody tr th:only-of-type {\n",
       "        vertical-align: middle;\n",
       "    }\n",
       "\n",
       "    .dataframe tbody tr th {\n",
       "        vertical-align: top;\n",
       "    }\n",
       "\n",
       "    .dataframe thead th {\n",
       "        text-align: right;\n",
       "    }\n",
       "</style>\n",
       "<table border=\"1\" class=\"dataframe\">\n",
       "  <thead>\n",
       "    <tr style=\"text-align: right;\">\n",
       "      <th></th>\n",
       "      <th>Pclass</th>\n",
       "      <th>Age</th>\n",
       "      <th>SibSp</th>\n",
       "      <th>male</th>\n",
       "      <th>family_size</th>\n",
       "      <th>cabin_B</th>\n",
       "      <th>cabin_E</th>\n",
       "      <th>cabin_F</th>\n",
       "    </tr>\n",
       "  </thead>\n",
       "  <tbody>\n",
       "    <tr>\n",
       "      <th>0</th>\n",
       "      <td>3</td>\n",
       "      <td>22.0</td>\n",
       "      <td>1</td>\n",
       "      <td>1</td>\n",
       "      <td>1</td>\n",
       "      <td>0</td>\n",
       "      <td>0</td>\n",
       "      <td>0</td>\n",
       "    </tr>\n",
       "    <tr>\n",
       "      <th>1</th>\n",
       "      <td>1</td>\n",
       "      <td>38.0</td>\n",
       "      <td>1</td>\n",
       "      <td>0</td>\n",
       "      <td>1</td>\n",
       "      <td>0</td>\n",
       "      <td>0</td>\n",
       "      <td>0</td>\n",
       "    </tr>\n",
       "    <tr>\n",
       "      <th>2</th>\n",
       "      <td>3</td>\n",
       "      <td>26.0</td>\n",
       "      <td>0</td>\n",
       "      <td>0</td>\n",
       "      <td>0</td>\n",
       "      <td>0</td>\n",
       "      <td>0</td>\n",
       "      <td>0</td>\n",
       "    </tr>\n",
       "    <tr>\n",
       "      <th>3</th>\n",
       "      <td>1</td>\n",
       "      <td>35.0</td>\n",
       "      <td>1</td>\n",
       "      <td>0</td>\n",
       "      <td>1</td>\n",
       "      <td>0</td>\n",
       "      <td>0</td>\n",
       "      <td>0</td>\n",
       "    </tr>\n",
       "    <tr>\n",
       "      <th>4</th>\n",
       "      <td>3</td>\n",
       "      <td>35.0</td>\n",
       "      <td>0</td>\n",
       "      <td>1</td>\n",
       "      <td>0</td>\n",
       "      <td>0</td>\n",
       "      <td>0</td>\n",
       "      <td>0</td>\n",
       "    </tr>\n",
       "    <tr>\n",
       "      <th>...</th>\n",
       "      <td>...</td>\n",
       "      <td>...</td>\n",
       "      <td>...</td>\n",
       "      <td>...</td>\n",
       "      <td>...</td>\n",
       "      <td>...</td>\n",
       "      <td>...</td>\n",
       "      <td>...</td>\n",
       "    </tr>\n",
       "    <tr>\n",
       "      <th>886</th>\n",
       "      <td>2</td>\n",
       "      <td>27.0</td>\n",
       "      <td>0</td>\n",
       "      <td>1</td>\n",
       "      <td>0</td>\n",
       "      <td>0</td>\n",
       "      <td>0</td>\n",
       "      <td>0</td>\n",
       "    </tr>\n",
       "    <tr>\n",
       "      <th>887</th>\n",
       "      <td>1</td>\n",
       "      <td>19.0</td>\n",
       "      <td>0</td>\n",
       "      <td>0</td>\n",
       "      <td>0</td>\n",
       "      <td>1</td>\n",
       "      <td>0</td>\n",
       "      <td>0</td>\n",
       "    </tr>\n",
       "    <tr>\n",
       "      <th>888</th>\n",
       "      <td>3</td>\n",
       "      <td>28.0</td>\n",
       "      <td>1</td>\n",
       "      <td>0</td>\n",
       "      <td>3</td>\n",
       "      <td>0</td>\n",
       "      <td>0</td>\n",
       "      <td>0</td>\n",
       "    </tr>\n",
       "    <tr>\n",
       "      <th>889</th>\n",
       "      <td>1</td>\n",
       "      <td>26.0</td>\n",
       "      <td>0</td>\n",
       "      <td>1</td>\n",
       "      <td>0</td>\n",
       "      <td>0</td>\n",
       "      <td>0</td>\n",
       "      <td>0</td>\n",
       "    </tr>\n",
       "    <tr>\n",
       "      <th>890</th>\n",
       "      <td>3</td>\n",
       "      <td>32.0</td>\n",
       "      <td>0</td>\n",
       "      <td>1</td>\n",
       "      <td>0</td>\n",
       "      <td>0</td>\n",
       "      <td>0</td>\n",
       "      <td>0</td>\n",
       "    </tr>\n",
       "  </tbody>\n",
       "</table>\n",
       "<p>891 rows × 8 columns</p>\n",
       "</div>"
      ],
      "text/plain": [
       "     Pclass   Age  SibSp  male  family_size  cabin_B  cabin_E  cabin_F\n",
       "0         3  22.0      1     1            1        0        0        0\n",
       "1         1  38.0      1     0            1        0        0        0\n",
       "2         3  26.0      0     0            0        0        0        0\n",
       "3         1  35.0      1     0            1        0        0        0\n",
       "4         3  35.0      0     1            0        0        0        0\n",
       "..      ...   ...    ...   ...          ...      ...      ...      ...\n",
       "886       2  27.0      0     1            0        0        0        0\n",
       "887       1  19.0      0     0            0        1        0        0\n",
       "888       3  28.0      1     0            3        0        0        0\n",
       "889       1  26.0      0     1            0        0        0        0\n",
       "890       3  32.0      0     1            0        0        0        0\n",
       "\n",
       "[891 rows x 8 columns]"
      ]
     },
     "execution_count": 228,
     "metadata": {},
     "output_type": "execute_result"
    }
   ],
   "source": [
    "X"
   ]
  },
  {
   "cell_type": "code",
   "execution_count": 227,
   "id": "80485746",
   "metadata": {},
   "outputs": [
    {
     "name": "stdout",
     "output_type": "stream",
     "text": [
      "CONFUSION:\n",
      "[[93 12]\n",
      " [19 55]]\n",
      "MODEL SCORE: 0.8047752808988764\n",
      "Model score on test data: 0.8268156424581006\n"
     ]
    }
   ],
   "source": [
    "# Split dataset\n",
    "X_train, X_test, y_train, y_test = train_test_split(X, \n",
    "                                                    y, \n",
    "                                                    test_size=0.20)\n",
    "\n",
    "# Fit the model to the training data\n",
    "model = LogisticRegression()\n",
    "model.fit(X_train, y_train)\n",
    "\n",
    "y_pred = model.predict(X_test)\n",
    "\n",
    "# Score the model on the training data\n",
    "print(f\"CONFUSION:\\n{metrics.confusion_matrix(y_test, y_pred)}\")\n",
    "\n",
    "# Score the model on the test data\n",
    "print(f\"MODEL SCORE: {model.score(X_train, y_train)}\")\n",
    "print(f\"Model score on test data: {model.score(X_test, y_test)}\")"
   ]
  },
  {
   "cell_type": "code",
   "execution_count": null,
   "id": "ce49d5d9",
   "metadata": {},
   "outputs": [],
   "source": []
  },
  {
   "cell_type": "code",
   "execution_count": null,
   "id": "fe69324c",
   "metadata": {},
   "outputs": [],
   "source": []
  },
  {
   "cell_type": "code",
   "execution_count": null,
   "id": "a50b5d4c",
   "metadata": {},
   "outputs": [],
   "source": []
  },
  {
   "cell_type": "code",
   "execution_count": null,
   "id": "2c77dc6e",
   "metadata": {},
   "outputs": [],
   "source": []
  },
  {
   "cell_type": "code",
   "execution_count": null,
   "id": "75f9b87f",
   "metadata": {},
   "outputs": [],
   "source": []
  },
  {
   "cell_type": "code",
   "execution_count": null,
   "id": "fd3f45b4",
   "metadata": {},
   "outputs": [],
   "source": []
  },
  {
   "cell_type": "code",
   "execution_count": null,
   "id": "758537ea",
   "metadata": {},
   "outputs": [],
   "source": []
  },
  {
   "cell_type": "code",
   "execution_count": null,
   "id": "f2f4c264",
   "metadata": {},
   "outputs": [],
   "source": []
  },
  {
   "cell_type": "code",
   "execution_count": null,
   "id": "37e173ea",
   "metadata": {},
   "outputs": [],
   "source": []
  },
  {
   "cell_type": "code",
   "execution_count": null,
   "id": "c1741356",
   "metadata": {},
   "outputs": [],
   "source": []
  },
  {
   "cell_type": "code",
   "execution_count": null,
   "id": "29c3116b",
   "metadata": {},
   "outputs": [],
   "source": []
  },
  {
   "cell_type": "code",
   "execution_count": null,
   "id": "fe3c24da",
   "metadata": {},
   "outputs": [],
   "source": []
  },
  {
   "cell_type": "code",
   "execution_count": null,
   "id": "4e991c33",
   "metadata": {},
   "outputs": [],
   "source": []
  },
  {
   "cell_type": "code",
   "execution_count": null,
   "id": "9308f808",
   "metadata": {},
   "outputs": [],
   "source": []
  },
  {
   "cell_type": "code",
   "execution_count": null,
   "id": "53b4b2df",
   "metadata": {},
   "outputs": [],
   "source": []
  },
  {
   "cell_type": "code",
   "execution_count": null,
   "id": "e6c82a8a",
   "metadata": {},
   "outputs": [],
   "source": []
  },
  {
   "cell_type": "code",
   "execution_count": null,
   "id": "48ea3611",
   "metadata": {},
   "outputs": [],
   "source": []
  },
  {
   "cell_type": "code",
   "execution_count": null,
   "id": "34a9ea03",
   "metadata": {},
   "outputs": [],
   "source": []
  },
  {
   "cell_type": "code",
   "execution_count": null,
   "id": "902c2405",
   "metadata": {},
   "outputs": [],
   "source": []
  },
  {
   "cell_type": "code",
   "execution_count": null,
   "id": "883926c5",
   "metadata": {},
   "outputs": [],
   "source": []
  },
  {
   "cell_type": "code",
   "execution_count": 230,
   "id": "91f9a64e",
   "metadata": {},
   "outputs": [],
   "source": [
    "df = self.data"
   ]
  },
  {
   "cell_type": "code",
   "execution_count": 231,
   "id": "1a7d4ded",
   "metadata": {},
   "outputs": [
    {
     "data": {
      "text/plain": [
       "<AxesSubplot:xlabel='Pclass'>"
      ]
     },
     "execution_count": 231,
     "metadata": {},
     "output_type": "execute_result"
    },
    {
     "data": {
      "image/png": "[encoded data removed]",
      "text/plain": [
       "<Figure size 432x288 with 1 Axes>"
      ]
     },
     "metadata": {
      "needs_background": "light"
     },
     "output_type": "display_data"
    }
   ],
   "source": [
    "df.groupby(['Pclass'])['Survived'].mean().plot(kind='bar')"
   ]
  },
  {
   "cell_type": "code",
   "execution_count": 232,
   "id": "a5ca3306",
   "metadata": {},
   "outputs": [
    {
     "data": {
      "text/plain": [
       "<AxesSubplot:xlabel='Sex'>"
      ]
     },
     "execution_count": 232,
     "metadata": {},
     "output_type": "execute_result"
    },
    {
     "data": {
      "image/png": "[encoded data removed]",
      "text/plain": [
       "<Figure size 432x288 with 1 Axes>"
      ]
     },
     "metadata": {
      "needs_background": "light"
     },
     "output_type": "display_data"
    }
   ],
   "source": [
    "df.groupby(['Sex'])['Survived'].mean().plot(kind='bar')"
   ]
  },
  {
   "cell_type": "markdown",
   "id": "62debfdc",
   "metadata": {},
   "source": [
    "### Let's come up with new bins "
   ]
  },
  {
   "cell_type": "code",
   "execution_count": 233,
   "id": "ce12dd56",
   "metadata": {},
   "outputs": [
    {
     "data": {
      "text/plain": [
       "<AxesSubplot:xlabel='Age_binned_2'>"
      ]
     },
     "execution_count": 233,
     "metadata": {},
     "output_type": "execute_result"
    },
    {
     "data": {
      "image/png": "[encoded data removed]",
      "text/plain": [
       "<Figure size 432x288 with 1 Axes>"
      ]
     },
     "metadata": {
      "needs_background": "light"
     },
     "output_type": "display_data"
    }
   ],
   "source": [
    "df.groupby(['Age_binned_2'])['Survived'].mean().plot(kind='bar')"
   ]
  },
  {
   "cell_type": "code",
   "execution_count": 234,
   "id": "cede14c9",
   "metadata": {},
   "outputs": [],
   "source": [
    "age_survived = df.loc[df['Survived'] == 1]['Age']\n",
    "age_died = df.loc[df['Survived'] == 0]['Age']"
   ]
  },
  {
   "cell_type": "code",
   "execution_count": 235,
   "id": "8c61c4d5",
   "metadata": {},
   "outputs": [
    {
     "data": {
      "image/png": "[encoded data removed]",
      "text/plain": [
       "<Figure size 432x288 with 1 Axes>"
      ]
     },
     "metadata": {
      "needs_background": "light"
     },
     "output_type": "display_data"
    },
    {
     "data": {
      "image/png": "[encoded data removed]",
      "text/plain": [
       "<Figure size 432x288 with 1 Axes>"
      ]
     },
     "metadata": {
      "needs_background": "light"
     },
     "output_type": "display_data"
    }
   ],
   "source": [
    "bins=10\n",
    "plt.hist(age_survived, bins, alpha=0.6, label='survived', color='green')\n",
    "plt.xlim(right=90)\n",
    "plt.title(\"Age Survived\")\n",
    "plt.show()\n",
    "plt.clf()\n",
    "plt.hist(age_died, bins, alpha=0.6, label='died', color='red')\n",
    "plt.xlim(right=90)\n",
    "plt.title(\"Age Died\")\n",
    "plt.show()"
   ]
  },
  {
   "cell_type": "code",
   "execution_count": 236,
   "id": "1f7943ef",
   "metadata": {},
   "outputs": [
    {
     "data": {
      "text/plain": [
       "<AxesSubplot:xlabel='SibSp'>"
      ]
     },
     "execution_count": 236,
     "metadata": {},
     "output_type": "execute_result"
    },
    {
     "data": {
      "image/png": "[encoded data removed]",
      "text/plain": [
       "<Figure size 432x288 with 1 Axes>"
      ]
     },
     "metadata": {
      "needs_background": "light"
     },
     "output_type": "display_data"
    }
   ],
   "source": [
    "df.groupby(['SibSp'])['Survived'].mean().plot(kind='bar')"
   ]
  },
  {
   "cell_type": "code",
   "execution_count": 238,
   "id": "dd13dc76",
   "metadata": {},
   "outputs": [
    {
     "data": {
      "text/html": [
       "<div>\n",
       "<style scoped>\n",
       "    .dataframe tbody tr th:only-of-type {\n",
       "        vertical-align: middle;\n",
       "    }\n",
       "\n",
       "    .dataframe tbody tr th {\n",
       "        vertical-align: top;\n",
       "    }\n",
       "\n",
       "    .dataframe thead th {\n",
       "        text-align: right;\n",
       "    }\n",
       "</style>\n",
       "<table border=\"1\" class=\"dataframe\">\n",
       "  <thead>\n",
       "    <tr style=\"text-align: right;\">\n",
       "      <th>Survived</th>\n",
       "      <th>0</th>\n",
       "      <th>1</th>\n",
       "    </tr>\n",
       "    <tr>\n",
       "      <th>SibSp</th>\n",
       "      <th></th>\n",
       "      <th></th>\n",
       "    </tr>\n",
       "  </thead>\n",
       "  <tbody>\n",
       "    <tr>\n",
       "      <th>0</th>\n",
       "      <td>398.0</td>\n",
       "      <td>210.0</td>\n",
       "    </tr>\n",
       "    <tr>\n",
       "      <th>1</th>\n",
       "      <td>97.0</td>\n",
       "      <td>112.0</td>\n",
       "    </tr>\n",
       "    <tr>\n",
       "      <th>2</th>\n",
       "      <td>15.0</td>\n",
       "      <td>13.0</td>\n",
       "    </tr>\n",
       "    <tr>\n",
       "      <th>3</th>\n",
       "      <td>12.0</td>\n",
       "      <td>4.0</td>\n",
       "    </tr>\n",
       "    <tr>\n",
       "      <th>4</th>\n",
       "      <td>15.0</td>\n",
       "      <td>3.0</td>\n",
       "    </tr>\n",
       "    <tr>\n",
       "      <th>5</th>\n",
       "      <td>5.0</td>\n",
       "      <td>NaN</td>\n",
       "    </tr>\n",
       "    <tr>\n",
       "      <th>8</th>\n",
       "      <td>7.0</td>\n",
       "      <td>NaN</td>\n",
       "    </tr>\n",
       "  </tbody>\n",
       "</table>\n",
       "</div>"
      ],
      "text/plain": [
       "Survived      0      1\n",
       "SibSp                 \n",
       "0         398.0  210.0\n",
       "1          97.0  112.0\n",
       "2          15.0   13.0\n",
       "3          12.0    4.0\n",
       "4          15.0    3.0\n",
       "5           5.0    NaN\n",
       "8           7.0    NaN"
      ]
     },
     "execution_count": 238,
     "metadata": {},
     "output_type": "execute_result"
    }
   ],
   "source": [
    "df.pivot_table(index='SibSp',\n",
    "               columns='Survived',\n",
    "               aggfunc='count',\n",
    "               values='PassengerId')"
   ]
  },
  {
   "cell_type": "code",
   "execution_count": 239,
   "id": "1afb6535",
   "metadata": {},
   "outputs": [],
   "source": [
    "fare_survived = df.loc[df['Survived'] == 1]['Fare']\n",
    "fare_died = df.loc[df['Survived'] == 0]['Fare']"
   ]
  },
  {
   "cell_type": "code",
   "execution_count": 241,
   "id": "1ce873fb",
   "metadata": {},
   "outputs": [
    {
     "data": {
      "text/plain": [
       "(array([732., 106.,  31.,   2.,  11.,   6.,   0.,   0.,   0.,   3.]),\n",
       " array([  0.     ,  51.23292, 102.46584, 153.69876, 204.93168, 256.1646 ,\n",
       "        307.39752, 358.63044, 409.86336, 461.09628, 512.3292 ]),\n",
       " <BarContainer object of 10 artists>)"
      ]
     },
     "execution_count": 241,
     "metadata": {},
     "output_type": "execute_result"
    },
    {
     "data": {
      "image/png": "[encoded data removed]",
      "text/plain": [
       "<Figure size 432x288 with 1 Axes>"
      ]
     },
     "metadata": {
      "needs_background": "light"
     },
     "output_type": "display_data"
    }
   ],
   "source": [
    "plt.hist(df['Fare'])"
   ]
  },
  {
   "cell_type": "code",
   "execution_count": 242,
   "id": "94b298e0",
   "metadata": {
    "scrolled": true
   },
   "outputs": [
    {
     "data": {
      "text/html": [
       "<div>\n",
       "<style scoped>\n",
       "    .dataframe tbody tr th:only-of-type {\n",
       "        vertical-align: middle;\n",
       "    }\n",
       "\n",
       "    .dataframe tbody tr th {\n",
       "        vertical-align: top;\n",
       "    }\n",
       "\n",
       "    .dataframe thead th {\n",
       "        text-align: right;\n",
       "    }\n",
       "</style>\n",
       "<table border=\"1\" class=\"dataframe\">\n",
       "  <thead>\n",
       "    <tr style=\"text-align: right;\">\n",
       "      <th></th>\n",
       "      <th>mean</th>\n",
       "      <th>count</th>\n",
       "      <th>sum</th>\n",
       "    </tr>\n",
       "    <tr>\n",
       "      <th>fare_binned</th>\n",
       "      <th></th>\n",
       "      <th></th>\n",
       "      <th></th>\n",
       "    </tr>\n",
       "  </thead>\n",
       "  <tbody>\n",
       "    <tr>\n",
       "      <th>-1</th>\n",
       "      <td>0.066667</td>\n",
       "      <td>15</td>\n",
       "      <td>1</td>\n",
       "    </tr>\n",
       "    <tr>\n",
       "      <th>4</th>\n",
       "      <td>0.204698</td>\n",
       "      <td>298</td>\n",
       "      <td>61</td>\n",
       "    </tr>\n",
       "    <tr>\n",
       "      <th>9</th>\n",
       "      <td>0.395161</td>\n",
       "      <td>124</td>\n",
       "      <td>49</td>\n",
       "    </tr>\n",
       "    <tr>\n",
       "      <th>14</th>\n",
       "      <td>0.371429</td>\n",
       "      <td>70</td>\n",
       "      <td>26</td>\n",
       "    </tr>\n",
       "    <tr>\n",
       "      <th>19</th>\n",
       "      <td>0.523810</td>\n",
       "      <td>42</td>\n",
       "      <td>22</td>\n",
       "    </tr>\n",
       "    <tr>\n",
       "      <th>24</th>\n",
       "      <td>0.436170</td>\n",
       "      <td>94</td>\n",
       "      <td>41</td>\n",
       "    </tr>\n",
       "    <tr>\n",
       "      <th>29</th>\n",
       "      <td>0.441860</td>\n",
       "      <td>43</td>\n",
       "      <td>19</td>\n",
       "    </tr>\n",
       "    <tr>\n",
       "      <th>34</th>\n",
       "      <td>0.400000</td>\n",
       "      <td>20</td>\n",
       "      <td>8</td>\n",
       "    </tr>\n",
       "    <tr>\n",
       "      <th>39</th>\n",
       "      <td>0.285714</td>\n",
       "      <td>14</td>\n",
       "      <td>4</td>\n",
       "    </tr>\n",
       "    <tr>\n",
       "      <th>44</th>\n",
       "      <td>0.000000</td>\n",
       "      <td>7</td>\n",
       "      <td>0</td>\n",
       "    </tr>\n",
       "    <tr>\n",
       "      <th>49</th>\n",
       "      <td>0.565217</td>\n",
       "      <td>23</td>\n",
       "      <td>13</td>\n",
       "    </tr>\n",
       "    <tr>\n",
       "      <th>54</th>\n",
       "      <td>0.833333</td>\n",
       "      <td>18</td>\n",
       "      <td>15</td>\n",
       "    </tr>\n",
       "    <tr>\n",
       "      <th>59</th>\n",
       "      <td>0.400000</td>\n",
       "      <td>5</td>\n",
       "      <td>2</td>\n",
       "    </tr>\n",
       "    <tr>\n",
       "      <th>64</th>\n",
       "      <td>0.750000</td>\n",
       "      <td>4</td>\n",
       "      <td>3</td>\n",
       "    </tr>\n",
       "    <tr>\n",
       "      <th>69</th>\n",
       "      <td>0.235294</td>\n",
       "      <td>17</td>\n",
       "      <td>4</td>\n",
       "    </tr>\n",
       "    <tr>\n",
       "      <th>74</th>\n",
       "      <td>0.785714</td>\n",
       "      <td>14</td>\n",
       "      <td>11</td>\n",
       "    </tr>\n",
       "    <tr>\n",
       "      <th>79</th>\n",
       "      <td>0.705882</td>\n",
       "      <td>17</td>\n",
       "      <td>12</td>\n",
       "    </tr>\n",
       "    <tr>\n",
       "      <th>84</th>\n",
       "      <td>1.000000</td>\n",
       "      <td>3</td>\n",
       "      <td>3</td>\n",
       "    </tr>\n",
       "    <tr>\n",
       "      <th>89</th>\n",
       "      <td>0.900000</td>\n",
       "      <td>10</td>\n",
       "      <td>9</td>\n",
       "    </tr>\n",
       "    <tr>\n",
       "      <th>94</th>\n",
       "      <td>NaN</td>\n",
       "      <td>0</td>\n",
       "      <td>0</td>\n",
       "    </tr>\n",
       "    <tr>\n",
       "      <th>99</th>\n",
       "      <td>0.735849</td>\n",
       "      <td>53</td>\n",
       "      <td>39</td>\n",
       "    </tr>\n",
       "  </tbody>\n",
       "</table>\n",
       "</div>"
      ],
      "text/plain": [
       "                 mean  count  sum\n",
       "fare_binned                      \n",
       "-1           0.066667     15    1\n",
       "4            0.204698    298   61\n",
       "9            0.395161    124   49\n",
       "14           0.371429     70   26\n",
       "19           0.523810     42   22\n",
       "24           0.436170     94   41\n",
       "29           0.441860     43   19\n",
       "34           0.400000     20    8\n",
       "39           0.285714     14    4\n",
       "44           0.000000      7    0\n",
       "49           0.565217     23   13\n",
       "54           0.833333     18   15\n",
       "59           0.400000      5    2\n",
       "64           0.750000      4    3\n",
       "69           0.235294     17    4\n",
       "74           0.785714     14   11\n",
       "79           0.705882     17   12\n",
       "84           1.000000      3    3\n",
       "89           0.900000     10    9\n",
       "94                NaN      0    0\n",
       "99           0.735849     53   39"
      ]
     },
     "execution_count": 242,
     "metadata": {},
     "output_type": "execute_result"
    }
   ],
   "source": [
    "df.groupby(['fare_binned'])['Survived'].agg(['mean','count','sum'])"
   ]
  },
  {
   "cell_type": "code",
   "execution_count": 243,
   "id": "30a541d9",
   "metadata": {
    "scrolled": false
   },
   "outputs": [
    {
     "data": {
      "text/plain": [
       "<AxesSubplot:xlabel='fare_binned'>"
      ]
     },
     "execution_count": 243,
     "metadata": {},
     "output_type": "execute_result"
    },
    {
     "data": {
      "image/png": "[encoded data removed]",
      "text/plain": [
       "<Figure size 432x288 with 1 Axes>"
      ]
     },
     "metadata": {
      "needs_background": "light"
     },
     "output_type": "display_data"
    }
   ],
   "source": [
    "df.groupby(['fare_binned'])['Survived'].mean().plot(kind='bar')"
   ]
  },
  {
   "cell_type": "markdown",
   "id": "c0645459",
   "metadata": {},
   "source": [
    "## What if we put the above into a smaller subset of groups?"
   ]
  },
  {
   "cell_type": "code",
   "execution_count": 244,
   "id": "dcf0ee00",
   "metadata": {
    "scrolled": true
   },
   "outputs": [
    {
     "data": {
      "text/plain": [
       "<AxesSubplot:xlabel='fare_binned_2'>"
      ]
     },
     "execution_count": 244,
     "metadata": {},
     "output_type": "execute_result"
    },
    {
     "data": {
      "image/png": "[encoded data removed]",
      "text/plain": [
       "<Figure size 432x288 with 1 Axes>"
      ]
     },
     "metadata": {
      "needs_background": "light"
     },
     "output_type": "display_data"
    }
   ],
   "source": [
    "df.groupby(['fare_binned_2'])['Survived'].mean().plot(kind='bar')"
   ]
  },
  {
   "cell_type": "markdown",
   "id": "77a26089",
   "metadata": {},
   "source": [
    "## This seems like a good feature to me "
   ]
  },
  {
   "cell_type": "code",
   "execution_count": 245,
   "id": "2bb6605d",
   "metadata": {},
   "outputs": [
    {
     "data": {
      "text/plain": [
       "S      644\n",
       "C      168\n",
       "Q       77\n",
       "NaN      2\n",
       "Name: Embarked, dtype: int64"
      ]
     },
     "execution_count": 245,
     "metadata": {},
     "output_type": "execute_result"
    }
   ],
   "source": [
    "df['Embarked'].value_counts(dropna=False)"
   ]
  },
  {
   "cell_type": "code",
   "execution_count": 246,
   "id": "1386899c",
   "metadata": {},
   "outputs": [
    {
     "data": {
      "text/plain": [
       "<AxesSubplot:xlabel='Embarked'>"
      ]
     },
     "execution_count": 246,
     "metadata": {},
     "output_type": "execute_result"
    },
    {
     "data": {
      "image/png": "[encoded data removed]",
      "text/plain": [
       "<Figure size 432x288 with 1 Axes>"
      ]
     },
     "metadata": {
      "needs_background": "light"
     },
     "output_type": "display_data"
    }
   ],
   "source": [
    "df.groupby(['Embarked'])['Survived'].mean().plot(kind='bar')"
   ]
  },
  {
   "cell_type": "markdown",
   "id": "350c835a",
   "metadata": {},
   "source": [
    "## IT ERRORED OUT with a null AGE\n",
    "- Let's just plug in the default Age for the ones where it's missing for now\n",
    "- Perhaps there is a better way to infer Age? Maybe based on price of ticket?"
   ]
  },
  {
   "cell_type": "code",
   "execution_count": null,
   "id": "1d229396",
   "metadata": {},
   "outputs": [],
   "source": [
    "# Split dataset\n",
    "X_train, X_test, y_train, y_test = train_test_split(df_features, \n",
    "                                                    df_target, \n",
    "                                                    test_size=0.20)\n",
    "\n",
    "# Fit the model to the training data\n",
    "model = LogisticRegression()\n",
    "model.fit(X_train, y_train)\n",
    "\n",
    "y_pred = model.predict(X_test)\n",
    "\n",
    "# Score the model on the training data\n",
    "print(f\"CONFUSION:\\n{metrics.confusion_matrix(y_test, y_pred)}\")\n",
    "\n",
    "# Score the model on the test data\n",
    "print(f\"MODEL SCORE: {model.score(X_train, y_train)}\")\n",
    "print(f\"Model score on test data: {model.score(X_test, y_test)}\")"
   ]
  },
  {
   "cell_type": "code",
   "execution_count": null,
   "id": "d1be3947",
   "metadata": {},
   "outputs": [],
   "source": []
  },
  {
   "cell_type": "markdown",
   "id": "372d3439",
   "metadata": {},
   "source": [
    "## MODEL COEFFICIENTS "
   ]
  },
  {
   "cell_type": "code",
   "execution_count": null,
   "id": "fe4226aa",
   "metadata": {},
   "outputs": [],
   "source": [
    "coef_table = pd.DataFrame(list(X_train.columns)).copy()\n",
    "coef_table.insert(len(coef_table.columns),\"Coefs\",model.coef_.transpose())\n",
    "coef_table = coef_table.rename(columns={0:'features'})\n",
    "\n",
    "coef_table['coefs_abs'] = abs(coef_table['Coefs'])\n",
    "\n",
    "coef_table = coef_table.sort_values('Coefs')\n",
    "coef_table"
   ]
  },
  {
   "cell_type": "markdown",
   "id": "d11765ec",
   "metadata": {},
   "source": [
    "## How can we test this model?"
   ]
  },
  {
   "cell_type": "code",
   "execution_count": null,
   "id": "3da95fca",
   "metadata": {},
   "outputs": [],
   "source": []
  },
  {
   "cell_type": "markdown",
   "id": "0fe68a82",
   "metadata": {},
   "source": [
    "## We have no Fare here, so we'll set it to the mean of that Pclass "
   ]
  },
  {
   "cell_type": "code",
   "execution_count": null,
   "id": "e8d067e9",
   "metadata": {},
   "outputs": [],
   "source": [
    "df_test.loc[df_test['Fare'].isnull(),\n",
    "           'Fare'] = df.groupby(['Pclass'])['Fare'].mean()[3]"
   ]
  },
  {
   "cell_type": "code",
   "execution_count": null,
   "id": "6f4e2cd5",
   "metadata": {},
   "outputs": [],
   "source": []
  },
  {
   "cell_type": "code",
   "execution_count": null,
   "id": "92fa2959",
   "metadata": {},
   "outputs": [],
   "source": []
  },
  {
   "cell_type": "code",
   "execution_count": null,
   "id": "5524cba1",
   "metadata": {},
   "outputs": [],
   "source": []
  },
  {
   "cell_type": "code",
   "execution_count": null,
   "id": "a5608eb3",
   "metadata": {},
   "outputs": [],
   "source": []
  },
  {
   "cell_type": "code",
   "execution_count": null,
   "id": "b3263eb4",
   "metadata": {},
   "outputs": [],
   "source": []
  },
  {
   "cell_type": "code",
   "execution_count": 247,
   "id": "6d3675f4",
   "metadata": {
    "scrolled": false
   },
   "outputs": [
    {
     "data": {
      "image/png": "[encoded data removed]",
      "text/plain": [
       "<Figure size 432x288 with 1 Axes>"
      ]
     },
     "metadata": {
      "needs_background": "light"
     },
     "output_type": "display_data"
    },
    {
     "data": {
      "image/png": "[encoded data removed]",
      "text/plain": [
       "<Figure size 432x288 with 1 Axes>"
      ]
     },
     "metadata": {
      "needs_background": "light"
     },
     "output_type": "display_data"
    }
   ],
   "source": [
    "bins=10\n",
    "plt.hist(fare_survived, bins, alpha=0.6, label='survived', color='green')\n",
    "plt.xlim(right=90)\n",
    "plt.title(\"Survived\")\n",
    "plt.show()\n",
    "plt.clf()\n",
    "plt.hist(fare_died, bins, alpha=0.6, label='died', color='red')\n",
    "plt.xlim(right=90)\n",
    "plt.title(\"Died\")\n",
    "plt.show()"
   ]
  },
  {
   "cell_type": "code",
   "execution_count": null,
   "id": "95b43b2d",
   "metadata": {},
   "outputs": [],
   "source": []
  },
  {
   "cell_type": "code",
   "execution_count": null,
   "id": "fc1e6e67",
   "metadata": {},
   "outputs": [],
   "source": []
  }
 ],
 "metadata": {
  "kernelspec": {
   "display_name": "Python [conda env:data_science_env]",
   "language": "python",
   "name": "conda-env-data_science_env-py"
  },
  "language_info": {
   "codemirror_mode": {
    "name": "ipython",
    "version": 3
   },
   "file_extension": ".py",
   "mimetype": "text/x-python",
   "name": "python",
   "nbconvert_exporter": "python",
   "pygments_lexer": "ipython3",
   "version": "3.10.4"
  }
 },
 "nbformat": 4,
 "nbformat_minor": 5
}
